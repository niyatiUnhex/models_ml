{
  "nbformat": 4,
  "nbformat_minor": 0,
  "metadata": {
    "colab": {
      "name": "Decision_tree_by_NiyatiSharma.ipynb",
      "provenance": [],
      "collapsed_sections": []
    },
    "kernelspec": {
      "name": "python3",
      "display_name": "Python 3"
    },
    "language_info": {
      "name": "python"
    }
  },
  "cells": [
    {
      "cell_type": "code",
      "metadata": {
        "id": "f1M2pYc9wMKI"
      },
      "source": [
        "import numpy as np\n",
        "import pandas as pd\n",
        "import matplotlib.pyplot as plt\n",
        "import seaborn as sns\n",
        "%matplotlib inline\n",
        "\n",
        "# Importing sklearn Libraries\n",
        "from sklearn.model_selection import train_test_split\n",
        "from sklearn.tree import DecisionTreeClassifier, plot_tree\n",
        "from sklearn.metrics import accuracy_score\n",
        "from sklearn import tree\n",
        "from sklearn.metrics import confusion_matrix\n",
        "from sklearn.metrics import classification_report"
      ],
      "execution_count": null,
      "outputs": []
    },
    {
      "cell_type": "code",
      "metadata": {
        "id": "AhLOgQvOwfEw"
      },
      "source": [
        "#data = \"C:\\Users\\hELO\\Downloads\"\n",
        "df = pd.read_csv(\"/content/data_productPreference - Form responses 1.csv\")"
      ],
      "execution_count": null,
      "outputs": []
    },
    {
      "cell_type": "code",
      "metadata": {
        "colab": {
          "base_uri": "https://localhost:8080/"
        },
        "id": "WMY4ezQdwwjn",
        "outputId": "15fbac42-96d1-4576-e66f-af51e80b7b23"
      },
      "source": [
        "df.shape"
      ],
      "execution_count": null,
      "outputs": [
        {
          "output_type": "execute_result",
          "data": {
            "text/plain": [
              "(204, 10)"
            ]
          },
          "metadata": {
            "tags": []
          },
          "execution_count": 95
        }
      ]
    },
    {
      "cell_type": "code",
      "metadata": {
        "colab": {
          "base_uri": "https://localhost:8080/",
          "height": 323
        },
        "id": "bjDspplOwzAn",
        "outputId": "d50cdb00-8e46-483f-b836-4610fc17dbbe"
      },
      "source": [
        "df.head()"
      ],
      "execution_count": null,
      "outputs": [
        {
          "output_type": "execute_result",
          "data": {
            "text/html": [
              "<div>\n",
              "<style scoped>\n",
              "    .dataframe tbody tr th:only-of-type {\n",
              "        vertical-align: middle;\n",
              "    }\n",
              "\n",
              "    .dataframe tbody tr th {\n",
              "        vertical-align: top;\n",
              "    }\n",
              "\n",
              "    .dataframe thead th {\n",
              "        text-align: right;\n",
              "    }\n",
              "</style>\n",
              "<table border=\"1\" class=\"dataframe\">\n",
              "  <thead>\n",
              "    <tr style=\"text-align: right;\">\n",
              "      <th></th>\n",
              "      <th>Timestamp</th>\n",
              "      <th>Name</th>\n",
              "      <th>Your Age(in yrs)</th>\n",
              "      <th>Gender</th>\n",
              "      <th>State you live</th>\n",
              "      <th>City</th>\n",
              "      <th>What product among the following you would prefer to buy?</th>\n",
              "      <th>It belongs to which of the following category</th>\n",
              "      <th>What's it's price range?</th>\n",
              "      <th>Additional Information you want to give regarding that product?</th>\n",
              "    </tr>\n",
              "  </thead>\n",
              "  <tbody>\n",
              "    <tr>\n",
              "      <th>0</th>\n",
              "      <td>22/07/2021 01:29:43</td>\n",
              "      <td>G. Lavanya</td>\n",
              "      <td>20</td>\n",
              "      <td>Female</td>\n",
              "      <td>Delhi</td>\n",
              "      <td>South Delhi</td>\n",
              "      <td>Something to add in your closet</td>\n",
              "      <td>My personal fondness</td>\n",
              "      <td>500-2000</td>\n",
              "      <td>Comfortable, XL cloths be the best 🌝</td>\n",
              "    </tr>\n",
              "    <tr>\n",
              "      <th>1</th>\n",
              "      <td>22/07/2021 01:31:56</td>\n",
              "      <td>Bharti Arora</td>\n",
              "      <td>21</td>\n",
              "      <td>Female</td>\n",
              "      <td>Uttar Pradesh</td>\n",
              "      <td>Ghaziabad</td>\n",
              "      <td>Headphones/Earphones</td>\n",
              "      <td>Daily requirement</td>\n",
              "      <td>500-2000</td>\n",
              "      <td>Should be of good quality</td>\n",
              "    </tr>\n",
              "    <tr>\n",
              "      <th>2</th>\n",
              "      <td>22/07/2021 01:37:56</td>\n",
              "      <td>Kritika</td>\n",
              "      <td>19</td>\n",
              "      <td>Female</td>\n",
              "      <td>Delhi</td>\n",
              "      <td>Delhi</td>\n",
              "      <td>Headphones/Earphones</td>\n",
              "      <td>Entertainment/ Favourite Recreation</td>\n",
              "      <td>500-2000</td>\n",
              "      <td>Boat./ mivi / shullcandy</td>\n",
              "    </tr>\n",
              "    <tr>\n",
              "      <th>3</th>\n",
              "      <td>22/07/2021 01:38:11</td>\n",
              "      <td>Sampada Tarika</td>\n",
              "      <td>18</td>\n",
              "      <td>Female</td>\n",
              "      <td>Uttar Pradesh</td>\n",
              "      <td>Muzaffarnagar</td>\n",
              "      <td>Subscription of a streaming app</td>\n",
              "      <td>Entertainment/ Favourite Recreation</td>\n",
              "      <td>500-2000</td>\n",
              "      <td>NaN</td>\n",
              "    </tr>\n",
              "    <tr>\n",
              "      <th>4</th>\n",
              "      <td>22/07/2021 01:38:33</td>\n",
              "      <td>Divy</td>\n",
              "      <td>19</td>\n",
              "      <td>Male</td>\n",
              "      <td>Delhi</td>\n",
              "      <td>New Delhi</td>\n",
              "      <td>Book of your favourite genre</td>\n",
              "      <td>Entertainment/ Favourite Recreation</td>\n",
              "      <td>500-2000</td>\n",
              "      <td>Books from Gitapress Gorakhpur, books on the r...</td>\n",
              "    </tr>\n",
              "  </tbody>\n",
              "</table>\n",
              "</div>"
            ],
            "text/plain": [
              "             Timestamp  ... Additional Information you want to give regarding that product?\n",
              "0  22/07/2021 01:29:43  ...               Comfortable, XL cloths be the best 🌝             \n",
              "1  22/07/2021 01:31:56  ...                          Should be of good quality             \n",
              "2  22/07/2021 01:37:56  ...                           Boat./ mivi / shullcandy             \n",
              "3  22/07/2021 01:38:11  ...                                                NaN             \n",
              "4  22/07/2021 01:38:33  ...  Books from Gitapress Gorakhpur, books on the r...             \n",
              "\n",
              "[5 rows x 10 columns]"
            ]
          },
          "metadata": {
            "tags": []
          },
          "execution_count": 96
        }
      ]
    },
    {
      "cell_type": "code",
      "metadata": {
        "colab": {
          "base_uri": "https://localhost:8080/"
        },
        "id": "JMpQvmvSzdAC",
        "outputId": "414635d3-3404-4add-a7a3-d336ae759bc0"
      },
      "source": [
        "df.columns"
      ],
      "execution_count": null,
      "outputs": [
        {
          "output_type": "execute_result",
          "data": {
            "text/plain": [
              "Index(['Timestamp', 'Name', 'Your Age(in yrs)', 'Gender', 'State you live',\n",
              "       'City', 'What product among the following you would prefer to buy?',\n",
              "       'It belongs to which of the following category',\n",
              "       'What's it's price range?',\n",
              "       'Additional Information you want to give regarding that product?'],\n",
              "      dtype='object')"
            ]
          },
          "metadata": {
            "tags": []
          },
          "execution_count": 97
        }
      ]
    },
    {
      "cell_type": "code",
      "metadata": {
        "colab": {
          "base_uri": "https://localhost:8080/"
        },
        "id": "S90oYwuXU3f-",
        "outputId": "a2d3978f-e42a-44ab-9fc4-2c436e58dc6b"
      },
      "source": [
        "col_names = ['Timestamp', 'Name', 'Age(in yrs)', 'Gender', 'State','City', 'Willingness of product','Product Category','price-range', 'Additional Info']\n",
        "df.columns = col_names\n",
        "col_names\n",
        "#df.drop(labels = ['Timestamp', 'Name', 'blabla'], axis =1) \n"
      ],
      "execution_count": null,
      "outputs": [
        {
          "output_type": "execute_result",
          "data": {
            "text/plain": [
              "['Timestamp',\n",
              " 'Name',\n",
              " 'Age(in yrs)',\n",
              " 'Gender',\n",
              " 'State',\n",
              " 'City',\n",
              " 'Willingness of product',\n",
              " 'Product Category',\n",
              " 'price-range',\n",
              " 'Additional Info']"
            ]
          },
          "metadata": {
            "tags": []
          },
          "execution_count": 98
        }
      ]
    },
    {
      "cell_type": "code",
      "metadata": {
        "colab": {
          "base_uri": "https://localhost:8080/"
        },
        "id": "GtRUDQ4jXi4c",
        "outputId": "802f94c6-02f4-408e-b09c-41cb43271075"
      },
      "source": [
        "df.isnull().sum()"
      ],
      "execution_count": null,
      "outputs": [
        {
          "output_type": "execute_result",
          "data": {
            "text/plain": [
              "Timestamp                   0\n",
              "Name                        0\n",
              "Age(in yrs)                 0\n",
              "Gender                      0\n",
              "State                       0\n",
              "City                        0\n",
              "Willingness of product      0\n",
              "Product Category            0\n",
              "price-range                 0\n",
              "Additional Info           106\n",
              "dtype: int64"
            ]
          },
          "metadata": {
            "tags": []
          },
          "execution_count": 99
        }
      ]
    },
    {
      "cell_type": "code",
      "metadata": {
        "colab": {
          "base_uri": "https://localhost:8080/",
          "height": 204
        },
        "id": "PHUWDn6Y8HFd",
        "outputId": "e41e7386-324a-4c90-8bc7-cc99fa2efcbc"
      },
      "source": [
        "df = df.drop(labels = ['Timestamp', 'Name', 'Additional Info'], axis =1) \n",
        "df.head()"
      ],
      "execution_count": null,
      "outputs": [
        {
          "output_type": "execute_result",
          "data": {
            "text/html": [
              "<div>\n",
              "<style scoped>\n",
              "    .dataframe tbody tr th:only-of-type {\n",
              "        vertical-align: middle;\n",
              "    }\n",
              "\n",
              "    .dataframe tbody tr th {\n",
              "        vertical-align: top;\n",
              "    }\n",
              "\n",
              "    .dataframe thead th {\n",
              "        text-align: right;\n",
              "    }\n",
              "</style>\n",
              "<table border=\"1\" class=\"dataframe\">\n",
              "  <thead>\n",
              "    <tr style=\"text-align: right;\">\n",
              "      <th></th>\n",
              "      <th>Age(in yrs)</th>\n",
              "      <th>Gender</th>\n",
              "      <th>State</th>\n",
              "      <th>City</th>\n",
              "      <th>Willingness of product</th>\n",
              "      <th>Product Category</th>\n",
              "      <th>price-range</th>\n",
              "    </tr>\n",
              "  </thead>\n",
              "  <tbody>\n",
              "    <tr>\n",
              "      <th>0</th>\n",
              "      <td>20</td>\n",
              "      <td>Female</td>\n",
              "      <td>Delhi</td>\n",
              "      <td>South Delhi</td>\n",
              "      <td>Something to add in your closet</td>\n",
              "      <td>My personal fondness</td>\n",
              "      <td>500-2000</td>\n",
              "    </tr>\n",
              "    <tr>\n",
              "      <th>1</th>\n",
              "      <td>21</td>\n",
              "      <td>Female</td>\n",
              "      <td>Uttar Pradesh</td>\n",
              "      <td>Ghaziabad</td>\n",
              "      <td>Headphones/Earphones</td>\n",
              "      <td>Daily requirement</td>\n",
              "      <td>500-2000</td>\n",
              "    </tr>\n",
              "    <tr>\n",
              "      <th>2</th>\n",
              "      <td>19</td>\n",
              "      <td>Female</td>\n",
              "      <td>Delhi</td>\n",
              "      <td>Delhi</td>\n",
              "      <td>Headphones/Earphones</td>\n",
              "      <td>Entertainment/ Favourite Recreation</td>\n",
              "      <td>500-2000</td>\n",
              "    </tr>\n",
              "    <tr>\n",
              "      <th>3</th>\n",
              "      <td>18</td>\n",
              "      <td>Female</td>\n",
              "      <td>Uttar Pradesh</td>\n",
              "      <td>Muzaffarnagar</td>\n",
              "      <td>Subscription of a streaming app</td>\n",
              "      <td>Entertainment/ Favourite Recreation</td>\n",
              "      <td>500-2000</td>\n",
              "    </tr>\n",
              "    <tr>\n",
              "      <th>4</th>\n",
              "      <td>19</td>\n",
              "      <td>Male</td>\n",
              "      <td>Delhi</td>\n",
              "      <td>New Delhi</td>\n",
              "      <td>Book of your favourite genre</td>\n",
              "      <td>Entertainment/ Favourite Recreation</td>\n",
              "      <td>500-2000</td>\n",
              "    </tr>\n",
              "  </tbody>\n",
              "</table>\n",
              "</div>"
            ],
            "text/plain": [
              "   Age(in yrs)  Gender  ...                     Product Category price-range\n",
              "0           20  Female  ...                 My personal fondness    500-2000\n",
              "1           21  Female  ...                    Daily requirement    500-2000\n",
              "2           19  Female  ...  Entertainment/ Favourite Recreation    500-2000\n",
              "3           18  Female  ...  Entertainment/ Favourite Recreation    500-2000\n",
              "4           19    Male  ...  Entertainment/ Favourite Recreation    500-2000\n",
              "\n",
              "[5 rows x 7 columns]"
            ]
          },
          "metadata": {
            "tags": []
          },
          "execution_count": 100
        }
      ]
    },
    {
      "cell_type": "code",
      "metadata": {
        "colab": {
          "base_uri": "https://localhost:8080/"
        },
        "id": "huzoZ3C63KUc",
        "outputId": "1f54d2d9-1cf3-4dee-a777-3dce8f7c6823"
      },
      "source": [
        "col_names = ['Age(in yrs)', 'Gender', 'State','City', 'Willingness of product','Product Category','price-range']\n",
        "for col in col_names:\n",
        "  print(df[col].value_counts())"
      ],
      "execution_count": null,
      "outputs": [
        {
          "output_type": "stream",
          "text": [
            "18    65\n",
            "19    64\n",
            "20    25\n",
            "21    24\n",
            "17     7\n",
            "23     4\n",
            "24     3\n",
            "25     2\n",
            "16     2\n",
            "13     2\n",
            "92     1\n",
            "46     1\n",
            "29     1\n",
            "26     1\n",
            "22     1\n",
            "15     1\n",
            "Name: Age(in yrs), dtype: int64\n",
            "Female    139\n",
            "Male       65\n",
            "Name: Gender, dtype: int64\n",
            "Delhi                72\n",
            "Uttar Pradesh        59\n",
            "West Bengal           9\n",
            "Uttar Pradesh         7\n",
            "Haryana               7\n",
            "Rajasthan             7\n",
            "Haryana               5\n",
            "Madhya Pradesh        5\n",
            "Delhi                 4\n",
            "Bihar                 3\n",
            "Uttarakhand           3\n",
            "Bengaluru             2\n",
            "Maharashtra           2\n",
            "New Delhi             2\n",
            "Jharkhand             2\n",
            "Madhya Pradesh        1\n",
            "Odisha                1\n",
            "California            1\n",
            "Tamilnadu             1\n",
            "Uttar Pradesh         1\n",
            "Manipur               1\n",
            "Jammu And Kashmir     1\n",
            "West Bengal           1\n",
            "Uttar Pardesh         1\n",
            "Assam, India          1\n",
            "Gujarat               1\n",
            "Goa                   1\n",
            "Gujarat               1\n",
            "Maharashtra           1\n",
            "Assam                 1\n",
            "Name: State, dtype: int64\n",
            "New Delhi                35\n",
            "Delhi                    32\n",
            "Ghaziabad                14\n",
            "Asansol                   9\n",
            "Lucknow                   9\n",
            "                         ..\n",
            "Howrah                    1\n",
            "Vaishali                  1\n",
            "Verna                     1\n",
            "Dehradun                  1\n",
            "Vikaspuri, New Delhi      1\n",
            "Name: City, Length: 79, dtype: int64\n",
            "Laptop/PC/Tablet                   59\n",
            "Headphones/Earphones               36\n",
            "Book of your favourite genre       32\n",
            "Something to add in your closet    26\n",
            "Smartwatch                         22\n",
            "Subscription of a streaming app    13\n",
            "Healthcare item                    11\n",
            "Something Personal                  1\n",
            "BTS concert tickets                 1\n",
            "Jet plane                           1\n",
            "stationery and craft items          1\n",
            "DSLR CAMERA (HIGH END)              1\n",
            "Name: Willingness of product, dtype: int64\n",
            "Entertainment/ Favourite Recreation    113\n",
            "My personal fondness                    73\n",
            "Daily requirement                       18\n",
            "Name: Product Category, dtype: int64\n",
            "500-2000           97\n",
            "More than 10000    54\n",
            "2000-5000          30\n",
            "5000-10000         23\n",
            "Name: price-range, dtype: int64\n"
          ],
          "name": "stdout"
        }
      ]
    },
    {
      "cell_type": "code",
      "metadata": {
        "colab": {
          "base_uri": "https://localhost:8080/",
          "height": 297
        },
        "id": "ryWng4ERX5ay",
        "outputId": "41084287-3450-43f8-a2a6-ff12da8145cc"
      },
      "source": [
        "df.describe()"
      ],
      "execution_count": null,
      "outputs": [
        {
          "output_type": "execute_result",
          "data": {
            "text/html": [
              "<div>\n",
              "<style scoped>\n",
              "    .dataframe tbody tr th:only-of-type {\n",
              "        vertical-align: middle;\n",
              "    }\n",
              "\n",
              "    .dataframe tbody tr th {\n",
              "        vertical-align: top;\n",
              "    }\n",
              "\n",
              "    .dataframe thead th {\n",
              "        text-align: right;\n",
              "    }\n",
              "</style>\n",
              "<table border=\"1\" class=\"dataframe\">\n",
              "  <thead>\n",
              "    <tr style=\"text-align: right;\">\n",
              "      <th></th>\n",
              "      <th>Age(in yrs)</th>\n",
              "    </tr>\n",
              "  </thead>\n",
              "  <tbody>\n",
              "    <tr>\n",
              "      <th>count</th>\n",
              "      <td>204.000000</td>\n",
              "    </tr>\n",
              "    <tr>\n",
              "      <th>mean</th>\n",
              "      <td>19.661765</td>\n",
              "    </tr>\n",
              "    <tr>\n",
              "      <th>std</th>\n",
              "      <td>5.726811</td>\n",
              "    </tr>\n",
              "    <tr>\n",
              "      <th>min</th>\n",
              "      <td>13.000000</td>\n",
              "    </tr>\n",
              "    <tr>\n",
              "      <th>25%</th>\n",
              "      <td>18.000000</td>\n",
              "    </tr>\n",
              "    <tr>\n",
              "      <th>50%</th>\n",
              "      <td>19.000000</td>\n",
              "    </tr>\n",
              "    <tr>\n",
              "      <th>75%</th>\n",
              "      <td>20.000000</td>\n",
              "    </tr>\n",
              "    <tr>\n",
              "      <th>max</th>\n",
              "      <td>92.000000</td>\n",
              "    </tr>\n",
              "  </tbody>\n",
              "</table>\n",
              "</div>"
            ],
            "text/plain": [
              "       Age(in yrs)\n",
              "count   204.000000\n",
              "mean     19.661765\n",
              "std       5.726811\n",
              "min      13.000000\n",
              "25%      18.000000\n",
              "50%      19.000000\n",
              "75%      20.000000\n",
              "max      92.000000"
            ]
          },
          "metadata": {
            "tags": []
          },
          "execution_count": 103
        }
      ]
    },
    {
      "cell_type": "code",
      "metadata": {
        "colab": {
          "base_uri": "https://localhost:8080/"
        },
        "id": "6QNY3WqPX-Ub",
        "outputId": "d55e2d6d-ca73-4e45-df46-b4deac2ad472"
      },
      "source": [
        "df.info()"
      ],
      "execution_count": null,
      "outputs": [
        {
          "output_type": "stream",
          "text": [
            "<class 'pandas.core.frame.DataFrame'>\n",
            "RangeIndex: 204 entries, 0 to 203\n",
            "Data columns (total 7 columns):\n",
            " #   Column                  Non-Null Count  Dtype \n",
            "---  ------                  --------------  ----- \n",
            " 0   Age(in yrs)             204 non-null    int64 \n",
            " 1   Gender                  204 non-null    object\n",
            " 2   State                   204 non-null    object\n",
            " 3   City                    204 non-null    object\n",
            " 4   Willingness of product  204 non-null    object\n",
            " 5   Product Category        204 non-null    object\n",
            " 6   price-range             204 non-null    object\n",
            "dtypes: int64(1), object(6)\n",
            "memory usage: 11.3+ KB\n"
          ],
          "name": "stdout"
        }
      ]
    },
    {
      "cell_type": "code",
      "metadata": {
        "colab": {
          "base_uri": "https://localhost:8080/"
        },
        "id": "hAclGsEKzrAk",
        "outputId": "38d86977-e2a3-42f5-a0d1-7237939c80b4"
      },
      "source": [
        "df.info()"
      ],
      "execution_count": null,
      "outputs": [
        {
          "output_type": "stream",
          "text": [
            "<class 'pandas.core.frame.DataFrame'>\n",
            "RangeIndex: 204 entries, 0 to 203\n",
            "Data columns (total 7 columns):\n",
            " #   Column                  Non-Null Count  Dtype \n",
            "---  ------                  --------------  ----- \n",
            " 0   Age(in yrs)             204 non-null    int64 \n",
            " 1   Gender                  204 non-null    object\n",
            " 2   State                   204 non-null    object\n",
            " 3   City                    204 non-null    object\n",
            " 4   Willingness of product  204 non-null    object\n",
            " 5   Product Category        204 non-null    object\n",
            " 6   price-range             204 non-null    object\n",
            "dtypes: int64(1), object(6)\n",
            "memory usage: 11.3+ KB\n"
          ],
          "name": "stdout"
        }
      ]
    },
    {
      "cell_type": "code",
      "metadata": {
        "colab": {
          "base_uri": "https://localhost:8080/"
        },
        "id": "YEyVBfeRXRtF",
        "outputId": "073367b6-6927-46e4-fc1a-d8255fa3ea1c"
      },
      "source": [
        "df.isnull().sum()"
      ],
      "execution_count": null,
      "outputs": [
        {
          "output_type": "execute_result",
          "data": {
            "text/plain": [
              "Age(in yrs)               0\n",
              "Gender                    0\n",
              "State                     0\n",
              "City                      0\n",
              "Willingness of product    0\n",
              "Product Category          0\n",
              "price-range               0\n",
              "dtype: int64"
            ]
          },
          "metadata": {
            "tags": []
          },
          "execution_count": 106
        }
      ]
    },
    {
      "cell_type": "code",
      "metadata": {
        "id": "JRqTAF0Ezwgs",
        "colab": {
          "base_uri": "https://localhost:8080/"
        },
        "outputId": "a2c36cfd-6a65-4d04-8f0b-496dfe4b7272"
      },
      "source": [
        "df['Product Category'].value_counts()"
      ],
      "execution_count": null,
      "outputs": [
        {
          "output_type": "execute_result",
          "data": {
            "text/plain": [
              "Entertainment/ Favourite Recreation    113\n",
              "My personal fondness                    73\n",
              "Daily requirement                       18\n",
              "Name: Product Category, dtype: int64"
            ]
          },
          "metadata": {
            "tags": []
          },
          "execution_count": 107
        }
      ]
    },
    {
      "cell_type": "code",
      "metadata": {
        "id": "UG0GCK7Ezx0m"
      },
      "source": [
        "X = df.drop(['Product Category'], axis=1)\n",
        "y = df['Product Category']"
      ],
      "execution_count": null,
      "outputs": []
    },
    {
      "cell_type": "code",
      "metadata": {
        "id": "Mbho0qpqzxxg"
      },
      "source": [
        "# split X and y into training and testing sets\n",
        "X_train, X_test, y_train, y_test = train_test_split(X, y, test_size = 0.33, random_state = 42)"
      ],
      "execution_count": null,
      "outputs": []
    },
    {
      "cell_type": "code",
      "metadata": {
        "id": "7V1C4kmizxu1",
        "colab": {
          "base_uri": "https://localhost:8080/"
        },
        "outputId": "acb6405e-a4db-40b0-f352-c940cc0f949a"
      },
      "source": [
        "#check the shape of X_train and X_test\n",
        "X_train.shape, X_test.shape"
      ],
      "execution_count": null,
      "outputs": [
        {
          "output_type": "execute_result",
          "data": {
            "text/plain": [
              "((136, 6), (68, 6))"
            ]
          },
          "metadata": {
            "tags": []
          },
          "execution_count": 113
        }
      ]
    },
    {
      "cell_type": "code",
      "metadata": {
        "id": "dKJFY5qUzxsd",
        "colab": {
          "base_uri": "https://localhost:8080/"
        },
        "outputId": "f3020548-340d-4c31-cba5-4adb480fb210"
      },
      "source": [
        "X_train.dtypes"
      ],
      "execution_count": null,
      "outputs": [
        {
          "output_type": "execute_result",
          "data": {
            "text/plain": [
              "Age(in yrs)                int64\n",
              "Gender                    object\n",
              "State                     object\n",
              "City                      object\n",
              "Willingness of product    object\n",
              "price-range               object\n",
              "dtype: object"
            ]
          },
          "metadata": {
            "tags": []
          },
          "execution_count": 114
        }
      ]
    },
    {
      "cell_type": "code",
      "metadata": {
        "id": "0hDXaZ48zxp5",
        "colab": {
          "base_uri": "https://localhost:8080/",
          "height": 204
        },
        "outputId": "f194c059-f7ee-4c5c-cb91-050b25b3dbd9"
      },
      "source": [
        "X_train.head()"
      ],
      "execution_count": null,
      "outputs": [
        {
          "output_type": "execute_result",
          "data": {
            "text/html": [
              "<div>\n",
              "<style scoped>\n",
              "    .dataframe tbody tr th:only-of-type {\n",
              "        vertical-align: middle;\n",
              "    }\n",
              "\n",
              "    .dataframe tbody tr th {\n",
              "        vertical-align: top;\n",
              "    }\n",
              "\n",
              "    .dataframe thead th {\n",
              "        text-align: right;\n",
              "    }\n",
              "</style>\n",
              "<table border=\"1\" class=\"dataframe\">\n",
              "  <thead>\n",
              "    <tr style=\"text-align: right;\">\n",
              "      <th></th>\n",
              "      <th>Age(in yrs)</th>\n",
              "      <th>Gender</th>\n",
              "      <th>State</th>\n",
              "      <th>City</th>\n",
              "      <th>Willingness of product</th>\n",
              "      <th>price-range</th>\n",
              "    </tr>\n",
              "  </thead>\n",
              "  <tbody>\n",
              "    <tr>\n",
              "      <th>75</th>\n",
              "      <td>19</td>\n",
              "      <td>Female</td>\n",
              "      <td>Uttar Pradesh</td>\n",
              "      <td>Ghaziabad</td>\n",
              "      <td>Smartwatch</td>\n",
              "      <td>2000-5000</td>\n",
              "    </tr>\n",
              "    <tr>\n",
              "      <th>197</th>\n",
              "      <td>20</td>\n",
              "      <td>Male</td>\n",
              "      <td>Bengaluru</td>\n",
              "      <td>Karnataka</td>\n",
              "      <td>Subscription of a streaming app</td>\n",
              "      <td>2000-5000</td>\n",
              "    </tr>\n",
              "    <tr>\n",
              "      <th>139</th>\n",
              "      <td>18</td>\n",
              "      <td>Female</td>\n",
              "      <td>Haryana</td>\n",
              "      <td>Safidon</td>\n",
              "      <td>Laptop/PC/Tablet</td>\n",
              "      <td>5000-10000</td>\n",
              "    </tr>\n",
              "    <tr>\n",
              "      <th>51</th>\n",
              "      <td>19</td>\n",
              "      <td>Female</td>\n",
              "      <td>Delhi</td>\n",
              "      <td>New Delhi</td>\n",
              "      <td>Smartwatch</td>\n",
              "      <td>500-2000</td>\n",
              "    </tr>\n",
              "    <tr>\n",
              "      <th>122</th>\n",
              "      <td>19</td>\n",
              "      <td>Male</td>\n",
              "      <td>Madhya Pradesh</td>\n",
              "      <td>Katni</td>\n",
              "      <td>Book of your favourite genre</td>\n",
              "      <td>500-2000</td>\n",
              "    </tr>\n",
              "  </tbody>\n",
              "</table>\n",
              "</div>"
            ],
            "text/plain": [
              "     Age(in yrs)  Gender  ...           Willingness of product price-range\n",
              "75            19  Female  ...                       Smartwatch   2000-5000\n",
              "197           20    Male  ...  Subscription of a streaming app   2000-5000\n",
              "139           18  Female  ...                 Laptop/PC/Tablet  5000-10000\n",
              "51            19  Female  ...                       Smartwatch    500-2000\n",
              "122           19    Male  ...     Book of your favourite genre    500-2000\n",
              "\n",
              "[5 rows x 6 columns]"
            ]
          },
          "metadata": {
            "tags": []
          },
          "execution_count": 115
        }
      ]
    },
    {
      "cell_type": "code",
      "metadata": {
        "colab": {
          "base_uri": "https://localhost:8080/"
        },
        "id": "dsL8pclE6M7z",
        "outputId": "b8440d0e-622b-4524-ac06-8808ed886ff0"
      },
      "source": [
        "pip install category_encoders"
      ],
      "execution_count": null,
      "outputs": [
        {
          "output_type": "stream",
          "text": [
            "Requirement already satisfied: category_encoders in /usr/local/lib/python3.7/dist-packages (2.2.2)\n",
            "Requirement already satisfied: scipy>=1.0.0 in /usr/local/lib/python3.7/dist-packages (from category_encoders) (1.4.1)\n",
            "Requirement already satisfied: pandas>=0.21.1 in /usr/local/lib/python3.7/dist-packages (from category_encoders) (1.1.5)\n",
            "Requirement already satisfied: scikit-learn>=0.20.0 in /usr/local/lib/python3.7/dist-packages (from category_encoders) (0.22.2.post1)\n",
            "Requirement already satisfied: statsmodels>=0.9.0 in /usr/local/lib/python3.7/dist-packages (from category_encoders) (0.10.2)\n",
            "Requirement already satisfied: patsy>=0.5.1 in /usr/local/lib/python3.7/dist-packages (from category_encoders) (0.5.1)\n",
            "Requirement already satisfied: numpy>=1.14.0 in /usr/local/lib/python3.7/dist-packages (from category_encoders) (1.19.5)\n",
            "Requirement already satisfied: pytz>=2017.2 in /usr/local/lib/python3.7/dist-packages (from pandas>=0.21.1->category_encoders) (2018.9)\n",
            "Requirement already satisfied: python-dateutil>=2.7.3 in /usr/local/lib/python3.7/dist-packages (from pandas>=0.21.1->category_encoders) (2.8.1)\n",
            "Requirement already satisfied: six in /usr/local/lib/python3.7/dist-packages (from patsy>=0.5.1->category_encoders) (1.15.0)\n",
            "Requirement already satisfied: joblib>=0.11 in /usr/local/lib/python3.7/dist-packages (from scikit-learn>=0.20.0->category_encoders) (1.0.1)\n"
          ],
          "name": "stdout"
        }
      ]
    },
    {
      "cell_type": "code",
      "metadata": {
        "id": "d-NsmVw1zxnM"
      },
      "source": [
        "# import category encoders\n",
        "import category_encoders as ce"
      ],
      "execution_count": null,
      "outputs": []
    },
    {
      "cell_type": "code",
      "metadata": {
        "id": "arusH1gpzxlF",
        "colab": {
          "base_uri": "https://localhost:8080/"
        },
        "outputId": "6b650640-7393-4be3-be57-3294970de518"
      },
      "source": [
        "encoder = ce.OrdinalEncoder(cols = ['Age(in yrs)', 'Gender', 'State','City', 'Willingness of product', 'price-range'])\n",
        "X_train = encoder.fit_transform(X_train)\n",
        "X_test = encoder.transform(X_test)"
      ],
      "execution_count": null,
      "outputs": [
        {
          "output_type": "stream",
          "text": [
            "/usr/local/lib/python3.7/dist-packages/category_encoders/utils.py:21: FutureWarning: is_categorical is deprecated and will be removed in a future version.  Use is_categorical_dtype instead\n",
            "  elif pd.api.types.is_categorical(cols):\n"
          ],
          "name": "stderr"
        }
      ]
    },
    {
      "cell_type": "code",
      "metadata": {
        "id": "EOTy1qpBzxhy",
        "colab": {
          "base_uri": "https://localhost:8080/",
          "height": 204
        },
        "outputId": "1a7cad83-ece2-45b7-b124-c2e04451c019"
      },
      "source": [
        "X_train.head()"
      ],
      "execution_count": null,
      "outputs": [
        {
          "output_type": "execute_result",
          "data": {
            "text/html": [
              "<div>\n",
              "<style scoped>\n",
              "    .dataframe tbody tr th:only-of-type {\n",
              "        vertical-align: middle;\n",
              "    }\n",
              "\n",
              "    .dataframe tbody tr th {\n",
              "        vertical-align: top;\n",
              "    }\n",
              "\n",
              "    .dataframe thead th {\n",
              "        text-align: right;\n",
              "    }\n",
              "</style>\n",
              "<table border=\"1\" class=\"dataframe\">\n",
              "  <thead>\n",
              "    <tr style=\"text-align: right;\">\n",
              "      <th></th>\n",
              "      <th>Age(in yrs)</th>\n",
              "      <th>Gender</th>\n",
              "      <th>State</th>\n",
              "      <th>City</th>\n",
              "      <th>Willingness of product</th>\n",
              "      <th>price-range</th>\n",
              "    </tr>\n",
              "  </thead>\n",
              "  <tbody>\n",
              "    <tr>\n",
              "      <th>75</th>\n",
              "      <td>1</td>\n",
              "      <td>1</td>\n",
              "      <td>1</td>\n",
              "      <td>1</td>\n",
              "      <td>1</td>\n",
              "      <td>1</td>\n",
              "    </tr>\n",
              "    <tr>\n",
              "      <th>197</th>\n",
              "      <td>2</td>\n",
              "      <td>2</td>\n",
              "      <td>2</td>\n",
              "      <td>2</td>\n",
              "      <td>2</td>\n",
              "      <td>1</td>\n",
              "    </tr>\n",
              "    <tr>\n",
              "      <th>139</th>\n",
              "      <td>3</td>\n",
              "      <td>1</td>\n",
              "      <td>3</td>\n",
              "      <td>3</td>\n",
              "      <td>3</td>\n",
              "      <td>2</td>\n",
              "    </tr>\n",
              "    <tr>\n",
              "      <th>51</th>\n",
              "      <td>1</td>\n",
              "      <td>1</td>\n",
              "      <td>4</td>\n",
              "      <td>4</td>\n",
              "      <td>1</td>\n",
              "      <td>3</td>\n",
              "    </tr>\n",
              "    <tr>\n",
              "      <th>122</th>\n",
              "      <td>1</td>\n",
              "      <td>2</td>\n",
              "      <td>5</td>\n",
              "      <td>5</td>\n",
              "      <td>4</td>\n",
              "      <td>3</td>\n",
              "    </tr>\n",
              "  </tbody>\n",
              "</table>\n",
              "</div>"
            ],
            "text/plain": [
              "     Age(in yrs)  Gender  State  City  Willingness of product  price-range\n",
              "75             1       1      1     1                       1            1\n",
              "197            2       2      2     2                       2            1\n",
              "139            3       1      3     3                       3            2\n",
              "51             1       1      4     4                       1            3\n",
              "122            1       2      5     5                       4            3"
            ]
          },
          "metadata": {
            "tags": []
          },
          "execution_count": 119
        }
      ]
    },
    {
      "cell_type": "code",
      "metadata": {
        "id": "DOsO2c3fzxe4",
        "colab": {
          "base_uri": "https://localhost:8080/",
          "height": 204
        },
        "outputId": "a16b9d09-b93e-415d-994b-2037ffbb707a"
      },
      "source": [
        "X_test.head()"
      ],
      "execution_count": null,
      "outputs": [
        {
          "output_type": "execute_result",
          "data": {
            "text/html": [
              "<div>\n",
              "<style scoped>\n",
              "    .dataframe tbody tr th:only-of-type {\n",
              "        vertical-align: middle;\n",
              "    }\n",
              "\n",
              "    .dataframe tbody tr th {\n",
              "        vertical-align: top;\n",
              "    }\n",
              "\n",
              "    .dataframe thead th {\n",
              "        text-align: right;\n",
              "    }\n",
              "</style>\n",
              "<table border=\"1\" class=\"dataframe\">\n",
              "  <thead>\n",
              "    <tr style=\"text-align: right;\">\n",
              "      <th></th>\n",
              "      <th>Age(in yrs)</th>\n",
              "      <th>Gender</th>\n",
              "      <th>State</th>\n",
              "      <th>City</th>\n",
              "      <th>Willingness of product</th>\n",
              "      <th>price-range</th>\n",
              "    </tr>\n",
              "  </thead>\n",
              "  <tbody>\n",
              "    <tr>\n",
              "      <th>15</th>\n",
              "      <td>3.0</td>\n",
              "      <td>2</td>\n",
              "      <td>10.0</td>\n",
              "      <td>-1.0</td>\n",
              "      <td>1.0</td>\n",
              "      <td>3</td>\n",
              "    </tr>\n",
              "    <tr>\n",
              "      <th>9</th>\n",
              "      <td>3.0</td>\n",
              "      <td>1</td>\n",
              "      <td>-1.0</td>\n",
              "      <td>-1.0</td>\n",
              "      <td>4.0</td>\n",
              "      <td>3</td>\n",
              "    </tr>\n",
              "    <tr>\n",
              "      <th>115</th>\n",
              "      <td>-1.0</td>\n",
              "      <td>2</td>\n",
              "      <td>4.0</td>\n",
              "      <td>9.0</td>\n",
              "      <td>-1.0</td>\n",
              "      <td>4</td>\n",
              "    </tr>\n",
              "    <tr>\n",
              "      <th>78</th>\n",
              "      <td>2.0</td>\n",
              "      <td>1</td>\n",
              "      <td>1.0</td>\n",
              "      <td>-1.0</td>\n",
              "      <td>3.0</td>\n",
              "      <td>4</td>\n",
              "    </tr>\n",
              "    <tr>\n",
              "      <th>66</th>\n",
              "      <td>1.0</td>\n",
              "      <td>2</td>\n",
              "      <td>12.0</td>\n",
              "      <td>28.0</td>\n",
              "      <td>7.0</td>\n",
              "      <td>3</td>\n",
              "    </tr>\n",
              "  </tbody>\n",
              "</table>\n",
              "</div>"
            ],
            "text/plain": [
              "     Age(in yrs)  Gender  State  City  Willingness of product  price-range\n",
              "15           3.0       2   10.0  -1.0                     1.0            3\n",
              "9            3.0       1   -1.0  -1.0                     4.0            3\n",
              "115         -1.0       2    4.0   9.0                    -1.0            4\n",
              "78           2.0       1    1.0  -1.0                     3.0            4\n",
              "66           1.0       2   12.0  28.0                     7.0            3"
            ]
          },
          "metadata": {
            "tags": []
          },
          "execution_count": 120
        }
      ]
    },
    {
      "cell_type": "code",
      "metadata": {
        "id": "5Lu3cgE0zxXS",
        "colab": {
          "base_uri": "https://localhost:8080/"
        },
        "outputId": "2bcb8e10-ea74-40b1-b3b9-4b8148a07eaa"
      },
      "source": [
        "# instantiate the DecisionTreeClassifier model with criterion gini index\n",
        "clf_gini = DecisionTreeClassifier(criterion='gini', max_depth=3, random_state=0)\n",
        "\n",
        "# fit the model\n",
        "clf_gini.fit(X_train, y_train)"
      ],
      "execution_count": null,
      "outputs": [
        {
          "output_type": "execute_result",
          "data": {
            "text/plain": [
              "DecisionTreeClassifier(ccp_alpha=0.0, class_weight=None, criterion='gini',\n",
              "                       max_depth=3, max_features=None, max_leaf_nodes=None,\n",
              "                       min_impurity_decrease=0.0, min_impurity_split=None,\n",
              "                       min_samples_leaf=1, min_samples_split=2,\n",
              "                       min_weight_fraction_leaf=0.0, presort='deprecated',\n",
              "                       random_state=0, splitter='best')"
            ]
          },
          "metadata": {
            "tags": []
          },
          "execution_count": 121
        }
      ]
    },
    {
      "cell_type": "code",
      "metadata": {
        "id": "1X-z1ijzzxOA"
      },
      "source": [
        "y_pred_gini = clf_gini.predict(X_test)"
      ],
      "execution_count": null,
      "outputs": []
    },
    {
      "cell_type": "code",
      "metadata": {
        "id": "Gg7YDY1SzxCh",
        "colab": {
          "base_uri": "https://localhost:8080/"
        },
        "outputId": "27018c46-e6a7-408d-a245-9e646df3035b"
      },
      "source": [
        "print('\\nModel accuracy score with criterion gini index: {0:0.4f}'. format(accuracy_score(y_test, y_pred_gini)))"
      ],
      "execution_count": null,
      "outputs": [
        {
          "output_type": "stream",
          "text": [
            "\n",
            "Model accuracy score with criterion gini index: 0.7500\n"
          ],
          "name": "stdout"
        }
      ]
    },
    {
      "cell_type": "code",
      "metadata": {
        "id": "LpiFMRhzzwVx",
        "colab": {
          "base_uri": "https://localhost:8080/"
        },
        "outputId": "1550cb3f-2620-4720-b8f3-0fe052fb52a6"
      },
      "source": [
        "y_pred_train_gini = clf_gini.predict(X_train)\n"
      ],
      "execution_count": null,
      "outputs": [
        {
          "output_type": "execute_result",
          "data": {
            "text/plain": [
              "array(['Entertainment/ Favourite Recreation',\n",
              "       'Entertainment/ Favourite Recreation',\n",
              "       'Entertainment/ Favourite Recreation', 'My personal fondness',\n",
              "       'Entertainment/ Favourite Recreation', 'My personal fondness',\n",
              "       'Daily requirement', 'Entertainment/ Favourite Recreation',\n",
              "       'Entertainment/ Favourite Recreation',\n",
              "       'Entertainment/ Favourite Recreation',\n",
              "       'Entertainment/ Favourite Recreation',\n",
              "       'Entertainment/ Favourite Recreation',\n",
              "       'Entertainment/ Favourite Recreation',\n",
              "       'Entertainment/ Favourite Recreation',\n",
              "       'Entertainment/ Favourite Recreation',\n",
              "       'Entertainment/ Favourite Recreation',\n",
              "       'Entertainment/ Favourite Recreation',\n",
              "       'Entertainment/ Favourite Recreation', 'My personal fondness',\n",
              "       'Entertainment/ Favourite Recreation',\n",
              "       'Entertainment/ Favourite Recreation', 'My personal fondness',\n",
              "       'Entertainment/ Favourite Recreation',\n",
              "       'Entertainment/ Favourite Recreation',\n",
              "       'Entertainment/ Favourite Recreation',\n",
              "       'Entertainment/ Favourite Recreation',\n",
              "       'Entertainment/ Favourite Recreation', 'My personal fondness',\n",
              "       'Entertainment/ Favourite Recreation', 'My personal fondness',\n",
              "       'Entertainment/ Favourite Recreation',\n",
              "       'Entertainment/ Favourite Recreation',\n",
              "       'Entertainment/ Favourite Recreation',\n",
              "       'Entertainment/ Favourite Recreation',\n",
              "       'Entertainment/ Favourite Recreation',\n",
              "       'Entertainment/ Favourite Recreation',\n",
              "       'Entertainment/ Favourite Recreation',\n",
              "       'Entertainment/ Favourite Recreation',\n",
              "       'Entertainment/ Favourite Recreation', 'My personal fondness',\n",
              "       'Entertainment/ Favourite Recreation',\n",
              "       'Entertainment/ Favourite Recreation',\n",
              "       'Entertainment/ Favourite Recreation',\n",
              "       'Entertainment/ Favourite Recreation', 'My personal fondness',\n",
              "       'Entertainment/ Favourite Recreation',\n",
              "       'Entertainment/ Favourite Recreation', 'Daily requirement',\n",
              "       'Entertainment/ Favourite Recreation',\n",
              "       'Entertainment/ Favourite Recreation',\n",
              "       'Entertainment/ Favourite Recreation',\n",
              "       'Entertainment/ Favourite Recreation',\n",
              "       'Entertainment/ Favourite Recreation',\n",
              "       'Entertainment/ Favourite Recreation',\n",
              "       'Entertainment/ Favourite Recreation',\n",
              "       'Entertainment/ Favourite Recreation',\n",
              "       'Entertainment/ Favourite Recreation',\n",
              "       'Entertainment/ Favourite Recreation',\n",
              "       'Entertainment/ Favourite Recreation', 'My personal fondness',\n",
              "       'Entertainment/ Favourite Recreation',\n",
              "       'Entertainment/ Favourite Recreation',\n",
              "       'Entertainment/ Favourite Recreation',\n",
              "       'Entertainment/ Favourite Recreation', 'My personal fondness',\n",
              "       'Entertainment/ Favourite Recreation',\n",
              "       'Entertainment/ Favourite Recreation',\n",
              "       'Entertainment/ Favourite Recreation',\n",
              "       'Entertainment/ Favourite Recreation', 'My personal fondness',\n",
              "       'Entertainment/ Favourite Recreation',\n",
              "       'Entertainment/ Favourite Recreation',\n",
              "       'Entertainment/ Favourite Recreation',\n",
              "       'Entertainment/ Favourite Recreation',\n",
              "       'Entertainment/ Favourite Recreation',\n",
              "       'Entertainment/ Favourite Recreation',\n",
              "       'Entertainment/ Favourite Recreation',\n",
              "       'Entertainment/ Favourite Recreation',\n",
              "       'Entertainment/ Favourite Recreation',\n",
              "       'Entertainment/ Favourite Recreation', 'My personal fondness',\n",
              "       'My personal fondness', 'Daily requirement',\n",
              "       'Entertainment/ Favourite Recreation',\n",
              "       'Entertainment/ Favourite Recreation',\n",
              "       'Entertainment/ Favourite Recreation', 'My personal fondness',\n",
              "       'Entertainment/ Favourite Recreation',\n",
              "       'Entertainment/ Favourite Recreation', 'My personal fondness',\n",
              "       'Entertainment/ Favourite Recreation',\n",
              "       'Entertainment/ Favourite Recreation', 'My personal fondness',\n",
              "       'My personal fondness', 'Entertainment/ Favourite Recreation',\n",
              "       'Entertainment/ Favourite Recreation', 'My personal fondness',\n",
              "       'Entertainment/ Favourite Recreation', 'Daily requirement',\n",
              "       'Daily requirement', 'My personal fondness',\n",
              "       'Entertainment/ Favourite Recreation', 'My personal fondness',\n",
              "       'Entertainment/ Favourite Recreation', 'My personal fondness',\n",
              "       'My personal fondness', 'Entertainment/ Favourite Recreation',\n",
              "       'Entertainment/ Favourite Recreation',\n",
              "       'Entertainment/ Favourite Recreation', 'My personal fondness',\n",
              "       'Entertainment/ Favourite Recreation',\n",
              "       'Entertainment/ Favourite Recreation',\n",
              "       'Entertainment/ Favourite Recreation',\n",
              "       'Entertainment/ Favourite Recreation', 'Daily requirement',\n",
              "       'Entertainment/ Favourite Recreation',\n",
              "       'Entertainment/ Favourite Recreation',\n",
              "       'Entertainment/ Favourite Recreation', 'Daily requirement',\n",
              "       'Entertainment/ Favourite Recreation',\n",
              "       'Entertainment/ Favourite Recreation',\n",
              "       'Entertainment/ Favourite Recreation',\n",
              "       'Entertainment/ Favourite Recreation', 'My personal fondness',\n",
              "       'Entertainment/ Favourite Recreation', 'Daily requirement',\n",
              "       'Entertainment/ Favourite Recreation', 'My personal fondness',\n",
              "       'Entertainment/ Favourite Recreation',\n",
              "       'Entertainment/ Favourite Recreation',\n",
              "       'Entertainment/ Favourite Recreation',\n",
              "       'Entertainment/ Favourite Recreation', 'My personal fondness',\n",
              "       'Entertainment/ Favourite Recreation',\n",
              "       'Entertainment/ Favourite Recreation',\n",
              "       'Entertainment/ Favourite Recreation'], dtype=object)"
            ]
          },
          "metadata": {
            "tags": []
          },
          "execution_count": 124
        }
      ]
    },
    {
      "cell_type": "code",
      "metadata": {
        "id": "Z9vfDw5q3DCw",
        "colab": {
          "base_uri": "https://localhost:8080/"
        },
        "outputId": "ac33fe1c-1795-4a11-d877-9d24a51a81e1"
      },
      "source": [
        "print('Training-set accuracy score: {0:0.4f}'. format(accuracy_score(y_train, y_pred_train_gini)))"
      ],
      "execution_count": null,
      "outputs": [
        {
          "output_type": "stream",
          "text": [
            "Training-set accuracy score: 0.7353\n"
          ],
          "name": "stdout"
        }
      ]
    },
    {
      "cell_type": "code",
      "metadata": {
        "id": "Tc_htUKn3C-r",
        "colab": {
          "base_uri": "https://localhost:8080/"
        },
        "outputId": "fdf3eb0f-0708-4d9c-c724-fecebc4b0de1"
      },
      "source": [
        "# print the scores on training and test set\n",
        "print('Training set score: {:.4f}'.format(clf_gini.score(X_train, y_train)))\n",
        "print('Test set score: {:.4f}'.format(clf_gini.score(X_test, y_test)))"
      ],
      "execution_count": null,
      "outputs": [
        {
          "output_type": "stream",
          "text": [
            "Training set score: 0.7353\n",
            "Test set score: 0.7500\n"
          ],
          "name": "stdout"
        }
      ]
    },
    {
      "cell_type": "code",
      "metadata": {
        "id": "GAcft0j63L8E",
        "colab": {
          "base_uri": "https://localhost:8080/",
          "height": 721
        },
        "outputId": "df167596-c786-4e8c-e567-cb6242c625f1"
      },
      "source": [
        "plt.figure(figsize=(12,8))\n",
        "tree.plot_tree(clf_gini.fit(X_train, y_train)) "
      ],
      "execution_count": null,
      "outputs": [
        {
          "output_type": "execute_result",
          "data": {
            "text/plain": [
              "[Text(334.8, 380.52, 'X[4] <= 4.5\\ngini = 0.561\\nsamples = 136\\nvalue = [12, 74, 50]'),\n",
              " Text(167.4, 271.8, 'X[4] <= 1.5\\ngini = 0.462\\nsamples = 83\\nvalue = [2, 55, 26]'),\n",
              " Text(83.7, 163.07999999999998, 'X[3] <= 2.5\\ngini = 0.391\\nsamples = 15\\nvalue = [0, 4, 11]'),\n",
              " Text(41.85, 54.360000000000014, 'gini = 0.444\\nsamples = 3\\nvalue = [0, 2, 1]'),\n",
              " Text(125.55000000000001, 54.360000000000014, 'gini = 0.278\\nsamples = 12\\nvalue = [0, 2, 10]'),\n",
              " Text(251.10000000000002, 163.07999999999998, 'X[3] <= 4.5\\ngini = 0.388\\nsamples = 68\\nvalue = [2, 51, 15]'),\n",
              " Text(209.25, 54.360000000000014, 'gini = 0.466\\nsamples = 27\\nvalue = [0, 17, 10]'),\n",
              " Text(292.95, 54.360000000000014, 'gini = 0.295\\nsamples = 41\\nvalue = [2, 34, 5]'),\n",
              " Text(502.20000000000005, 271.8, 'X[4] <= 5.5\\ngini = 0.631\\nsamples = 53\\nvalue = [10, 19, 24]'),\n",
              " Text(418.5, 163.07999999999998, 'X[2] <= 13.5\\ngini = 0.198\\nsamples = 18\\nvalue = [0, 2, 16]'),\n",
              " Text(376.65000000000003, 54.360000000000014, 'gini = 0.0\\nsamples = 14\\nvalue = [0, 0, 14]'),\n",
              " Text(460.35, 54.360000000000014, 'gini = 0.5\\nsamples = 4\\nvalue = [0, 2, 2]'),\n",
              " Text(585.9, 163.07999999999998, 'X[4] <= 6.5\\ngini = 0.63\\nsamples = 35\\nvalue = [10, 17, 8]'),\n",
              " Text(544.0500000000001, 54.360000000000014, 'gini = 0.375\\nsamples = 8\\nvalue = [6, 2, 0]'),\n",
              " Text(627.75, 54.360000000000014, 'gini = 0.582\\nsamples = 27\\nvalue = [4, 15, 8]')]"
            ]
          },
          "metadata": {
            "tags": []
          },
          "execution_count": 127
        },
        {
          "output_type": "display_data",
          "data": {
            "image/png": "[encoded data removed]",
            "text/plain": [
              "<Figure size 864x576 with 1 Axes>"
            ]
          },
          "metadata": {
            "tags": [],
            "needs_background": "light"
          }
        }
      ]
    },
    {
      "cell_type": "code",
      "metadata": {
        "id": "tOJ1ou_T3C8V",
        "colab": {
          "base_uri": "https://localhost:8080/",
          "height": 618
        },
        "outputId": "e1124b8d-158d-4cf8-9d91-2c299798c5cd"
      },
      "source": [
        "import graphviz \n",
        "dot_data = tree.export_graphviz(clf_gini, out_file=None, \n",
        "                              feature_names=X_train.columns,  \n",
        "                              class_names=y_train,  \n",
        "                              filled=True, rounded=True,  \n",
        "                              special_characters=True)\n",
        "graph = graphviz.Source(dot_data) \n",
        "graph "
      ],
      "execution_count": null,
      "outputs": [
        {
          "output_type": "execute_result",
          "data": {
            "text/plain": [
              "<graphviz.files.Source at 0x7fd73b5a4f10>"
            ],
            "image/svg+xml": "<?xml version=\"1.0\" encoding=\"UTF-8\" standalone=\"no\"?>\n<!DOCTYPE svg PUBLIC \"-//W3C//DTD SVG 1.1//EN\"\n \"http://www.w3.org/Graphics/SVG/1.1/DTD/svg11.dtd\">\n<!-- Generated by graphviz version 2.40.1 (20161225.0304)\n -->\n<!-- Title: Tree Pages: 1 -->\n<svg width=\"1836pt\" height=\"433pt\"\n viewBox=\"0.00 0.00 1836.00 433.00\" xmlns=\"http://www.w3.org/2000/svg\" xmlns:xlink=\"http://www.w3.org/1999/xlink\">\n<g id=\"graph0\" class=\"graph\" transform=\"scale(1 1) rotate(0) translate(4 429)\">\n<title>Tree</title>\n<polygon fill=\"#ffffff\" stroke=\"transparent\" points=\"-4,4 -4,-429 1832,-429 1832,4 -4,4\"/>\n<!-- 0 -->\n<g id=\"node1\" class=\"node\">\n<title>0</title>\n<path fill=\"#c8f8dc\" stroke=\"#000000\" d=\"M1009.5,-425C1009.5,-425 839.5,-425 839.5,-425 833.5,-425 827.5,-419 827.5,-413 827.5,-413 827.5,-354 827.5,-354 827.5,-348 833.5,-342 839.5,-342 839.5,-342 1009.5,-342 1009.5,-342 1015.5,-342 1021.5,-348 1021.5,-354 1021.5,-354 1021.5,-413 1021.5,-413 1021.5,-419 1015.5,-425 1009.5,-425\"/>\n<text text-anchor=\"start\" x=\"835.5\" y=\"-409.8\" font-family=\"Helvetica,sans-Serif\" font-size=\"14.00\" fill=\"#000000\">Willingness of product ≤ 4.5</text>\n<text text-anchor=\"start\" x=\"886.5\" y=\"-394.8\" font-family=\"Helvetica,sans-Serif\" font-size=\"14.00\" fill=\"#000000\">gini = 0.561</text>\n<text text-anchor=\"start\" x=\"876.5\" y=\"-379.8\" font-family=\"Helvetica,sans-Serif\" font-size=\"14.00\" fill=\"#000000\">samples = 136</text>\n<text text-anchor=\"start\" x=\"862.5\" y=\"-364.8\" font-family=\"Helvetica,sans-Serif\" font-size=\"14.00\" fill=\"#000000\">value = [12, 74, 50]</text>\n<text text-anchor=\"start\" x=\"843\" y=\"-349.8\" font-family=\"Helvetica,sans-Serif\" font-size=\"14.00\" fill=\"#000000\">class = Daily requirement</text>\n</g>\n<!-- 1 -->\n<g id=\"node2\" class=\"node\">\n<title>1</title>\n<path fill=\"#9af2bf\" stroke=\"#000000\" d=\"M782.5,-306C782.5,-306 612.5,-306 612.5,-306 606.5,-306 600.5,-300 600.5,-294 600.5,-294 600.5,-235 600.5,-235 600.5,-229 606.5,-223 612.5,-223 612.5,-223 782.5,-223 782.5,-223 788.5,-223 794.5,-229 794.5,-235 794.5,-235 794.5,-294 794.5,-294 794.5,-300 788.5,-306 782.5,-306\"/>\n<text text-anchor=\"start\" x=\"608.5\" y=\"-290.8\" font-family=\"Helvetica,sans-Serif\" font-size=\"14.00\" fill=\"#000000\">Willingness of product ≤ 1.5</text>\n<text text-anchor=\"start\" x=\"659.5\" y=\"-275.8\" font-family=\"Helvetica,sans-Serif\" font-size=\"14.00\" fill=\"#000000\">gini = 0.462</text>\n<text text-anchor=\"start\" x=\"653.5\" y=\"-260.8\" font-family=\"Helvetica,sans-Serif\" font-size=\"14.00\" fill=\"#000000\">samples = 83</text>\n<text text-anchor=\"start\" x=\"640\" y=\"-245.8\" font-family=\"Helvetica,sans-Serif\" font-size=\"14.00\" fill=\"#000000\">value = [2, 55, 26]</text>\n<text text-anchor=\"start\" x=\"616\" y=\"-230.8\" font-family=\"Helvetica,sans-Serif\" font-size=\"14.00\" fill=\"#000000\">class = Daily requirement</text>\n</g>\n<!-- 0&#45;&gt;1 -->\n<g id=\"edge1\" class=\"edge\">\n<title>0&#45;&gt;1</title>\n<path fill=\"none\" stroke=\"#000000\" d=\"M845.1064,-341.8796C825.9256,-331.8244 805.3122,-321.0183 785.7525,-310.7645\"/>\n<polygon fill=\"#000000\" stroke=\"#000000\" points=\"787.3306,-307.6401 776.8488,-306.0969 784.0805,-313.8398 787.3306,-307.6401\"/>\n<text text-anchor=\"middle\" x=\"784.2978\" y=\"-326.2614\" font-family=\"Helvetica,sans-Serif\" font-size=\"14.00\" fill=\"#000000\">True</text>\n</g>\n<!-- 8 -->\n<g id=\"node9\" class=\"node\">\n<title>8</title>\n<path fill=\"#ece2fb\" stroke=\"#000000\" d=\"M1297,-306C1297,-306 1022,-306 1022,-306 1016,-306 1010,-300 1010,-294 1010,-294 1010,-235 1010,-235 1010,-229 1016,-223 1022,-223 1022,-223 1297,-223 1297,-223 1303,-223 1309,-229 1309,-235 1309,-235 1309,-294 1309,-294 1309,-300 1303,-306 1297,-306\"/>\n<text text-anchor=\"start\" x=\"1070.5\" y=\"-290.8\" font-family=\"Helvetica,sans-Serif\" font-size=\"14.00\" fill=\"#000000\">Willingness of product ≤ 5.5</text>\n<text text-anchor=\"start\" x=\"1121.5\" y=\"-275.8\" font-family=\"Helvetica,sans-Serif\" font-size=\"14.00\" fill=\"#000000\">gini = 0.631</text>\n<text text-anchor=\"start\" x=\"1115.5\" y=\"-260.8\" font-family=\"Helvetica,sans-Serif\" font-size=\"14.00\" fill=\"#000000\">samples = 53</text>\n<text text-anchor=\"start\" x=\"1097.5\" y=\"-245.8\" font-family=\"Helvetica,sans-Serif\" font-size=\"14.00\" fill=\"#000000\">value = [10, 19, 24]</text>\n<text text-anchor=\"start\" x=\"1018\" y=\"-230.8\" font-family=\"Helvetica,sans-Serif\" font-size=\"14.00\" fill=\"#000000\">class = Entertainment/ Favourite Recreation</text>\n</g>\n<!-- 0&#45;&gt;8 -->\n<g id=\"edge8\" class=\"edge\">\n<title>0&#45;&gt;8</title>\n<path fill=\"none\" stroke=\"#000000\" d=\"M1006.6916,-341.8796C1026.6378,-331.7791 1048.0805,-320.9209 1068.4108,-310.626\"/>\n<polygon fill=\"#000000\" stroke=\"#000000\" points=\"1070.0146,-313.7371 1077.3548,-306.0969 1066.8522,-307.4921 1070.0146,-313.7371\"/>\n<text text-anchor=\"middle\" x=\"1069.57\" y=\"-326.154\" font-family=\"Helvetica,sans-Serif\" font-size=\"14.00\" fill=\"#000000\">False</text>\n</g>\n<!-- 2 -->\n<g id=\"node3\" class=\"node\">\n<title>2</title>\n<path fill=\"#af81ee\" stroke=\"#000000\" d=\"M484,-187C484,-187 209,-187 209,-187 203,-187 197,-181 197,-175 197,-175 197,-116 197,-116 197,-110 203,-104 209,-104 209,-104 484,-104 484,-104 490,-104 496,-110 496,-116 496,-116 496,-175 496,-175 496,-181 490,-187 484,-187\"/>\n<text text-anchor=\"start\" x=\"316\" y=\"-171.8\" font-family=\"Helvetica,sans-Serif\" font-size=\"14.00\" fill=\"#000000\">City ≤ 2.5</text>\n<text text-anchor=\"start\" x=\"308.5\" y=\"-156.8\" font-family=\"Helvetica,sans-Serif\" font-size=\"14.00\" fill=\"#000000\">gini = 0.391</text>\n<text text-anchor=\"start\" x=\"302.5\" y=\"-141.8\" font-family=\"Helvetica,sans-Serif\" font-size=\"14.00\" fill=\"#000000\">samples = 15</text>\n<text text-anchor=\"start\" x=\"293\" y=\"-126.8\" font-family=\"Helvetica,sans-Serif\" font-size=\"14.00\" fill=\"#000000\">value = [0, 4, 11]</text>\n<text text-anchor=\"start\" x=\"205\" y=\"-111.8\" font-family=\"Helvetica,sans-Serif\" font-size=\"14.00\" fill=\"#000000\">class = Entertainment/ Favourite Recreation</text>\n</g>\n<!-- 1&#45;&gt;2 -->\n<g id=\"edge2\" class=\"edge\">\n<title>1&#45;&gt;2</title>\n<path fill=\"none\" stroke=\"#000000\" d=\"M600.1931,-231.5099C562.6278,-218.7741 519.0546,-204.0014 478.7316,-190.3306\"/>\n<polygon fill=\"#000000\" stroke=\"#000000\" points=\"479.6954,-186.9618 469.101,-187.0656 477.4478,-193.5911 479.6954,-186.9618\"/>\n</g>\n<!-- 5 -->\n<g id=\"node6\" class=\"node\">\n<title>5</title>\n<path fill=\"#79eda9\" stroke=\"#000000\" d=\"M775,-187C775,-187 620,-187 620,-187 614,-187 608,-181 608,-175 608,-175 608,-116 608,-116 608,-110 614,-104 620,-104 620,-104 775,-104 775,-104 781,-104 787,-110 787,-116 787,-116 787,-175 787,-175 787,-181 781,-187 775,-187\"/>\n<text text-anchor=\"start\" x=\"667\" y=\"-171.8\" font-family=\"Helvetica,sans-Serif\" font-size=\"14.00\" fill=\"#000000\">City ≤ 4.5</text>\n<text text-anchor=\"start\" x=\"659.5\" y=\"-156.8\" font-family=\"Helvetica,sans-Serif\" font-size=\"14.00\" fill=\"#000000\">gini = 0.388</text>\n<text text-anchor=\"start\" x=\"653.5\" y=\"-141.8\" font-family=\"Helvetica,sans-Serif\" font-size=\"14.00\" fill=\"#000000\">samples = 68</text>\n<text text-anchor=\"start\" x=\"640\" y=\"-126.8\" font-family=\"Helvetica,sans-Serif\" font-size=\"14.00\" fill=\"#000000\">value = [2, 51, 15]</text>\n<text text-anchor=\"start\" x=\"616\" y=\"-111.8\" font-family=\"Helvetica,sans-Serif\" font-size=\"14.00\" fill=\"#000000\">class = Daily requirement</text>\n</g>\n<!-- 1&#45;&gt;5 -->\n<g id=\"edge5\" class=\"edge\">\n<title>1&#45;&gt;5</title>\n<path fill=\"none\" stroke=\"#000000\" d=\"M697.5,-222.8796C697.5,-214.6838 697.5,-205.9891 697.5,-197.5013\"/>\n<polygon fill=\"#000000\" stroke=\"#000000\" points=\"701.0001,-197.298 697.5,-187.2981 694.0001,-197.2981 701.0001,-197.298\"/>\n</g>\n<!-- 3 -->\n<g id=\"node4\" class=\"node\">\n<title>3</title>\n<path fill=\"#9cf2c0\" stroke=\"#000000\" d=\"M167,-68C167,-68 12,-68 12,-68 6,-68 0,-62 0,-56 0,-56 0,-12 0,-12 0,-6 6,0 12,0 12,0 167,0 167,0 173,0 179,-6 179,-12 179,-12 179,-56 179,-56 179,-62 173,-68 167,-68\"/>\n<text text-anchor=\"start\" x=\"51.5\" y=\"-52.8\" font-family=\"Helvetica,sans-Serif\" font-size=\"14.00\" fill=\"#000000\">gini = 0.444</text>\n<text text-anchor=\"start\" x=\"50\" y=\"-37.8\" font-family=\"Helvetica,sans-Serif\" font-size=\"14.00\" fill=\"#000000\">samples = 3</text>\n<text text-anchor=\"start\" x=\"40\" y=\"-22.8\" font-family=\"Helvetica,sans-Serif\" font-size=\"14.00\" fill=\"#000000\">value = [0, 2, 1]</text>\n<text text-anchor=\"start\" x=\"8\" y=\"-7.8\" font-family=\"Helvetica,sans-Serif\" font-size=\"14.00\" fill=\"#000000\">class = Daily requirement</text>\n</g>\n<!-- 2&#45;&gt;3 -->\n<g id=\"edge3\" class=\"edge\">\n<title>2&#45;&gt;3</title>\n<path fill=\"none\" stroke=\"#000000\" d=\"M250.8027,-103.9815C226.7389,-93.5414 201.0304,-82.3877 177.3703,-72.1227\"/>\n<polygon fill=\"#000000\" stroke=\"#000000\" points=\"178.632,-68.8549 168.0651,-68.0856 175.8459,-75.2766 178.632,-68.8549\"/>\n</g>\n<!-- 4 -->\n<g id=\"node5\" class=\"node\">\n<title>4</title>\n<path fill=\"#9a61ea\" stroke=\"#000000\" d=\"M484,-68C484,-68 209,-68 209,-68 203,-68 197,-62 197,-56 197,-56 197,-12 197,-12 197,-6 203,0 209,0 209,0 484,0 484,0 490,0 496,-6 496,-12 496,-12 496,-56 496,-56 496,-62 490,-68 484,-68\"/>\n<text text-anchor=\"start\" x=\"308.5\" y=\"-52.8\" font-family=\"Helvetica,sans-Serif\" font-size=\"14.00\" fill=\"#000000\">gini = 0.278</text>\n<text text-anchor=\"start\" x=\"302.5\" y=\"-37.8\" font-family=\"Helvetica,sans-Serif\" font-size=\"14.00\" fill=\"#000000\">samples = 12</text>\n<text text-anchor=\"start\" x=\"293\" y=\"-22.8\" font-family=\"Helvetica,sans-Serif\" font-size=\"14.00\" fill=\"#000000\">value = [0, 2, 10]</text>\n<text text-anchor=\"start\" x=\"205\" y=\"-7.8\" font-family=\"Helvetica,sans-Serif\" font-size=\"14.00\" fill=\"#000000\">class = Entertainment/ Favourite Recreation</text>\n</g>\n<!-- 2&#45;&gt;4 -->\n<g id=\"edge4\" class=\"edge\">\n<title>2&#45;&gt;4</title>\n<path fill=\"none\" stroke=\"#000000\" d=\"M346.5,-103.9815C346.5,-95.618 346.5,-86.7965 346.5,-78.3409\"/>\n<polygon fill=\"#000000\" stroke=\"#000000\" points=\"350.0001,-78.2636 346.5,-68.2637 343.0001,-78.2637 350.0001,-78.2636\"/>\n</g>\n<!-- 6 -->\n<g id=\"node7\" class=\"node\">\n<title>6</title>\n<path fill=\"#adf4cb\" stroke=\"#000000\" d=\"M681,-68C681,-68 526,-68 526,-68 520,-68 514,-62 514,-56 514,-56 514,-12 514,-12 514,-6 520,0 526,0 526,0 681,0 681,0 687,0 693,-6 693,-12 693,-12 693,-56 693,-56 693,-62 687,-68 681,-68\"/>\n<text text-anchor=\"start\" x=\"565.5\" y=\"-52.8\" font-family=\"Helvetica,sans-Serif\" font-size=\"14.00\" fill=\"#000000\">gini = 0.466</text>\n<text text-anchor=\"start\" x=\"559.5\" y=\"-37.8\" font-family=\"Helvetica,sans-Serif\" font-size=\"14.00\" fill=\"#000000\">samples = 27</text>\n<text text-anchor=\"start\" x=\"546\" y=\"-22.8\" font-family=\"Helvetica,sans-Serif\" font-size=\"14.00\" fill=\"#000000\">value = [0, 17, 10]</text>\n<text text-anchor=\"start\" x=\"522\" y=\"-7.8\" font-family=\"Helvetica,sans-Serif\" font-size=\"14.00\" fill=\"#000000\">class = Daily requirement</text>\n</g>\n<!-- 5&#45;&gt;6 -->\n<g id=\"edge6\" class=\"edge\">\n<title>5&#45;&gt;6</title>\n<path fill=\"none\" stroke=\"#000000\" d=\"M662.4979,-103.9815C654.8272,-94.8828 646.6995,-85.242 639.0091,-76.1199\"/>\n<polygon fill=\"#000000\" stroke=\"#000000\" points=\"641.5075,-73.6533 632.386,-68.2637 636.1556,-78.1652 641.5075,-73.6533\"/>\n</g>\n<!-- 7 -->\n<g id=\"node8\" class=\"node\">\n<title>7</title>\n<path fill=\"#60ea9a\" stroke=\"#000000\" d=\"M878,-68C878,-68 723,-68 723,-68 717,-68 711,-62 711,-56 711,-56 711,-12 711,-12 711,-6 717,0 723,0 723,0 878,0 878,0 884,0 890,-6 890,-12 890,-12 890,-56 890,-56 890,-62 884,-68 878,-68\"/>\n<text text-anchor=\"start\" x=\"762.5\" y=\"-52.8\" font-family=\"Helvetica,sans-Serif\" font-size=\"14.00\" fill=\"#000000\">gini = 0.295</text>\n<text text-anchor=\"start\" x=\"756.5\" y=\"-37.8\" font-family=\"Helvetica,sans-Serif\" font-size=\"14.00\" fill=\"#000000\">samples = 41</text>\n<text text-anchor=\"start\" x=\"747\" y=\"-22.8\" font-family=\"Helvetica,sans-Serif\" font-size=\"14.00\" fill=\"#000000\">value = [2, 34, 5]</text>\n<text text-anchor=\"start\" x=\"719\" y=\"-7.8\" font-family=\"Helvetica,sans-Serif\" font-size=\"14.00\" fill=\"#000000\">class = Daily requirement</text>\n</g>\n<!-- 5&#45;&gt;7 -->\n<g id=\"edge7\" class=\"edge\">\n<title>5&#45;&gt;7</title>\n<path fill=\"none\" stroke=\"#000000\" d=\"M735.8534,-103.9815C744.3434,-94.7908 753.3443,-85.0472 761.8463,-75.8436\"/>\n<polygon fill=\"#000000\" stroke=\"#000000\" points=\"764.6337,-77.9842 768.8484,-68.2637 759.4919,-73.2343 764.6337,-77.9842\"/>\n</g>\n<!-- 9 -->\n<g id=\"node10\" class=\"node\">\n<title>9</title>\n<path fill=\"#9152e8\" stroke=\"#000000\" d=\"M1297,-187C1297,-187 1022,-187 1022,-187 1016,-187 1010,-181 1010,-175 1010,-175 1010,-116 1010,-116 1010,-110 1016,-104 1022,-104 1022,-104 1297,-104 1297,-104 1303,-104 1309,-110 1309,-116 1309,-116 1309,-175 1309,-175 1309,-181 1303,-187 1297,-187\"/>\n<text text-anchor=\"start\" x=\"1120.5\" y=\"-171.8\" font-family=\"Helvetica,sans-Serif\" font-size=\"14.00\" fill=\"#000000\">State ≤ 13.5</text>\n<text text-anchor=\"start\" x=\"1121.5\" y=\"-156.8\" font-family=\"Helvetica,sans-Serif\" font-size=\"14.00\" fill=\"#000000\">gini = 0.198</text>\n<text text-anchor=\"start\" x=\"1115.5\" y=\"-141.8\" font-family=\"Helvetica,sans-Serif\" font-size=\"14.00\" fill=\"#000000\">samples = 18</text>\n<text text-anchor=\"start\" x=\"1106\" y=\"-126.8\" font-family=\"Helvetica,sans-Serif\" font-size=\"14.00\" fill=\"#000000\">value = [0, 2, 16]</text>\n<text text-anchor=\"start\" x=\"1018\" y=\"-111.8\" font-family=\"Helvetica,sans-Serif\" font-size=\"14.00\" fill=\"#000000\">class = Entertainment/ Favourite Recreation</text>\n</g>\n<!-- 8&#45;&gt;9 -->\n<g id=\"edge9\" class=\"edge\">\n<title>8&#45;&gt;9</title>\n<path fill=\"none\" stroke=\"#000000\" d=\"M1159.5,-222.8796C1159.5,-214.6838 1159.5,-205.9891 1159.5,-197.5013\"/>\n<polygon fill=\"#000000\" stroke=\"#000000\" points=\"1163.0001,-197.298 1159.5,-187.2981 1156.0001,-197.2981 1163.0001,-197.298\"/>\n</g>\n<!-- 12 -->\n<g id=\"node13\" class=\"node\">\n<title>12</title>\n<path fill=\"#c8f8dc\" stroke=\"#000000\" d=\"M1611.5,-187C1611.5,-187 1441.5,-187 1441.5,-187 1435.5,-187 1429.5,-181 1429.5,-175 1429.5,-175 1429.5,-116 1429.5,-116 1429.5,-110 1435.5,-104 1441.5,-104 1441.5,-104 1611.5,-104 1611.5,-104 1617.5,-104 1623.5,-110 1623.5,-116 1623.5,-116 1623.5,-175 1623.5,-175 1623.5,-181 1617.5,-187 1611.5,-187\"/>\n<text text-anchor=\"start\" x=\"1437.5\" y=\"-171.8\" font-family=\"Helvetica,sans-Serif\" font-size=\"14.00\" fill=\"#000000\">Willingness of product ≤ 6.5</text>\n<text text-anchor=\"start\" x=\"1493\" y=\"-156.8\" font-family=\"Helvetica,sans-Serif\" font-size=\"14.00\" fill=\"#000000\">gini = 0.63</text>\n<text text-anchor=\"start\" x=\"1482.5\" y=\"-141.8\" font-family=\"Helvetica,sans-Serif\" font-size=\"14.00\" fill=\"#000000\">samples = 35</text>\n<text text-anchor=\"start\" x=\"1469\" y=\"-126.8\" font-family=\"Helvetica,sans-Serif\" font-size=\"14.00\" fill=\"#000000\">value = [10, 17, 8]</text>\n<text text-anchor=\"start\" x=\"1445\" y=\"-111.8\" font-family=\"Helvetica,sans-Serif\" font-size=\"14.00\" fill=\"#000000\">class = Daily requirement</text>\n</g>\n<!-- 8&#45;&gt;12 -->\n<g id=\"edge12\" class=\"edge\">\n<title>8&#45;&gt;12</title>\n<path fill=\"none\" stroke=\"#000000\" d=\"M1287.6011,-222.9631C1330.7656,-208.967 1378.4429,-193.5076 1419.7787,-180.1045\"/>\n<polygon fill=\"#000000\" stroke=\"#000000\" points=\"1420.8848,-183.4253 1429.3176,-177.0114 1418.7256,-176.7666 1420.8848,-183.4253\"/>\n</g>\n<!-- 10 -->\n<g id=\"node11\" class=\"node\">\n<title>10</title>\n<path fill=\"#8139e5\" stroke=\"#000000\" d=\"M1195,-68C1195,-68 920,-68 920,-68 914,-68 908,-62 908,-56 908,-56 908,-12 908,-12 908,-6 914,0 920,0 920,0 1195,0 1195,0 1201,0 1207,-6 1207,-12 1207,-12 1207,-56 1207,-56 1207,-62 1201,-68 1195,-68\"/>\n<text text-anchor=\"start\" x=\"1028\" y=\"-52.8\" font-family=\"Helvetica,sans-Serif\" font-size=\"14.00\" fill=\"#000000\">gini = 0.0</text>\n<text text-anchor=\"start\" x=\"1013.5\" y=\"-37.8\" font-family=\"Helvetica,sans-Serif\" font-size=\"14.00\" fill=\"#000000\">samples = 14</text>\n<text text-anchor=\"start\" x=\"1004\" y=\"-22.8\" font-family=\"Helvetica,sans-Serif\" font-size=\"14.00\" fill=\"#000000\">value = [0, 0, 14]</text>\n<text text-anchor=\"start\" x=\"916\" y=\"-7.8\" font-family=\"Helvetica,sans-Serif\" font-size=\"14.00\" fill=\"#000000\">class = Entertainment/ Favourite Recreation</text>\n</g>\n<!-- 9&#45;&gt;10 -->\n<g id=\"edge10\" class=\"edge\">\n<title>9&#45;&gt;10</title>\n<path fill=\"none\" stroke=\"#000000\" d=\"M1121.519,-103.9815C1113.1114,-94.7908 1104.1979,-85.0472 1095.7785,-75.8436\"/>\n<polygon fill=\"#000000\" stroke=\"#000000\" points=\"1098.1766,-73.2797 1088.8443,-68.2637 1093.0117,-78.0045 1098.1766,-73.2797\"/>\n</g>\n<!-- 11 -->\n<g id=\"node12\" class=\"node\">\n<title>11</title>\n<path fill=\"#ffffff\" stroke=\"#000000\" d=\"M1392,-68C1392,-68 1237,-68 1237,-68 1231,-68 1225,-62 1225,-56 1225,-56 1225,-12 1225,-12 1225,-6 1231,0 1237,0 1237,0 1392,0 1392,0 1398,0 1404,-6 1404,-12 1404,-12 1404,-56 1404,-56 1404,-62 1398,-68 1392,-68\"/>\n<text text-anchor=\"start\" x=\"1285\" y=\"-52.8\" font-family=\"Helvetica,sans-Serif\" font-size=\"14.00\" fill=\"#000000\">gini = 0.5</text>\n<text text-anchor=\"start\" x=\"1275\" y=\"-37.8\" font-family=\"Helvetica,sans-Serif\" font-size=\"14.00\" fill=\"#000000\">samples = 4</text>\n<text text-anchor=\"start\" x=\"1265\" y=\"-22.8\" font-family=\"Helvetica,sans-Serif\" font-size=\"14.00\" fill=\"#000000\">value = [0, 2, 2]</text>\n<text text-anchor=\"start\" x=\"1233\" y=\"-7.8\" font-family=\"Helvetica,sans-Serif\" font-size=\"14.00\" fill=\"#000000\">class = Daily requirement</text>\n</g>\n<!-- 9&#45;&gt;11 -->\n<g id=\"edge11\" class=\"edge\">\n<title>9&#45;&gt;11</title>\n<path fill=\"none\" stroke=\"#000000\" d=\"M1217.2163,-103.9815C1230.7591,-94.2394 1245.1657,-83.8759 1258.6263,-74.193\"/>\n<polygon fill=\"#000000\" stroke=\"#000000\" points=\"1260.7949,-76.9446 1266.8689,-68.2637 1256.7072,-71.2621 1260.7949,-76.9446\"/>\n</g>\n<!-- 13 -->\n<g id=\"node14\" class=\"node\">\n<title>13</title>\n<path fill=\"#eeab7b\" stroke=\"#000000\" d=\"M1619,-68C1619,-68 1434,-68 1434,-68 1428,-68 1422,-62 1422,-56 1422,-56 1422,-12 1422,-12 1422,-6 1428,0 1434,0 1434,0 1619,0 1619,0 1625,0 1631,-6 1631,-12 1631,-12 1631,-56 1631,-56 1631,-62 1625,-68 1619,-68\"/>\n<text text-anchor=\"start\" x=\"1488.5\" y=\"-52.8\" font-family=\"Helvetica,sans-Serif\" font-size=\"14.00\" fill=\"#000000\">gini = 0.375</text>\n<text text-anchor=\"start\" x=\"1487\" y=\"-37.8\" font-family=\"Helvetica,sans-Serif\" font-size=\"14.00\" fill=\"#000000\">samples = 8</text>\n<text text-anchor=\"start\" x=\"1477\" y=\"-22.8\" font-family=\"Helvetica,sans-Serif\" font-size=\"14.00\" fill=\"#000000\">value = [6, 2, 0]</text>\n<text text-anchor=\"start\" x=\"1430\" y=\"-7.8\" font-family=\"Helvetica,sans-Serif\" font-size=\"14.00\" fill=\"#000000\">class = My personal fondness</text>\n</g>\n<!-- 12&#45;&gt;13 -->\n<g id=\"edge13\" class=\"edge\">\n<title>12&#45;&gt;13</title>\n<path fill=\"none\" stroke=\"#000000\" d=\"M1526.5,-103.9815C1526.5,-95.618 1526.5,-86.7965 1526.5,-78.3409\"/>\n<polygon fill=\"#000000\" stroke=\"#000000\" points=\"1530.0001,-78.2636 1526.5,-68.2637 1523.0001,-78.2637 1530.0001,-78.2636\"/>\n</g>\n<!-- 14 -->\n<g id=\"node15\" class=\"node\">\n<title>14</title>\n<path fill=\"#b6f5d1\" stroke=\"#000000\" d=\"M1816,-68C1816,-68 1661,-68 1661,-68 1655,-68 1649,-62 1649,-56 1649,-56 1649,-12 1649,-12 1649,-6 1655,0 1661,0 1661,0 1816,0 1816,0 1822,0 1828,-6 1828,-12 1828,-12 1828,-56 1828,-56 1828,-62 1822,-68 1816,-68\"/>\n<text text-anchor=\"start\" x=\"1700.5\" y=\"-52.8\" font-family=\"Helvetica,sans-Serif\" font-size=\"14.00\" fill=\"#000000\">gini = 0.582</text>\n<text text-anchor=\"start\" x=\"1694.5\" y=\"-37.8\" font-family=\"Helvetica,sans-Serif\" font-size=\"14.00\" fill=\"#000000\">samples = 27</text>\n<text text-anchor=\"start\" x=\"1685\" y=\"-22.8\" font-family=\"Helvetica,sans-Serif\" font-size=\"14.00\" fill=\"#000000\">value = [4, 15, 8]</text>\n<text text-anchor=\"start\" x=\"1657\" y=\"-7.8\" font-family=\"Helvetica,sans-Serif\" font-size=\"14.00\" fill=\"#000000\">class = Daily requirement</text>\n</g>\n<!-- 12&#45;&gt;14 -->\n<g id=\"edge14\" class=\"edge\">\n<title>12&#45;&gt;14</title>\n<path fill=\"none\" stroke=\"#000000\" d=\"M1605.441,-103.9815C1624.8521,-93.7724 1645.5606,-82.8809 1664.7177,-72.8053\"/>\n<polygon fill=\"#000000\" stroke=\"#000000\" points=\"1666.4701,-75.8383 1673.6915,-68.0856 1663.2117,-69.6429 1666.4701,-75.8383\"/>\n</g>\n</g>\n</svg>\n"
          },
          "metadata": {
            "tags": []
          },
          "execution_count": 128
        }
      ]
    },
    {
      "cell_type": "code",
      "metadata": {
        "id": "DTINs5WF3C5r",
        "colab": {
          "base_uri": "https://localhost:8080/"
        },
        "outputId": "5fb9e8c3-0414-4497-99d3-4bf96735d947"
      },
      "source": [
        "# instantiate the DecisionTreeClassifier model with criterion entropy\n",
        "clf_en = DecisionTreeClassifier(criterion='entropy', max_depth=3, random_state=0)\n",
        "# fit the model\n",
        "clf_en.fit(X_train, y_train)"
      ],
      "execution_count": null,
      "outputs": [
        {
          "output_type": "execute_result",
          "data": {
            "text/plain": [
              "DecisionTreeClassifier(ccp_alpha=0.0, class_weight=None, criterion='entropy',\n",
              "                       max_depth=3, max_features=None, max_leaf_nodes=None,\n",
              "                       min_impurity_decrease=0.0, min_impurity_split=None,\n",
              "                       min_samples_leaf=1, min_samples_split=2,\n",
              "                       min_weight_fraction_leaf=0.0, presort='deprecated',\n",
              "                       random_state=0, splitter='best')"
            ]
          },
          "metadata": {
            "tags": []
          },
          "execution_count": 129
        }
      ]
    },
    {
      "cell_type": "code",
      "metadata": {
        "id": "Cq48sFMW3C0v"
      },
      "source": [
        "y_pred_en = clf_en.predict(X_test)"
      ],
      "execution_count": null,
      "outputs": []
    },
    {
      "cell_type": "code",
      "metadata": {
        "id": "1s67nYyl3Cyi",
        "colab": {
          "base_uri": "https://localhost:8080/"
        },
        "outputId": "2d98aa6c-d7e6-4435-9aca-f0d94da8f98f"
      },
      "source": [
        "#printing accuracy score\n",
        "print('Model accuracy score with criterion entropy: {0:0.4f}'. format(accuracy_score(y_test, y_pred_en)))"
      ],
      "execution_count": null,
      "outputs": [
        {
          "output_type": "stream",
          "text": [
            "Model accuracy score with criterion entropy: 0.7941\n"
          ],
          "name": "stdout"
        }
      ]
    },
    {
      "cell_type": "code",
      "metadata": {
        "id": "YDbSTeRc3Cwl",
        "colab": {
          "base_uri": "https://localhost:8080/"
        },
        "outputId": "a19e0673-c982-420d-f2c2-0b6d886d0233"
      },
      "source": [
        "y_pred_train_en = clf_en.predict(X_train)\n",
        "y_pred_train_en"
      ],
      "execution_count": null,
      "outputs": [
        {
          "output_type": "execute_result",
          "data": {
            "text/plain": [
              "array(['My personal fondness', 'Entertainment/ Favourite Recreation',\n",
              "       'Entertainment/ Favourite Recreation', 'My personal fondness',\n",
              "       'Entertainment/ Favourite Recreation', 'My personal fondness',\n",
              "       'Daily requirement', 'Entertainment/ Favourite Recreation',\n",
              "       'Entertainment/ Favourite Recreation',\n",
              "       'Entertainment/ Favourite Recreation',\n",
              "       'Entertainment/ Favourite Recreation',\n",
              "       'Entertainment/ Favourite Recreation',\n",
              "       'Entertainment/ Favourite Recreation',\n",
              "       'Entertainment/ Favourite Recreation',\n",
              "       'Entertainment/ Favourite Recreation',\n",
              "       'Entertainment/ Favourite Recreation',\n",
              "       'Entertainment/ Favourite Recreation',\n",
              "       'Entertainment/ Favourite Recreation', 'My personal fondness',\n",
              "       'Entertainment/ Favourite Recreation',\n",
              "       'Entertainment/ Favourite Recreation', 'My personal fondness',\n",
              "       'Entertainment/ Favourite Recreation',\n",
              "       'Entertainment/ Favourite Recreation',\n",
              "       'Entertainment/ Favourite Recreation',\n",
              "       'Entertainment/ Favourite Recreation',\n",
              "       'Entertainment/ Favourite Recreation', 'My personal fondness',\n",
              "       'Entertainment/ Favourite Recreation', 'My personal fondness',\n",
              "       'Entertainment/ Favourite Recreation',\n",
              "       'Entertainment/ Favourite Recreation',\n",
              "       'Entertainment/ Favourite Recreation',\n",
              "       'Entertainment/ Favourite Recreation',\n",
              "       'Entertainment/ Favourite Recreation', 'My personal fondness',\n",
              "       'Entertainment/ Favourite Recreation',\n",
              "       'Entertainment/ Favourite Recreation',\n",
              "       'Entertainment/ Favourite Recreation', 'My personal fondness',\n",
              "       'Entertainment/ Favourite Recreation',\n",
              "       'Entertainment/ Favourite Recreation',\n",
              "       'Entertainment/ Favourite Recreation',\n",
              "       'Entertainment/ Favourite Recreation', 'My personal fondness',\n",
              "       'Entertainment/ Favourite Recreation',\n",
              "       'Entertainment/ Favourite Recreation', 'Daily requirement',\n",
              "       'Entertainment/ Favourite Recreation',\n",
              "       'Entertainment/ Favourite Recreation',\n",
              "       'Entertainment/ Favourite Recreation',\n",
              "       'Entertainment/ Favourite Recreation',\n",
              "       'Entertainment/ Favourite Recreation',\n",
              "       'Entertainment/ Favourite Recreation',\n",
              "       'Entertainment/ Favourite Recreation',\n",
              "       'Entertainment/ Favourite Recreation',\n",
              "       'Entertainment/ Favourite Recreation',\n",
              "       'Entertainment/ Favourite Recreation',\n",
              "       'Entertainment/ Favourite Recreation', 'My personal fondness',\n",
              "       'Entertainment/ Favourite Recreation',\n",
              "       'Entertainment/ Favourite Recreation',\n",
              "       'Entertainment/ Favourite Recreation',\n",
              "       'Entertainment/ Favourite Recreation', 'My personal fondness',\n",
              "       'Entertainment/ Favourite Recreation',\n",
              "       'Entertainment/ Favourite Recreation',\n",
              "       'Entertainment/ Favourite Recreation',\n",
              "       'Entertainment/ Favourite Recreation', 'My personal fondness',\n",
              "       'Entertainment/ Favourite Recreation',\n",
              "       'Entertainment/ Favourite Recreation', 'My personal fondness',\n",
              "       'Entertainment/ Favourite Recreation',\n",
              "       'Entertainment/ Favourite Recreation',\n",
              "       'Entertainment/ Favourite Recreation',\n",
              "       'Entertainment/ Favourite Recreation',\n",
              "       'Entertainment/ Favourite Recreation',\n",
              "       'Entertainment/ Favourite Recreation',\n",
              "       'Entertainment/ Favourite Recreation', 'My personal fondness',\n",
              "       'My personal fondness', 'Daily requirement',\n",
              "       'Entertainment/ Favourite Recreation',\n",
              "       'Entertainment/ Favourite Recreation', 'My personal fondness',\n",
              "       'My personal fondness', 'Entertainment/ Favourite Recreation',\n",
              "       'My personal fondness', 'My personal fondness',\n",
              "       'Entertainment/ Favourite Recreation',\n",
              "       'Entertainment/ Favourite Recreation', 'My personal fondness',\n",
              "       'My personal fondness', 'Entertainment/ Favourite Recreation',\n",
              "       'Entertainment/ Favourite Recreation', 'My personal fondness',\n",
              "       'Entertainment/ Favourite Recreation', 'Daily requirement',\n",
              "       'Daily requirement', 'My personal fondness',\n",
              "       'Entertainment/ Favourite Recreation', 'My personal fondness',\n",
              "       'Entertainment/ Favourite Recreation', 'My personal fondness',\n",
              "       'My personal fondness', 'Entertainment/ Favourite Recreation',\n",
              "       'Entertainment/ Favourite Recreation',\n",
              "       'Entertainment/ Favourite Recreation', 'My personal fondness',\n",
              "       'Entertainment/ Favourite Recreation',\n",
              "       'Entertainment/ Favourite Recreation', 'My personal fondness',\n",
              "       'Entertainment/ Favourite Recreation', 'Daily requirement',\n",
              "       'My personal fondness', 'Entertainment/ Favourite Recreation',\n",
              "       'Entertainment/ Favourite Recreation', 'Daily requirement',\n",
              "       'Entertainment/ Favourite Recreation',\n",
              "       'Entertainment/ Favourite Recreation',\n",
              "       'Entertainment/ Favourite Recreation',\n",
              "       'Entertainment/ Favourite Recreation', 'My personal fondness',\n",
              "       'Entertainment/ Favourite Recreation', 'Daily requirement',\n",
              "       'Entertainment/ Favourite Recreation', 'My personal fondness',\n",
              "       'Entertainment/ Favourite Recreation',\n",
              "       'Entertainment/ Favourite Recreation',\n",
              "       'Entertainment/ Favourite Recreation',\n",
              "       'Entertainment/ Favourite Recreation', 'My personal fondness',\n",
              "       'Entertainment/ Favourite Recreation',\n",
              "       'Entertainment/ Favourite Recreation',\n",
              "       'Entertainment/ Favourite Recreation'], dtype=object)"
            ]
          },
          "metadata": {
            "tags": []
          },
          "execution_count": 132
        }
      ]
    },
    {
      "cell_type": "code",
      "metadata": {
        "id": "BVCVHQSk3Csr",
        "colab": {
          "base_uri": "https://localhost:8080/"
        },
        "outputId": "4b05bb62-9458-436b-89b5-d88b0b28f93b"
      },
      "source": [
        "print('Training-set accuracy score: {0:0.4f}'. format(accuracy_score(y_train, y_pred_train_en)))"
      ],
      "execution_count": null,
      "outputs": [
        {
          "output_type": "stream",
          "text": [
            "Training-set accuracy score: 0.7500\n"
          ],
          "name": "stdout"
        }
      ]
    },
    {
      "cell_type": "code",
      "metadata": {
        "id": "d7jHYQOt3Cp9",
        "colab": {
          "base_uri": "https://localhost:8080/"
        },
        "outputId": "d21c54c8-7b34-4108-fcf8-767989dd0302"
      },
      "source": [
        "# print the scores on training and test set\n",
        "print('\\nTraining set score: {:.4f}'.format(clf_en.score(X_train, y_train)))\n",
        "print('\\nTest set score: {:.4f}'.format(clf_en.score(X_test, y_test)))"
      ],
      "execution_count": null,
      "outputs": [
        {
          "output_type": "stream",
          "text": [
            "\n",
            "Training set score: 0.7500\n",
            "\n",
            "Test set score: 0.7941\n"
          ],
          "name": "stdout"
        }
      ]
    },
    {
      "cell_type": "code",
      "metadata": {
        "id": "k88cPMmk3Cf-",
        "colab": {
          "base_uri": "https://localhost:8080/",
          "height": 721
        },
        "outputId": "83e7041b-8bd2-4d53-df65-86c421d80f38"
      },
      "source": [
        "plt.figure(figsize=(12,8))\n",
        "tree.plot_tree(clf_en.fit(X_train, y_train)) "
      ],
      "execution_count": null,
      "outputs": [
        {
          "output_type": "execute_result",
          "data": {
            "text/plain": [
              "[Text(334.8, 380.52, 'X[4] <= 5.5\\nentropy = 1.318\\nsamples = 136\\nvalue = [12, 74, 50]'),\n",
              " Text(167.4, 271.8, 'X[4] <= 4.5\\nentropy = 1.104\\nsamples = 101\\nvalue = [2, 57, 42]'),\n",
              " Text(83.7, 163.07999999999998, 'X[4] <= 1.5\\nentropy = 1.047\\nsamples = 83\\nvalue = [2, 55, 26]'),\n",
              " Text(41.85, 54.360000000000014, 'entropy = 0.837\\nsamples = 15\\nvalue = [0, 4, 11]'),\n",
              " Text(125.55000000000001, 54.360000000000014, 'entropy = 0.942\\nsamples = 68\\nvalue = [2, 51, 15]'),\n",
              " Text(251.10000000000002, 163.07999999999998, 'X[2] <= 13.5\\nentropy = 0.503\\nsamples = 18\\nvalue = [0, 2, 16]'),\n",
              " Text(209.25, 54.360000000000014, 'entropy = 0.0\\nsamples = 14\\nvalue = [0, 0, 14]'),\n",
              " Text(292.95, 54.360000000000014, 'entropy = 1.0\\nsamples = 4\\nvalue = [0, 2, 2]'),\n",
              " Text(502.20000000000005, 271.8, 'X[4] <= 6.5\\nentropy = 1.509\\nsamples = 35\\nvalue = [10, 17, 8]'),\n",
              " Text(418.5, 163.07999999999998, 'X[0] <= 2.5\\nentropy = 0.811\\nsamples = 8\\nvalue = [6, 2, 0]'),\n",
              " Text(376.65000000000003, 54.360000000000014, 'entropy = 0.0\\nsamples = 4\\nvalue = [4, 0, 0]'),\n",
              " Text(460.35, 54.360000000000014, 'entropy = 1.0\\nsamples = 4\\nvalue = [2, 2, 0]'),\n",
              " Text(585.9, 163.07999999999998, 'X[4] <= 7.5\\nentropy = 1.399\\nsamples = 27\\nvalue = [4, 15, 8]'),\n",
              " Text(544.0500000000001, 54.360000000000014, 'entropy = 1.264\\nsamples = 23\\nvalue = [3, 15, 5]'),\n",
              " Text(627.75, 54.360000000000014, 'entropy = 0.811\\nsamples = 4\\nvalue = [1, 0, 3]')]"
            ]
          },
          "metadata": {
            "tags": []
          },
          "execution_count": 135
        },
        {
          "output_type": "display_data",
          "data": {
            "image/png": "[encoded data removed]",
            "text/plain": [
              "<Figure size 864x576 with 1 Axes>"
            ]
          },
          "metadata": {
            "tags": [],
            "needs_background": "light"
          }
        }
      ]
    },
    {
      "cell_type": "code",
      "metadata": {
        "id": "otod-i9G3lsR",
        "colab": {
          "base_uri": "https://localhost:8080/",
          "height": 618
        },
        "outputId": "b0c40265-c6d1-4de7-e075-8c66292f54ff"
      },
      "source": [
        "#graphiz plot\n",
        "dot_data = tree.export_graphviz(clf_en, out_file=None, \n",
        "                              feature_names=X_train.columns,  \n",
        "                              class_names=y_train,  \n",
        "                              filled=True, rounded=True,  \n",
        "                              special_characters=True)\n",
        "graph = graphviz.Source(dot_data) \n",
        "graph "
      ],
      "execution_count": null,
      "outputs": [
        {
          "output_type": "execute_result",
          "data": {
            "text/plain": [
              "<graphviz.files.Source at 0x7fd737607f10>"
            ],
            "image/svg+xml": "<?xml version=\"1.0\" encoding=\"UTF-8\" standalone=\"no\"?>\n<!DOCTYPE svg PUBLIC \"-//W3C//DTD SVG 1.1//EN\"\n \"http://www.w3.org/Graphics/SVG/1.1/DTD/svg11.dtd\">\n<!-- Generated by graphviz version 2.40.1 (20161225.0304)\n -->\n<!-- Title: Tree Pages: 1 -->\n<svg width=\"1986pt\" height=\"433pt\"\n viewBox=\"0.00 0.00 1986.00 433.00\" xmlns=\"http://www.w3.org/2000/svg\" xmlns:xlink=\"http://www.w3.org/1999/xlink\">\n<g id=\"graph0\" class=\"graph\" transform=\"scale(1 1) rotate(0) translate(4 429)\">\n<title>Tree</title>\n<polygon fill=\"#ffffff\" stroke=\"transparent\" points=\"-4,4 -4,-429 1982,-429 1982,4 -4,4\"/>\n<!-- 0 -->\n<g id=\"node1\" class=\"node\">\n<title>0</title>\n<path fill=\"#c8f8dc\" stroke=\"#000000\" d=\"M1064.5,-425C1064.5,-425 894.5,-425 894.5,-425 888.5,-425 882.5,-419 882.5,-413 882.5,-413 882.5,-354 882.5,-354 882.5,-348 888.5,-342 894.5,-342 894.5,-342 1064.5,-342 1064.5,-342 1070.5,-342 1076.5,-348 1076.5,-354 1076.5,-354 1076.5,-413 1076.5,-413 1076.5,-419 1070.5,-425 1064.5,-425\"/>\n<text text-anchor=\"start\" x=\"890.5\" y=\"-409.8\" font-family=\"Helvetica,sans-Serif\" font-size=\"14.00\" fill=\"#000000\">Willingness of product ≤ 5.5</text>\n<text text-anchor=\"start\" x=\"928.5\" y=\"-394.8\" font-family=\"Helvetica,sans-Serif\" font-size=\"14.00\" fill=\"#000000\">entropy = 1.318</text>\n<text text-anchor=\"start\" x=\"931.5\" y=\"-379.8\" font-family=\"Helvetica,sans-Serif\" font-size=\"14.00\" fill=\"#000000\">samples = 136</text>\n<text text-anchor=\"start\" x=\"917.5\" y=\"-364.8\" font-family=\"Helvetica,sans-Serif\" font-size=\"14.00\" fill=\"#000000\">value = [12, 74, 50]</text>\n<text text-anchor=\"start\" x=\"898\" y=\"-349.8\" font-family=\"Helvetica,sans-Serif\" font-size=\"14.00\" fill=\"#000000\">class = Daily requirement</text>\n</g>\n<!-- 1 -->\n<g id=\"node2\" class=\"node\">\n<title>1</title>\n<path fill=\"#cdf8df\" stroke=\"#000000\" d=\"M928.5,-306C928.5,-306 758.5,-306 758.5,-306 752.5,-306 746.5,-300 746.5,-294 746.5,-294 746.5,-235 746.5,-235 746.5,-229 752.5,-223 758.5,-223 758.5,-223 928.5,-223 928.5,-223 934.5,-223 940.5,-229 940.5,-235 940.5,-235 940.5,-294 940.5,-294 940.5,-300 934.5,-306 928.5,-306\"/>\n<text text-anchor=\"start\" x=\"754.5\" y=\"-290.8\" font-family=\"Helvetica,sans-Serif\" font-size=\"14.00\" fill=\"#000000\">Willingness of product ≤ 4.5</text>\n<text text-anchor=\"start\" x=\"792.5\" y=\"-275.8\" font-family=\"Helvetica,sans-Serif\" font-size=\"14.00\" fill=\"#000000\">entropy = 1.104</text>\n<text text-anchor=\"start\" x=\"795.5\" y=\"-260.8\" font-family=\"Helvetica,sans-Serif\" font-size=\"14.00\" fill=\"#000000\">samples = 101</text>\n<text text-anchor=\"start\" x=\"786\" y=\"-245.8\" font-family=\"Helvetica,sans-Serif\" font-size=\"14.00\" fill=\"#000000\">value = [2, 57, 42]</text>\n<text text-anchor=\"start\" x=\"762\" y=\"-230.8\" font-family=\"Helvetica,sans-Serif\" font-size=\"14.00\" fill=\"#000000\">class = Daily requirement</text>\n</g>\n<!-- 0&#45;&gt;1 -->\n<g id=\"edge1\" class=\"edge\">\n<title>0&#45;&gt;1</title>\n<path fill=\"none\" stroke=\"#000000\" d=\"M931.9338,-341.8796C921.3321,-332.6031 909.9998,-322.6874 899.1067,-313.1559\"/>\n<polygon fill=\"#000000\" stroke=\"#000000\" points=\"901.0998,-310.2491 891.2692,-306.2981 896.4902,-315.5172 901.0998,-310.2491\"/>\n<text text-anchor=\"middle\" x=\"892.9322\" y=\"-327.5427\" font-family=\"Helvetica,sans-Serif\" font-size=\"14.00\" fill=\"#000000\">True</text>\n</g>\n<!-- 8 -->\n<g id=\"node9\" class=\"node\">\n<title>8</title>\n<path fill=\"#c8f8dc\" stroke=\"#000000\" d=\"M1294.5,-306C1294.5,-306 1124.5,-306 1124.5,-306 1118.5,-306 1112.5,-300 1112.5,-294 1112.5,-294 1112.5,-235 1112.5,-235 1112.5,-229 1118.5,-223 1124.5,-223 1124.5,-223 1294.5,-223 1294.5,-223 1300.5,-223 1306.5,-229 1306.5,-235 1306.5,-235 1306.5,-294 1306.5,-294 1306.5,-300 1300.5,-306 1294.5,-306\"/>\n<text text-anchor=\"start\" x=\"1120.5\" y=\"-290.8\" font-family=\"Helvetica,sans-Serif\" font-size=\"14.00\" fill=\"#000000\">Willingness of product ≤ 6.5</text>\n<text text-anchor=\"start\" x=\"1158.5\" y=\"-275.8\" font-family=\"Helvetica,sans-Serif\" font-size=\"14.00\" fill=\"#000000\">entropy = 1.509</text>\n<text text-anchor=\"start\" x=\"1165.5\" y=\"-260.8\" font-family=\"Helvetica,sans-Serif\" font-size=\"14.00\" fill=\"#000000\">samples = 35</text>\n<text text-anchor=\"start\" x=\"1152\" y=\"-245.8\" font-family=\"Helvetica,sans-Serif\" font-size=\"14.00\" fill=\"#000000\">value = [10, 17, 8]</text>\n<text text-anchor=\"start\" x=\"1128\" y=\"-230.8\" font-family=\"Helvetica,sans-Serif\" font-size=\"14.00\" fill=\"#000000\">class = Daily requirement</text>\n</g>\n<!-- 0&#45;&gt;8 -->\n<g id=\"edge8\" class=\"edge\">\n<title>0&#45;&gt;8</title>\n<path fill=\"none\" stroke=\"#000000\" d=\"M1059.9428,-341.8796C1079.3771,-331.8244 1100.263,-321.0183 1120.0811,-310.7645\"/>\n<polygon fill=\"#000000\" stroke=\"#000000\" points=\"1121.8293,-313.8008 1129.1026,-306.0969 1118.6126,-307.5837 1121.8293,-313.8008\"/>\n<text text-anchor=\"middle\" x=\"1121.5253\" y=\"-326.221\" font-family=\"Helvetica,sans-Serif\" font-size=\"14.00\" fill=\"#000000\">False</text>\n</g>\n<!-- 2 -->\n<g id=\"node3\" class=\"node\">\n<title>2</title>\n<path fill=\"#9af2bf\" stroke=\"#000000\" d=\"M491.5,-187C491.5,-187 321.5,-187 321.5,-187 315.5,-187 309.5,-181 309.5,-175 309.5,-175 309.5,-116 309.5,-116 309.5,-110 315.5,-104 321.5,-104 321.5,-104 491.5,-104 491.5,-104 497.5,-104 503.5,-110 503.5,-116 503.5,-116 503.5,-175 503.5,-175 503.5,-181 497.5,-187 491.5,-187\"/>\n<text text-anchor=\"start\" x=\"317.5\" y=\"-171.8\" font-family=\"Helvetica,sans-Serif\" font-size=\"14.00\" fill=\"#000000\">Willingness of product ≤ 1.5</text>\n<text text-anchor=\"start\" x=\"355.5\" y=\"-156.8\" font-family=\"Helvetica,sans-Serif\" font-size=\"14.00\" fill=\"#000000\">entropy = 1.047</text>\n<text text-anchor=\"start\" x=\"362.5\" y=\"-141.8\" font-family=\"Helvetica,sans-Serif\" font-size=\"14.00\" fill=\"#000000\">samples = 83</text>\n<text text-anchor=\"start\" x=\"349\" y=\"-126.8\" font-family=\"Helvetica,sans-Serif\" font-size=\"14.00\" fill=\"#000000\">value = [2, 55, 26]</text>\n<text text-anchor=\"start\" x=\"325\" y=\"-111.8\" font-family=\"Helvetica,sans-Serif\" font-size=\"14.00\" fill=\"#000000\">class = Daily requirement</text>\n</g>\n<!-- 1&#45;&gt;2 -->\n<g id=\"edge2\" class=\"edge\">\n<title>1&#45;&gt;2</title>\n<path fill=\"none\" stroke=\"#000000\" d=\"M746.2442,-238.0162C677.3056,-219.2434 584.8054,-194.0546 513.7307,-174.7001\"/>\n<polygon fill=\"#000000\" stroke=\"#000000\" points=\"514.4169,-171.2596 503.8486,-172.0091 512.5777,-178.0137 514.4169,-171.2596\"/>\n</g>\n<!-- 5 -->\n<g id=\"node6\" class=\"node\">\n<title>5</title>\n<path fill=\"#9152e8\" stroke=\"#000000\" d=\"M981,-187C981,-187 706,-187 706,-187 700,-187 694,-181 694,-175 694,-175 694,-116 694,-116 694,-110 700,-104 706,-104 706,-104 981,-104 981,-104 987,-104 993,-110 993,-116 993,-116 993,-175 993,-175 993,-181 987,-187 981,-187\"/>\n<text text-anchor=\"start\" x=\"804.5\" y=\"-171.8\" font-family=\"Helvetica,sans-Serif\" font-size=\"14.00\" fill=\"#000000\">State ≤ 13.5</text>\n<text text-anchor=\"start\" x=\"792.5\" y=\"-156.8\" font-family=\"Helvetica,sans-Serif\" font-size=\"14.00\" fill=\"#000000\">entropy = 0.503</text>\n<text text-anchor=\"start\" x=\"799.5\" y=\"-141.8\" font-family=\"Helvetica,sans-Serif\" font-size=\"14.00\" fill=\"#000000\">samples = 18</text>\n<text text-anchor=\"start\" x=\"790\" y=\"-126.8\" font-family=\"Helvetica,sans-Serif\" font-size=\"14.00\" fill=\"#000000\">value = [0, 2, 16]</text>\n<text text-anchor=\"start\" x=\"702\" y=\"-111.8\" font-family=\"Helvetica,sans-Serif\" font-size=\"14.00\" fill=\"#000000\">class = Entertainment/ Favourite Recreation</text>\n</g>\n<!-- 1&#45;&gt;5 -->\n<g id=\"edge5\" class=\"edge\">\n<title>1&#45;&gt;5</title>\n<path fill=\"none\" stroke=\"#000000\" d=\"M843.5,-222.8796C843.5,-214.6838 843.5,-205.9891 843.5,-197.5013\"/>\n<polygon fill=\"#000000\" stroke=\"#000000\" points=\"847.0001,-197.298 843.5,-187.2981 840.0001,-197.2981 847.0001,-197.298\"/>\n</g>\n<!-- 3 -->\n<g id=\"node4\" class=\"node\">\n<title>3</title>\n<path fill=\"#af81ee\" stroke=\"#000000\" d=\"M287,-68C287,-68 12,-68 12,-68 6,-68 0,-62 0,-56 0,-56 0,-12 0,-12 0,-6 6,0 12,0 12,0 287,0 287,0 293,0 299,-6 299,-12 299,-12 299,-56 299,-56 299,-62 293,-68 287,-68\"/>\n<text text-anchor=\"start\" x=\"98.5\" y=\"-52.8\" font-family=\"Helvetica,sans-Serif\" font-size=\"14.00\" fill=\"#000000\">entropy = 0.837</text>\n<text text-anchor=\"start\" x=\"105.5\" y=\"-37.8\" font-family=\"Helvetica,sans-Serif\" font-size=\"14.00\" fill=\"#000000\">samples = 15</text>\n<text text-anchor=\"start\" x=\"96\" y=\"-22.8\" font-family=\"Helvetica,sans-Serif\" font-size=\"14.00\" fill=\"#000000\">value = [0, 4, 11]</text>\n<text text-anchor=\"start\" x=\"8\" y=\"-7.8\" font-family=\"Helvetica,sans-Serif\" font-size=\"14.00\" fill=\"#000000\">class = Entertainment/ Favourite Recreation</text>\n</g>\n<!-- 2&#45;&gt;3 -->\n<g id=\"edge3\" class=\"edge\">\n<title>2&#45;&gt;3</title>\n<path fill=\"none\" stroke=\"#000000\" d=\"M310.8027,-103.9815C286.7389,-93.5414 261.0304,-82.3877 237.3703,-72.1227\"/>\n<polygon fill=\"#000000\" stroke=\"#000000\" points=\"238.632,-68.8549 228.0651,-68.0856 235.8459,-75.2766 238.632,-68.8549\"/>\n</g>\n<!-- 4 -->\n<g id=\"node5\" class=\"node\">\n<title>4</title>\n<path fill=\"#79eda9\" stroke=\"#000000\" d=\"M484,-68C484,-68 329,-68 329,-68 323,-68 317,-62 317,-56 317,-56 317,-12 317,-12 317,-6 323,0 329,0 329,0 484,0 484,0 490,0 496,-6 496,-12 496,-12 496,-56 496,-56 496,-62 490,-68 484,-68\"/>\n<text text-anchor=\"start\" x=\"355.5\" y=\"-52.8\" font-family=\"Helvetica,sans-Serif\" font-size=\"14.00\" fill=\"#000000\">entropy = 0.942</text>\n<text text-anchor=\"start\" x=\"362.5\" y=\"-37.8\" font-family=\"Helvetica,sans-Serif\" font-size=\"14.00\" fill=\"#000000\">samples = 68</text>\n<text text-anchor=\"start\" x=\"349\" y=\"-22.8\" font-family=\"Helvetica,sans-Serif\" font-size=\"14.00\" fill=\"#000000\">value = [2, 51, 15]</text>\n<text text-anchor=\"start\" x=\"325\" y=\"-7.8\" font-family=\"Helvetica,sans-Serif\" font-size=\"14.00\" fill=\"#000000\">class = Daily requirement</text>\n</g>\n<!-- 2&#45;&gt;4 -->\n<g id=\"edge4\" class=\"edge\">\n<title>2&#45;&gt;4</title>\n<path fill=\"none\" stroke=\"#000000\" d=\"M406.5,-103.9815C406.5,-95.618 406.5,-86.7965 406.5,-78.3409\"/>\n<polygon fill=\"#000000\" stroke=\"#000000\" points=\"410.0001,-78.2636 406.5,-68.2637 403.0001,-78.2637 410.0001,-78.2636\"/>\n</g>\n<!-- 6 -->\n<g id=\"node7\" class=\"node\">\n<title>6</title>\n<path fill=\"#8139e5\" stroke=\"#000000\" d=\"M801,-68C801,-68 526,-68 526,-68 520,-68 514,-62 514,-56 514,-56 514,-12 514,-12 514,-6 520,0 526,0 526,0 801,0 801,0 807,0 813,-6 813,-12 813,-12 813,-56 813,-56 813,-62 807,-68 801,-68\"/>\n<text text-anchor=\"start\" x=\"621\" y=\"-52.8\" font-family=\"Helvetica,sans-Serif\" font-size=\"14.00\" fill=\"#000000\">entropy = 0.0</text>\n<text text-anchor=\"start\" x=\"619.5\" y=\"-37.8\" font-family=\"Helvetica,sans-Serif\" font-size=\"14.00\" fill=\"#000000\">samples = 14</text>\n<text text-anchor=\"start\" x=\"610\" y=\"-22.8\" font-family=\"Helvetica,sans-Serif\" font-size=\"14.00\" fill=\"#000000\">value = [0, 0, 14]</text>\n<text text-anchor=\"start\" x=\"522\" y=\"-7.8\" font-family=\"Helvetica,sans-Serif\" font-size=\"14.00\" fill=\"#000000\">class = Entertainment/ Favourite Recreation</text>\n</g>\n<!-- 5&#45;&gt;6 -->\n<g id=\"edge6\" class=\"edge\">\n<title>5&#45;&gt;6</title>\n<path fill=\"none\" stroke=\"#000000\" d=\"M776.4746,-103.9815C760.3664,-94.0034 743.2059,-83.3733 727.2513,-73.4904\"/>\n<polygon fill=\"#000000\" stroke=\"#000000\" points=\"728.8704,-70.3763 718.5261,-68.0856 725.1842,-76.3271 728.8704,-70.3763\"/>\n</g>\n<!-- 7 -->\n<g id=\"node8\" class=\"node\">\n<title>7</title>\n<path fill=\"#ffffff\" stroke=\"#000000\" d=\"M998,-68C998,-68 843,-68 843,-68 837,-68 831,-62 831,-56 831,-56 831,-12 831,-12 831,-6 837,0 843,0 843,0 998,0 998,0 1004,0 1010,-6 1010,-12 1010,-12 1010,-56 1010,-56 1010,-62 1004,-68 998,-68\"/>\n<text text-anchor=\"start\" x=\"878\" y=\"-52.8\" font-family=\"Helvetica,sans-Serif\" font-size=\"14.00\" fill=\"#000000\">entropy = 1.0</text>\n<text text-anchor=\"start\" x=\"881\" y=\"-37.8\" font-family=\"Helvetica,sans-Serif\" font-size=\"14.00\" fill=\"#000000\">samples = 4</text>\n<text text-anchor=\"start\" x=\"871\" y=\"-22.8\" font-family=\"Helvetica,sans-Serif\" font-size=\"14.00\" fill=\"#000000\">value = [0, 2, 2]</text>\n<text text-anchor=\"start\" x=\"839\" y=\"-7.8\" font-family=\"Helvetica,sans-Serif\" font-size=\"14.00\" fill=\"#000000\">class = Daily requirement</text>\n</g>\n<!-- 5&#45;&gt;7 -->\n<g id=\"edge7\" class=\"edge\">\n<title>5&#45;&gt;7</title>\n<path fill=\"none\" stroke=\"#000000\" d=\"M872.172,-103.9815C878.3285,-95.0666 884.8443,-85.6313 891.0305,-76.6734\"/>\n<polygon fill=\"#000000\" stroke=\"#000000\" points=\"894.0355,-78.4811 896.8381,-68.2637 888.2755,-74.5034 894.0355,-78.4811\"/>\n</g>\n<!-- 9 -->\n<g id=\"node10\" class=\"node\">\n<title>9</title>\n<path fill=\"#eeab7b\" stroke=\"#000000\" d=\"M1302,-187C1302,-187 1117,-187 1117,-187 1111,-187 1105,-181 1105,-175 1105,-175 1105,-116 1105,-116 1105,-110 1111,-104 1117,-104 1117,-104 1302,-104 1302,-104 1308,-104 1314,-110 1314,-116 1314,-116 1314,-175 1314,-175 1314,-181 1308,-187 1302,-187\"/>\n<text text-anchor=\"start\" x=\"1156.5\" y=\"-171.8\" font-family=\"Helvetica,sans-Serif\" font-size=\"14.00\" fill=\"#000000\">Age(in yrs) ≤ 2.5</text>\n<text text-anchor=\"start\" x=\"1158.5\" y=\"-156.8\" font-family=\"Helvetica,sans-Serif\" font-size=\"14.00\" fill=\"#000000\">entropy = 0.811</text>\n<text text-anchor=\"start\" x=\"1170\" y=\"-141.8\" font-family=\"Helvetica,sans-Serif\" font-size=\"14.00\" fill=\"#000000\">samples = 8</text>\n<text text-anchor=\"start\" x=\"1160\" y=\"-126.8\" font-family=\"Helvetica,sans-Serif\" font-size=\"14.00\" fill=\"#000000\">value = [6, 2, 0]</text>\n<text text-anchor=\"start\" x=\"1113\" y=\"-111.8\" font-family=\"Helvetica,sans-Serif\" font-size=\"14.00\" fill=\"#000000\">class = My personal fondness</text>\n</g>\n<!-- 8&#45;&gt;9 -->\n<g id=\"edge9\" class=\"edge\">\n<title>8&#45;&gt;9</title>\n<path fill=\"none\" stroke=\"#000000\" d=\"M1209.5,-222.8796C1209.5,-214.6838 1209.5,-205.9891 1209.5,-197.5013\"/>\n<polygon fill=\"#000000\" stroke=\"#000000\" points=\"1213.0001,-197.298 1209.5,-187.2981 1206.0001,-197.2981 1213.0001,-197.298\"/>\n</g>\n<!-- 12 -->\n<g id=\"node13\" class=\"node\">\n<title>12</title>\n<path fill=\"#b6f5d1\" stroke=\"#000000\" d=\"M1656.5,-187C1656.5,-187 1486.5,-187 1486.5,-187 1480.5,-187 1474.5,-181 1474.5,-175 1474.5,-175 1474.5,-116 1474.5,-116 1474.5,-110 1480.5,-104 1486.5,-104 1486.5,-104 1656.5,-104 1656.5,-104 1662.5,-104 1668.5,-110 1668.5,-116 1668.5,-116 1668.5,-175 1668.5,-175 1668.5,-181 1662.5,-187 1656.5,-187\"/>\n<text text-anchor=\"start\" x=\"1482.5\" y=\"-171.8\" font-family=\"Helvetica,sans-Serif\" font-size=\"14.00\" fill=\"#000000\">Willingness of product ≤ 7.5</text>\n<text text-anchor=\"start\" x=\"1520.5\" y=\"-156.8\" font-family=\"Helvetica,sans-Serif\" font-size=\"14.00\" fill=\"#000000\">entropy = 1.399</text>\n<text text-anchor=\"start\" x=\"1527.5\" y=\"-141.8\" font-family=\"Helvetica,sans-Serif\" font-size=\"14.00\" fill=\"#000000\">samples = 27</text>\n<text text-anchor=\"start\" x=\"1518\" y=\"-126.8\" font-family=\"Helvetica,sans-Serif\" font-size=\"14.00\" fill=\"#000000\">value = [4, 15, 8]</text>\n<text text-anchor=\"start\" x=\"1490\" y=\"-111.8\" font-family=\"Helvetica,sans-Serif\" font-size=\"14.00\" fill=\"#000000\">class = Daily requirement</text>\n</g>\n<!-- 8&#45;&gt;12 -->\n<g id=\"edge12\" class=\"edge\">\n<title>8&#45;&gt;12</title>\n<path fill=\"none\" stroke=\"#000000\" d=\"M1306.5094,-232.6102C1355.3036,-216.5701 1414.5616,-197.0903 1464.6566,-180.6226\"/>\n<polygon fill=\"#000000\" stroke=\"#000000\" points=\"1465.816,-183.9258 1474.2229,-177.4778 1463.63,-177.2758 1465.816,-183.9258\"/>\n</g>\n<!-- 10 -->\n<g id=\"node11\" class=\"node\">\n<title>10</title>\n<path fill=\"#e58139\" stroke=\"#000000\" d=\"M1225,-68C1225,-68 1040,-68 1040,-68 1034,-68 1028,-62 1028,-56 1028,-56 1028,-12 1028,-12 1028,-6 1034,0 1040,0 1040,0 1225,0 1225,0 1231,0 1237,-6 1237,-12 1237,-12 1237,-56 1237,-56 1237,-62 1231,-68 1225,-68\"/>\n<text text-anchor=\"start\" x=\"1090\" y=\"-52.8\" font-family=\"Helvetica,sans-Serif\" font-size=\"14.00\" fill=\"#000000\">entropy = 0.0</text>\n<text text-anchor=\"start\" x=\"1093\" y=\"-37.8\" font-family=\"Helvetica,sans-Serif\" font-size=\"14.00\" fill=\"#000000\">samples = 4</text>\n<text text-anchor=\"start\" x=\"1083\" y=\"-22.8\" font-family=\"Helvetica,sans-Serif\" font-size=\"14.00\" fill=\"#000000\">value = [4, 0, 0]</text>\n<text text-anchor=\"start\" x=\"1036\" y=\"-7.8\" font-family=\"Helvetica,sans-Serif\" font-size=\"14.00\" fill=\"#000000\">class = My personal fondness</text>\n</g>\n<!-- 9&#45;&gt;10 -->\n<g id=\"edge10\" class=\"edge\">\n<title>9&#45;&gt;10</title>\n<path fill=\"none\" stroke=\"#000000\" d=\"M1180.828,-103.9815C1174.6715,-95.0666 1168.1557,-85.6313 1161.9695,-76.6734\"/>\n<polygon fill=\"#000000\" stroke=\"#000000\" points=\"1164.7245,-74.5034 1156.1619,-68.2637 1158.9645,-78.4811 1164.7245,-74.5034\"/>\n</g>\n<!-- 11 -->\n<g id=\"node12\" class=\"node\">\n<title>11</title>\n<path fill=\"#ffffff\" stroke=\"#000000\" d=\"M1452,-68C1452,-68 1267,-68 1267,-68 1261,-68 1255,-62 1255,-56 1255,-56 1255,-12 1255,-12 1255,-6 1261,0 1267,0 1267,0 1452,0 1452,0 1458,0 1464,-6 1464,-12 1464,-12 1464,-56 1464,-56 1464,-62 1458,-68 1452,-68\"/>\n<text text-anchor=\"start\" x=\"1317\" y=\"-52.8\" font-family=\"Helvetica,sans-Serif\" font-size=\"14.00\" fill=\"#000000\">entropy = 1.0</text>\n<text text-anchor=\"start\" x=\"1320\" y=\"-37.8\" font-family=\"Helvetica,sans-Serif\" font-size=\"14.00\" fill=\"#000000\">samples = 4</text>\n<text text-anchor=\"start\" x=\"1310\" y=\"-22.8\" font-family=\"Helvetica,sans-Serif\" font-size=\"14.00\" fill=\"#000000\">value = [2, 2, 0]</text>\n<text text-anchor=\"start\" x=\"1263\" y=\"-7.8\" font-family=\"Helvetica,sans-Serif\" font-size=\"14.00\" fill=\"#000000\">class = My personal fondness</text>\n</g>\n<!-- 9&#45;&gt;11 -->\n<g id=\"edge11\" class=\"edge\">\n<title>9&#45;&gt;11</title>\n<path fill=\"none\" stroke=\"#000000\" d=\"M1265.3545,-103.9815C1278.3368,-94.3313 1292.1394,-84.0714 1305.0597,-74.4673\"/>\n<polygon fill=\"#000000\" stroke=\"#000000\" points=\"1307.4678,-77.0384 1313.4054,-68.2637 1303.2917,-71.4204 1307.4678,-77.0384\"/>\n</g>\n<!-- 13 -->\n<g id=\"node14\" class=\"node\">\n<title>13</title>\n<path fill=\"#91f1b9\" stroke=\"#000000\" d=\"M1649,-68C1649,-68 1494,-68 1494,-68 1488,-68 1482,-62 1482,-56 1482,-56 1482,-12 1482,-12 1482,-6 1488,0 1494,0 1494,0 1649,0 1649,0 1655,0 1661,-6 1661,-12 1661,-12 1661,-56 1661,-56 1661,-62 1655,-68 1649,-68\"/>\n<text text-anchor=\"start\" x=\"1520.5\" y=\"-52.8\" font-family=\"Helvetica,sans-Serif\" font-size=\"14.00\" fill=\"#000000\">entropy = 1.264</text>\n<text text-anchor=\"start\" x=\"1527.5\" y=\"-37.8\" font-family=\"Helvetica,sans-Serif\" font-size=\"14.00\" fill=\"#000000\">samples = 23</text>\n<text text-anchor=\"start\" x=\"1518\" y=\"-22.8\" font-family=\"Helvetica,sans-Serif\" font-size=\"14.00\" fill=\"#000000\">value = [3, 15, 5]</text>\n<text text-anchor=\"start\" x=\"1490\" y=\"-7.8\" font-family=\"Helvetica,sans-Serif\" font-size=\"14.00\" fill=\"#000000\">class = Daily requirement</text>\n</g>\n<!-- 12&#45;&gt;13 -->\n<g id=\"edge13\" class=\"edge\">\n<title>12&#45;&gt;13</title>\n<path fill=\"none\" stroke=\"#000000\" d=\"M1571.5,-103.9815C1571.5,-95.618 1571.5,-86.7965 1571.5,-78.3409\"/>\n<polygon fill=\"#000000\" stroke=\"#000000\" points=\"1575.0001,-78.2636 1571.5,-68.2637 1568.0001,-78.2637 1575.0001,-78.2636\"/>\n</g>\n<!-- 14 -->\n<g id=\"node15\" class=\"node\">\n<title>14</title>\n<path fill=\"#ab7bee\" stroke=\"#000000\" d=\"M1966,-68C1966,-68 1691,-68 1691,-68 1685,-68 1679,-62 1679,-56 1679,-56 1679,-12 1679,-12 1679,-6 1685,0 1691,0 1691,0 1966,0 1966,0 1972,0 1978,-6 1978,-12 1978,-12 1978,-56 1978,-56 1978,-62 1972,-68 1966,-68\"/>\n<text text-anchor=\"start\" x=\"1777.5\" y=\"-52.8\" font-family=\"Helvetica,sans-Serif\" font-size=\"14.00\" fill=\"#000000\">entropy = 0.811</text>\n<text text-anchor=\"start\" x=\"1789\" y=\"-37.8\" font-family=\"Helvetica,sans-Serif\" font-size=\"14.00\" fill=\"#000000\">samples = 4</text>\n<text text-anchor=\"start\" x=\"1779\" y=\"-22.8\" font-family=\"Helvetica,sans-Serif\" font-size=\"14.00\" fill=\"#000000\">value = [1, 0, 3]</text>\n<text text-anchor=\"start\" x=\"1687\" y=\"-7.8\" font-family=\"Helvetica,sans-Serif\" font-size=\"14.00\" fill=\"#000000\">class = Entertainment/ Favourite Recreation</text>\n</g>\n<!-- 12&#45;&gt;14 -->\n<g id=\"edge14\" class=\"edge\">\n<title>12&#45;&gt;14</title>\n<path fill=\"none\" stroke=\"#000000\" d=\"M1667.1973,-103.9815C1691.2611,-93.5414 1716.9696,-82.3877 1740.6297,-72.1227\"/>\n<polygon fill=\"#000000\" stroke=\"#000000\" points=\"1742.1541,-75.2766 1749.9349,-68.0856 1739.368,-68.8549 1742.1541,-75.2766\"/>\n</g>\n</g>\n</svg>\n"
          },
          "metadata": {
            "tags": []
          },
          "execution_count": 139
        }
      ]
    },
    {
      "cell_type": "code",
      "metadata": {
        "id": "GA1xInvX3o-2",
        "colab": {
          "base_uri": "https://localhost:8080/"
        },
        "outputId": "0d21bf07-1128-4fd0-8ab4-2011607bcdfb"
      },
      "source": [
        "# Print the Confusion Matrix and slice it into four pieces\n",
        "generated_matrix = confusion_matrix(y_test, y_pred_en)\n",
        "print('Confusion matrix\\n\\n', generated_matrix)"
      ],
      "execution_count": null,
      "outputs": [
        {
          "output_type": "stream",
          "text": [
            "Confusion matrix\n",
            "\n",
            " [[ 3  3  0]\n",
            " [ 0 37  2]\n",
            " [ 0  9 14]]\n"
          ],
          "name": "stdout"
        }
      ]
    },
    {
      "cell_type": "code",
      "metadata": {
        "id": "-SFnNJ4j3pyB",
        "colab": {
          "base_uri": "https://localhost:8080/"
        },
        "outputId": "8d1def8f-a00f-4d41-b34d-92e5f92e2a4b"
      },
      "source": [
        "print(classification_report(y_test, y_pred_en))"
      ],
      "execution_count": null,
      "outputs": [
        {
          "output_type": "stream",
          "text": [
            "                                     precision    recall  f1-score   support\n",
            "\n",
            "                  Daily requirement       1.00      0.50      0.67         6\n",
            "Entertainment/ Favourite Recreation       0.76      0.95      0.84        39\n",
            "               My personal fondness       0.88      0.61      0.72        23\n",
            "\n",
            "                           accuracy                           0.79        68\n",
            "                          macro avg       0.88      0.69      0.74        68\n",
            "                       weighted avg       0.82      0.79      0.78        68\n",
            "\n"
          ],
          "name": "stdout"
        }
      ]
    }
  ]
}