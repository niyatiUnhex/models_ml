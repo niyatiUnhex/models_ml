{
  "nbformat": 4,
  "nbformat_minor": 0,
  "metadata": {
    "colab": {
      "name": "Decision_tree_by_NiyatiSharma.ipynb",
      "provenance": [],
      "collapsed_sections": [],
      "include_colab_link": true
    },
    "kernelspec": {
      "name": "python3",
      "display_name": "Python 3"
    },
    "language_info": {
      "name": "python"
    }
  },
  "cells": [
    {
      "cell_type": "markdown",
      "metadata": {
        "id": "view-in-github",
        "colab_type": "text"
      },
      "source": [
        "<a href=\"https://colab.research.google.com/github/niyatiUnhex/models_ml/blob/main/Decision_tree_by_NiyatiSharma.ipynb\" target=\"_parent\"><img src=\"https://colab.research.google.com/assets/colab-badge.svg\" alt=\"Open In Colab\"/></a>"
      ]
    },
    {
      "cell_type": "code",
      "metadata": {
        "id": "f1M2pYc9wMKI"
      },
      "source": [
        "import numpy as np\n",
        "import pandas as pd\n",
        "import matplotlib.pyplot as plt\n",
        "import seaborn as sns\n",
        "%matplotlib inline\n",
        "\n",
        "# Importing sklearn Libraries\n",
        "from sklearn.model_selection import train_test_split\n",
        "from sklearn.tree import DecisionTreeClassifier, plot_tree\n",
        "from sklearn.metrics import accuracy_score\n",
        "from sklearn import tree\n",
        "from sklearn.metrics import confusion_matrix\n",
        "from sklearn.metrics import classification_report"
      ],
      "execution_count": 16,
      "outputs": []
    },
    {
      "cell_type": "code",
      "metadata": {
        "id": "AhLOgQvOwfEw"
      },
      "source": [
        "#data = \"C:\\Users\\hELO\\Downloads\"\n",
        "df = pd.read_csv(\"/content/data_productPreference - Form responses 1.csv\")"
      ],
      "execution_count": 17,
      "outputs": []
    },
    {
      "cell_type": "code",
      "metadata": {
        "colab": {
          "base_uri": "https://localhost:8080/"
        },
        "id": "WMY4ezQdwwjn",
        "outputId": "b3df57ff-e4f8-4856-b830-3ff3432e51b9"
      },
      "source": [
        "df.shape"
      ],
      "execution_count": 18,
      "outputs": [
        {
          "output_type": "execute_result",
          "data": {
            "text/plain": [
              "(204, 10)"
            ]
          },
          "metadata": {},
          "execution_count": 18
        }
      ]
    },
    {
      "cell_type": "code",
      "metadata": {
        "colab": {
          "base_uri": "https://localhost:8080/",
          "height": 372
        },
        "id": "bjDspplOwzAn",
        "outputId": "53ff8125-c7f2-4965-d12d-f5e0c2e6c021"
      },
      "source": [
        "df.head()"
      ],
      "execution_count": 19,
      "outputs": [
        {
          "output_type": "execute_result",
          "data": {
            "text/plain": [
              "             Timestamp            Name  Your Age(in yrs)  Gender  \\\n",
              "0  22/07/2021 01:29:43      G. Lavanya                20  Female   \n",
              "1  22/07/2021 01:31:56    Bharti Arora                21  Female   \n",
              "2  22/07/2021 01:37:56         Kritika                19  Female   \n",
              "3  22/07/2021 01:38:11  Sampada Tarika                18  Female   \n",
              "4  22/07/2021 01:38:33            Divy                19    Male   \n",
              "\n",
              "  State you live           City  \\\n",
              "0          Delhi    South Delhi   \n",
              "1  Uttar Pradesh      Ghaziabad   \n",
              "2          Delhi          Delhi   \n",
              "3  Uttar Pradesh  Muzaffarnagar   \n",
              "4          Delhi      New Delhi   \n",
              "\n",
              "  What product among the following you would prefer to buy?  \\\n",
              "0                    Something to add in your closet          \n",
              "1                               Headphones/Earphones          \n",
              "2                               Headphones/Earphones          \n",
              "3                    Subscription of a streaming app          \n",
              "4                       Book of your favourite genre          \n",
              "\n",
              "  It belongs to which of the following category What's it's price range?  \\\n",
              "0                          My personal fondness                 500-2000   \n",
              "1                             Daily requirement                 500-2000   \n",
              "2           Entertainment/ Favourite Recreation                 500-2000   \n",
              "3           Entertainment/ Favourite Recreation                 500-2000   \n",
              "4           Entertainment/ Favourite Recreation                 500-2000   \n",
              "\n",
              "  Additional Information you want to give regarding that product?  \n",
              "0               Comfortable, XL cloths be the best 🌝               \n",
              "1                          Should be of good quality               \n",
              "2                           Boat./ mivi / shullcandy               \n",
              "3                                                NaN               \n",
              "4  Books from Gitapress Gorakhpur, books on the r...               "
            ],
            "text/html": [
              "\n",
              "  <div id=\"df-de53d509-3f94-48c6-944a-0f656f76629a\">\n",
              "    <div class=\"colab-df-container\">\n",
              "      <div>\n",
              "<style scoped>\n",
              "    .dataframe tbody tr th:only-of-type {\n",
              "        vertical-align: middle;\n",
              "    }\n",
              "\n",
              "    .dataframe tbody tr th {\n",
              "        vertical-align: top;\n",
              "    }\n",
              "\n",
              "    .dataframe thead th {\n",
              "        text-align: right;\n",
              "    }\n",
              "</style>\n",
              "<table border=\"1\" class=\"dataframe\">\n",
              "  <thead>\n",
              "    <tr style=\"text-align: right;\">\n",
              "      <th></th>\n",
              "      <th>Timestamp</th>\n",
              "      <th>Name</th>\n",
              "      <th>Your Age(in yrs)</th>\n",
              "      <th>Gender</th>\n",
              "      <th>State you live</th>\n",
              "      <th>City</th>\n",
              "      <th>What product among the following you would prefer to buy?</th>\n",
              "      <th>It belongs to which of the following category</th>\n",
              "      <th>What's it's price range?</th>\n",
              "      <th>Additional Information you want to give regarding that product?</th>\n",
              "    </tr>\n",
              "  </thead>\n",
              "  <tbody>\n",
              "    <tr>\n",
              "      <th>0</th>\n",
              "      <td>22/07/2021 01:29:43</td>\n",
              "      <td>G. Lavanya</td>\n",
              "      <td>20</td>\n",
              "      <td>Female</td>\n",
              "      <td>Delhi</td>\n",
              "      <td>South Delhi</td>\n",
              "      <td>Something to add in your closet</td>\n",
              "      <td>My personal fondness</td>\n",
              "      <td>500-2000</td>\n",
              "      <td>Comfortable, XL cloths be the best 🌝</td>\n",
              "    </tr>\n",
              "    <tr>\n",
              "      <th>1</th>\n",
              "      <td>22/07/2021 01:31:56</td>\n",
              "      <td>Bharti Arora</td>\n",
              "      <td>21</td>\n",
              "      <td>Female</td>\n",
              "      <td>Uttar Pradesh</td>\n",
              "      <td>Ghaziabad</td>\n",
              "      <td>Headphones/Earphones</td>\n",
              "      <td>Daily requirement</td>\n",
              "      <td>500-2000</td>\n",
              "      <td>Should be of good quality</td>\n",
              "    </tr>\n",
              "    <tr>\n",
              "      <th>2</th>\n",
              "      <td>22/07/2021 01:37:56</td>\n",
              "      <td>Kritika</td>\n",
              "      <td>19</td>\n",
              "      <td>Female</td>\n",
              "      <td>Delhi</td>\n",
              "      <td>Delhi</td>\n",
              "      <td>Headphones/Earphones</td>\n",
              "      <td>Entertainment/ Favourite Recreation</td>\n",
              "      <td>500-2000</td>\n",
              "      <td>Boat./ mivi / shullcandy</td>\n",
              "    </tr>\n",
              "    <tr>\n",
              "      <th>3</th>\n",
              "      <td>22/07/2021 01:38:11</td>\n",
              "      <td>Sampada Tarika</td>\n",
              "      <td>18</td>\n",
              "      <td>Female</td>\n",
              "      <td>Uttar Pradesh</td>\n",
              "      <td>Muzaffarnagar</td>\n",
              "      <td>Subscription of a streaming app</td>\n",
              "      <td>Entertainment/ Favourite Recreation</td>\n",
              "      <td>500-2000</td>\n",
              "      <td>NaN</td>\n",
              "    </tr>\n",
              "    <tr>\n",
              "      <th>4</th>\n",
              "      <td>22/07/2021 01:38:33</td>\n",
              "      <td>Divy</td>\n",
              "      <td>19</td>\n",
              "      <td>Male</td>\n",
              "      <td>Delhi</td>\n",
              "      <td>New Delhi</td>\n",
              "      <td>Book of your favourite genre</td>\n",
              "      <td>Entertainment/ Favourite Recreation</td>\n",
              "      <td>500-2000</td>\n",
              "      <td>Books from Gitapress Gorakhpur, books on the r...</td>\n",
              "    </tr>\n",
              "  </tbody>\n",
              "</table>\n",
              "</div>\n",
              "      <button class=\"colab-df-convert\" onclick=\"convertToInteractive('df-de53d509-3f94-48c6-944a-0f656f76629a')\"\n",
              "              title=\"Convert this dataframe to an interactive table.\"\n",
              "              style=\"display:none;\">\n",
              "        \n",
              "  <svg xmlns=\"http://www.w3.org/2000/svg\" height=\"24px\"viewBox=\"0 0 24 24\"\n",
              "       width=\"24px\">\n",
              "    <path d=\"M0 0h24v24H0V0z\" fill=\"none\"/>\n",
              "    <path d=\"M18.56 5.44l.94 2.06.94-2.06 2.06-.94-2.06-.94-.94-2.06-.94 2.06-2.06.94zm-11 1L8.5 8.5l.94-2.06 2.06-.94-2.06-.94L8.5 2.5l-.94 2.06-2.06.94zm10 10l.94 2.06.94-2.06 2.06-.94-2.06-.94-.94-2.06-.94 2.06-2.06.94z\"/><path d=\"M17.41 7.96l-1.37-1.37c-.4-.4-.92-.59-1.43-.59-.52 0-1.04.2-1.43.59L10.3 9.45l-7.72 7.72c-.78.78-.78 2.05 0 2.83L4 21.41c.39.39.9.59 1.41.59.51 0 1.02-.2 1.41-.59l7.78-7.78 2.81-2.81c.8-.78.8-2.07 0-2.86zM5.41 20L4 18.59l7.72-7.72 1.47 1.35L5.41 20z\"/>\n",
              "  </svg>\n",
              "      </button>\n",
              "      \n",
              "  <style>\n",
              "    .colab-df-container {\n",
              "      display:flex;\n",
              "      flex-wrap:wrap;\n",
              "      gap: 12px;\n",
              "    }\n",
              "\n",
              "    .colab-df-convert {\n",
              "      background-color: #E8F0FE;\n",
              "      border: none;\n",
              "      border-radius: 50%;\n",
              "      cursor: pointer;\n",
              "      display: none;\n",
              "      fill: #1967D2;\n",
              "      height: 32px;\n",
              "      padding: 0 0 0 0;\n",
              "      width: 32px;\n",
              "    }\n",
              "\n",
              "    .colab-df-convert:hover {\n",
              "      background-color: #E2EBFA;\n",
              "      box-shadow: 0px 1px 2px rgba(60, 64, 67, 0.3), 0px 1px 3px 1px rgba(60, 64, 67, 0.15);\n",
              "      fill: #174EA6;\n",
              "    }\n",
              "\n",
              "    [theme=dark] .colab-df-convert {\n",
              "      background-color: #3B4455;\n",
              "      fill: #D2E3FC;\n",
              "    }\n",
              "\n",
              "    [theme=dark] .colab-df-convert:hover {\n",
              "      background-color: #434B5C;\n",
              "      box-shadow: 0px 1px 3px 1px rgba(0, 0, 0, 0.15);\n",
              "      filter: drop-shadow(0px 1px 2px rgba(0, 0, 0, 0.3));\n",
              "      fill: #FFFFFF;\n",
              "    }\n",
              "  </style>\n",
              "\n",
              "      <script>\n",
              "        const buttonEl =\n",
              "          document.querySelector('#df-de53d509-3f94-48c6-944a-0f656f76629a button.colab-df-convert');\n",
              "        buttonEl.style.display =\n",
              "          google.colab.kernel.accessAllowed ? 'block' : 'none';\n",
              "\n",
              "        async function convertToInteractive(key) {\n",
              "          const element = document.querySelector('#df-de53d509-3f94-48c6-944a-0f656f76629a');\n",
              "          const dataTable =\n",
              "            await google.colab.kernel.invokeFunction('convertToInteractive',\n",
              "                                                     [key], {});\n",
              "          if (!dataTable) return;\n",
              "\n",
              "          const docLinkHtml = 'Like what you see? Visit the ' +\n",
              "            '<a target=\"_blank\" href=https://colab.research.google.com/notebooks/data_table.ipynb>data table notebook</a>'\n",
              "            + ' to learn more about interactive tables.';\n",
              "          element.innerHTML = '';\n",
              "          dataTable['output_type'] = 'display_data';\n",
              "          await google.colab.output.renderOutput(dataTable, element);\n",
              "          const docLink = document.createElement('div');\n",
              "          docLink.innerHTML = docLinkHtml;\n",
              "          element.appendChild(docLink);\n",
              "        }\n",
              "      </script>\n",
              "    </div>\n",
              "  </div>\n",
              "  "
            ]
          },
          "metadata": {},
          "execution_count": 19
        }
      ]
    },
    {
      "cell_type": "code",
      "metadata": {
        "colab": {
          "base_uri": "https://localhost:8080/"
        },
        "id": "JMpQvmvSzdAC",
        "outputId": "8c748398-cf90-456b-deea-ff6498f50846"
      },
      "source": [
        "df.columns"
      ],
      "execution_count": 20,
      "outputs": [
        {
          "output_type": "execute_result",
          "data": {
            "text/plain": [
              "Index(['Timestamp', 'Name', 'Your Age(in yrs)', 'Gender', 'State you live',\n",
              "       'City', 'What product among the following you would prefer to buy?',\n",
              "       'It belongs to which of the following category',\n",
              "       'What's it's price range?',\n",
              "       'Additional Information you want to give regarding that product?'],\n",
              "      dtype='object')"
            ]
          },
          "metadata": {},
          "execution_count": 20
        }
      ]
    },
    {
      "cell_type": "code",
      "metadata": {
        "colab": {
          "base_uri": "https://localhost:8080/"
        },
        "id": "S90oYwuXU3f-",
        "outputId": "8f2fecea-8cf6-4fe7-c21a-b4bca9c5245f"
      },
      "source": [
        "col_names = ['Timestamp', 'Name', 'Age(in yrs)', 'Gender', 'State','City', 'Willingness of product','Product Category','price-range', 'Additional Info']\n",
        "df.columns = col_names\n",
        "col_names"
      ],
      "execution_count": 21,
      "outputs": [
        {
          "output_type": "execute_result",
          "data": {
            "text/plain": [
              "['Timestamp',\n",
              " 'Name',\n",
              " 'Age(in yrs)',\n",
              " 'Gender',\n",
              " 'State',\n",
              " 'City',\n",
              " 'Willingness of product',\n",
              " 'Product Category',\n",
              " 'price-range',\n",
              " 'Additional Info']"
            ]
          },
          "metadata": {},
          "execution_count": 21
        }
      ]
    },
    {
      "cell_type": "code",
      "metadata": {
        "colab": {
          "base_uri": "https://localhost:8080/"
        },
        "id": "GtRUDQ4jXi4c",
        "outputId": "d2ebd65d-c038-4157-bc9c-3979dc4b133e"
      },
      "source": [
        "df.isnull().sum()"
      ],
      "execution_count": 22,
      "outputs": [
        {
          "output_type": "execute_result",
          "data": {
            "text/plain": [
              "Timestamp                   0\n",
              "Name                        0\n",
              "Age(in yrs)                 0\n",
              "Gender                      0\n",
              "State                       0\n",
              "City                        0\n",
              "Willingness of product      0\n",
              "Product Category            0\n",
              "price-range                 0\n",
              "Additional Info           106\n",
              "dtype: int64"
            ]
          },
          "metadata": {},
          "execution_count": 22
        }
      ]
    },
    {
      "cell_type": "code",
      "metadata": {
        "colab": {
          "base_uri": "https://localhost:8080/",
          "height": 206
        },
        "id": "PHUWDn6Y8HFd",
        "outputId": "489f6f40-b07e-409b-c99b-d7f81d1309da"
      },
      "source": [
        "df = df.drop(labels = ['Timestamp', 'Name', 'Additional Info'], axis =1) \n",
        "df.head()"
      ],
      "execution_count": 23,
      "outputs": [
        {
          "output_type": "execute_result",
          "data": {
            "text/plain": [
              "   Age(in yrs)  Gender          State           City  \\\n",
              "0           20  Female          Delhi    South Delhi   \n",
              "1           21  Female  Uttar Pradesh      Ghaziabad   \n",
              "2           19  Female          Delhi          Delhi   \n",
              "3           18  Female  Uttar Pradesh  Muzaffarnagar   \n",
              "4           19    Male          Delhi      New Delhi   \n",
              "\n",
              "            Willingness of product                     Product Category  \\\n",
              "0  Something to add in your closet                 My personal fondness   \n",
              "1             Headphones/Earphones                    Daily requirement   \n",
              "2             Headphones/Earphones  Entertainment/ Favourite Recreation   \n",
              "3  Subscription of a streaming app  Entertainment/ Favourite Recreation   \n",
              "4     Book of your favourite genre  Entertainment/ Favourite Recreation   \n",
              "\n",
              "  price-range  \n",
              "0    500-2000  \n",
              "1    500-2000  \n",
              "2    500-2000  \n",
              "3    500-2000  \n",
              "4    500-2000  "
            ],
            "text/html": [
              "\n",
              "  <div id=\"df-42f00858-ce0d-44e2-9685-56e6bc58c7bd\">\n",
              "    <div class=\"colab-df-container\">\n",
              "      <div>\n",
              "<style scoped>\n",
              "    .dataframe tbody tr th:only-of-type {\n",
              "        vertical-align: middle;\n",
              "    }\n",
              "\n",
              "    .dataframe tbody tr th {\n",
              "        vertical-align: top;\n",
              "    }\n",
              "\n",
              "    .dataframe thead th {\n",
              "        text-align: right;\n",
              "    }\n",
              "</style>\n",
              "<table border=\"1\" class=\"dataframe\">\n",
              "  <thead>\n",
              "    <tr style=\"text-align: right;\">\n",
              "      <th></th>\n",
              "      <th>Age(in yrs)</th>\n",
              "      <th>Gender</th>\n",
              "      <th>State</th>\n",
              "      <th>City</th>\n",
              "      <th>Willingness of product</th>\n",
              "      <th>Product Category</th>\n",
              "      <th>price-range</th>\n",
              "    </tr>\n",
              "  </thead>\n",
              "  <tbody>\n",
              "    <tr>\n",
              "      <th>0</th>\n",
              "      <td>20</td>\n",
              "      <td>Female</td>\n",
              "      <td>Delhi</td>\n",
              "      <td>South Delhi</td>\n",
              "      <td>Something to add in your closet</td>\n",
              "      <td>My personal fondness</td>\n",
              "      <td>500-2000</td>\n",
              "    </tr>\n",
              "    <tr>\n",
              "      <th>1</th>\n",
              "      <td>21</td>\n",
              "      <td>Female</td>\n",
              "      <td>Uttar Pradesh</td>\n",
              "      <td>Ghaziabad</td>\n",
              "      <td>Headphones/Earphones</td>\n",
              "      <td>Daily requirement</td>\n",
              "      <td>500-2000</td>\n",
              "    </tr>\n",
              "    <tr>\n",
              "      <th>2</th>\n",
              "      <td>19</td>\n",
              "      <td>Female</td>\n",
              "      <td>Delhi</td>\n",
              "      <td>Delhi</td>\n",
              "      <td>Headphones/Earphones</td>\n",
              "      <td>Entertainment/ Favourite Recreation</td>\n",
              "      <td>500-2000</td>\n",
              "    </tr>\n",
              "    <tr>\n",
              "      <th>3</th>\n",
              "      <td>18</td>\n",
              "      <td>Female</td>\n",
              "      <td>Uttar Pradesh</td>\n",
              "      <td>Muzaffarnagar</td>\n",
              "      <td>Subscription of a streaming app</td>\n",
              "      <td>Entertainment/ Favourite Recreation</td>\n",
              "      <td>500-2000</td>\n",
              "    </tr>\n",
              "    <tr>\n",
              "      <th>4</th>\n",
              "      <td>19</td>\n",
              "      <td>Male</td>\n",
              "      <td>Delhi</td>\n",
              "      <td>New Delhi</td>\n",
              "      <td>Book of your favourite genre</td>\n",
              "      <td>Entertainment/ Favourite Recreation</td>\n",
              "      <td>500-2000</td>\n",
              "    </tr>\n",
              "  </tbody>\n",
              "</table>\n",
              "</div>\n",
              "      <button class=\"colab-df-convert\" onclick=\"convertToInteractive('df-42f00858-ce0d-44e2-9685-56e6bc58c7bd')\"\n",
              "              title=\"Convert this dataframe to an interactive table.\"\n",
              "              style=\"display:none;\">\n",
              "        \n",
              "  <svg xmlns=\"http://www.w3.org/2000/svg\" height=\"24px\"viewBox=\"0 0 24 24\"\n",
              "       width=\"24px\">\n",
              "    <path d=\"M0 0h24v24H0V0z\" fill=\"none\"/>\n",
              "    <path d=\"M18.56 5.44l.94 2.06.94-2.06 2.06-.94-2.06-.94-.94-2.06-.94 2.06-2.06.94zm-11 1L8.5 8.5l.94-2.06 2.06-.94-2.06-.94L8.5 2.5l-.94 2.06-2.06.94zm10 10l.94 2.06.94-2.06 2.06-.94-2.06-.94-.94-2.06-.94 2.06-2.06.94z\"/><path d=\"M17.41 7.96l-1.37-1.37c-.4-.4-.92-.59-1.43-.59-.52 0-1.04.2-1.43.59L10.3 9.45l-7.72 7.72c-.78.78-.78 2.05 0 2.83L4 21.41c.39.39.9.59 1.41.59.51 0 1.02-.2 1.41-.59l7.78-7.78 2.81-2.81c.8-.78.8-2.07 0-2.86zM5.41 20L4 18.59l7.72-7.72 1.47 1.35L5.41 20z\"/>\n",
              "  </svg>\n",
              "      </button>\n",
              "      \n",
              "  <style>\n",
              "    .colab-df-container {\n",
              "      display:flex;\n",
              "      flex-wrap:wrap;\n",
              "      gap: 12px;\n",
              "    }\n",
              "\n",
              "    .colab-df-convert {\n",
              "      background-color: #E8F0FE;\n",
              "      border: none;\n",
              "      border-radius: 50%;\n",
              "      cursor: pointer;\n",
              "      display: none;\n",
              "      fill: #1967D2;\n",
              "      height: 32px;\n",
              "      padding: 0 0 0 0;\n",
              "      width: 32px;\n",
              "    }\n",
              "\n",
              "    .colab-df-convert:hover {\n",
              "      background-color: #E2EBFA;\n",
              "      box-shadow: 0px 1px 2px rgba(60, 64, 67, 0.3), 0px 1px 3px 1px rgba(60, 64, 67, 0.15);\n",
              "      fill: #174EA6;\n",
              "    }\n",
              "\n",
              "    [theme=dark] .colab-df-convert {\n",
              "      background-color: #3B4455;\n",
              "      fill: #D2E3FC;\n",
              "    }\n",
              "\n",
              "    [theme=dark] .colab-df-convert:hover {\n",
              "      background-color: #434B5C;\n",
              "      box-shadow: 0px 1px 3px 1px rgba(0, 0, 0, 0.15);\n",
              "      filter: drop-shadow(0px 1px 2px rgba(0, 0, 0, 0.3));\n",
              "      fill: #FFFFFF;\n",
              "    }\n",
              "  </style>\n",
              "\n",
              "      <script>\n",
              "        const buttonEl =\n",
              "          document.querySelector('#df-42f00858-ce0d-44e2-9685-56e6bc58c7bd button.colab-df-convert');\n",
              "        buttonEl.style.display =\n",
              "          google.colab.kernel.accessAllowed ? 'block' : 'none';\n",
              "\n",
              "        async function convertToInteractive(key) {\n",
              "          const element = document.querySelector('#df-42f00858-ce0d-44e2-9685-56e6bc58c7bd');\n",
              "          const dataTable =\n",
              "            await google.colab.kernel.invokeFunction('convertToInteractive',\n",
              "                                                     [key], {});\n",
              "          if (!dataTable) return;\n",
              "\n",
              "          const docLinkHtml = 'Like what you see? Visit the ' +\n",
              "            '<a target=\"_blank\" href=https://colab.research.google.com/notebooks/data_table.ipynb>data table notebook</a>'\n",
              "            + ' to learn more about interactive tables.';\n",
              "          element.innerHTML = '';\n",
              "          dataTable['output_type'] = 'display_data';\n",
              "          await google.colab.output.renderOutput(dataTable, element);\n",
              "          const docLink = document.createElement('div');\n",
              "          docLink.innerHTML = docLinkHtml;\n",
              "          element.appendChild(docLink);\n",
              "        }\n",
              "      </script>\n",
              "    </div>\n",
              "  </div>\n",
              "  "
            ]
          },
          "metadata": {},
          "execution_count": 23
        }
      ]
    },
    {
      "cell_type": "code",
      "metadata": {
        "colab": {
          "base_uri": "https://localhost:8080/"
        },
        "id": "huzoZ3C63KUc",
        "outputId": "385edd25-6e44-4674-b664-144d9580b837"
      },
      "source": [
        "col_names = ['Age(in yrs)', 'Gender', 'State','City', 'Willingness of product','Product Category','price-range']\n",
        "for col in col_names:\n",
        "  print(df[col].value_counts())"
      ],
      "execution_count": 24,
      "outputs": [
        {
          "output_type": "stream",
          "name": "stdout",
          "text": [
            "18    65\n",
            "19    64\n",
            "20    25\n",
            "21    24\n",
            "17     7\n",
            "23     4\n",
            "24     3\n",
            "13     2\n",
            "25     2\n",
            "16     2\n",
            "22     1\n",
            "92     1\n",
            "29     1\n",
            "15     1\n",
            "26     1\n",
            "46     1\n",
            "Name: Age(in yrs), dtype: int64\n",
            "Female    139\n",
            "Male       65\n",
            "Name: Gender, dtype: int64\n",
            "Delhi                72\n",
            "Uttar Pradesh        59\n",
            "West Bengal           9\n",
            "Haryana               7\n",
            "Rajasthan             7\n",
            "Uttar Pradesh         7\n",
            "Haryana               5\n",
            "Madhya Pradesh        5\n",
            "Delhi                 4\n",
            "Uttarakhand           3\n",
            "Bihar                 3\n",
            "Bengaluru             2\n",
            "Jharkhand             2\n",
            "Maharashtra           2\n",
            "New Delhi             2\n",
            "Odisha                1\n",
            "Gujarat               1\n",
            "Uttar Pardesh         1\n",
            "Jammu And Kashmir     1\n",
            "Gujarat               1\n",
            "Maharashtra           1\n",
            "Madhya Pradesh        1\n",
            "California            1\n",
            "Uttar Pradesh         1\n",
            "Assam, India          1\n",
            "Assam                 1\n",
            "Manipur               1\n",
            "West Bengal           1\n",
            "Tamilnadu             1\n",
            "Goa                   1\n",
            "Name: State, dtype: int64\n",
            "New Delhi                35\n",
            "Delhi                    32\n",
            "Ghaziabad                14\n",
            "Asansol                   9\n",
            "Lucknow                   9\n",
            "                         ..\n",
            "Ranchi                    1\n",
            "Verna                     1\n",
            "Bareilly                  1\n",
            "Vikaspuri, New Delhi      1\n",
            "Unnao                     1\n",
            "Name: City, Length: 79, dtype: int64\n",
            "Laptop/PC/Tablet                   59\n",
            "Headphones/Earphones               36\n",
            "Book of your favourite genre       32\n",
            "Something to add in your closet    26\n",
            "Smartwatch                         22\n",
            "Subscription of a streaming app    13\n",
            "Healthcare item                    11\n",
            "stationery and craft items          1\n",
            "Jet plane                           1\n",
            "Something Personal                  1\n",
            "BTS concert tickets                 1\n",
            "DSLR CAMERA (HIGH END)              1\n",
            "Name: Willingness of product, dtype: int64\n",
            "Entertainment/ Favourite Recreation    113\n",
            "My personal fondness                    73\n",
            "Daily requirement                       18\n",
            "Name: Product Category, dtype: int64\n",
            "500-2000           97\n",
            "More than 10000    54\n",
            "2000-5000          30\n",
            "5000-10000         23\n",
            "Name: price-range, dtype: int64\n"
          ]
        }
      ]
    },
    {
      "cell_type": "code",
      "metadata": {
        "colab": {
          "base_uri": "https://localhost:8080/",
          "height": 300
        },
        "id": "ryWng4ERX5ay",
        "outputId": "16dda096-3a9b-47ba-f2c0-d2fab42b5f45"
      },
      "source": [
        "df.describe()"
      ],
      "execution_count": 26,
      "outputs": [
        {
          "output_type": "execute_result",
          "data": {
            "text/plain": [
              "       Age(in yrs)\n",
              "count   204.000000\n",
              "mean     19.661765\n",
              "std       5.726811\n",
              "min      13.000000\n",
              "25%      18.000000\n",
              "50%      19.000000\n",
              "75%      20.000000\n",
              "max      92.000000"
            ],
            "text/html": [
              "\n",
              "  <div id=\"df-6ce1eeed-4e94-4384-bb9b-d7ebb8c9ef5b\">\n",
              "    <div class=\"colab-df-container\">\n",
              "      <div>\n",
              "<style scoped>\n",
              "    .dataframe tbody tr th:only-of-type {\n",
              "        vertical-align: middle;\n",
              "    }\n",
              "\n",
              "    .dataframe tbody tr th {\n",
              "        vertical-align: top;\n",
              "    }\n",
              "\n",
              "    .dataframe thead th {\n",
              "        text-align: right;\n",
              "    }\n",
              "</style>\n",
              "<table border=\"1\" class=\"dataframe\">\n",
              "  <thead>\n",
              "    <tr style=\"text-align: right;\">\n",
              "      <th></th>\n",
              "      <th>Age(in yrs)</th>\n",
              "    </tr>\n",
              "  </thead>\n",
              "  <tbody>\n",
              "    <tr>\n",
              "      <th>count</th>\n",
              "      <td>204.000000</td>\n",
              "    </tr>\n",
              "    <tr>\n",
              "      <th>mean</th>\n",
              "      <td>19.661765</td>\n",
              "    </tr>\n",
              "    <tr>\n",
              "      <th>std</th>\n",
              "      <td>5.726811</td>\n",
              "    </tr>\n",
              "    <tr>\n",
              "      <th>min</th>\n",
              "      <td>13.000000</td>\n",
              "    </tr>\n",
              "    <tr>\n",
              "      <th>25%</th>\n",
              "      <td>18.000000</td>\n",
              "    </tr>\n",
              "    <tr>\n",
              "      <th>50%</th>\n",
              "      <td>19.000000</td>\n",
              "    </tr>\n",
              "    <tr>\n",
              "      <th>75%</th>\n",
              "      <td>20.000000</td>\n",
              "    </tr>\n",
              "    <tr>\n",
              "      <th>max</th>\n",
              "      <td>92.000000</td>\n",
              "    </tr>\n",
              "  </tbody>\n",
              "</table>\n",
              "</div>\n",
              "      <button class=\"colab-df-convert\" onclick=\"convertToInteractive('df-6ce1eeed-4e94-4384-bb9b-d7ebb8c9ef5b')\"\n",
              "              title=\"Convert this dataframe to an interactive table.\"\n",
              "              style=\"display:none;\">\n",
              "        \n",
              "  <svg xmlns=\"http://www.w3.org/2000/svg\" height=\"24px\"viewBox=\"0 0 24 24\"\n",
              "       width=\"24px\">\n",
              "    <path d=\"M0 0h24v24H0V0z\" fill=\"none\"/>\n",
              "    <path d=\"M18.56 5.44l.94 2.06.94-2.06 2.06-.94-2.06-.94-.94-2.06-.94 2.06-2.06.94zm-11 1L8.5 8.5l.94-2.06 2.06-.94-2.06-.94L8.5 2.5l-.94 2.06-2.06.94zm10 10l.94 2.06.94-2.06 2.06-.94-2.06-.94-.94-2.06-.94 2.06-2.06.94z\"/><path d=\"M17.41 7.96l-1.37-1.37c-.4-.4-.92-.59-1.43-.59-.52 0-1.04.2-1.43.59L10.3 9.45l-7.72 7.72c-.78.78-.78 2.05 0 2.83L4 21.41c.39.39.9.59 1.41.59.51 0 1.02-.2 1.41-.59l7.78-7.78 2.81-2.81c.8-.78.8-2.07 0-2.86zM5.41 20L4 18.59l7.72-7.72 1.47 1.35L5.41 20z\"/>\n",
              "  </svg>\n",
              "      </button>\n",
              "      \n",
              "  <style>\n",
              "    .colab-df-container {\n",
              "      display:flex;\n",
              "      flex-wrap:wrap;\n",
              "      gap: 12px;\n",
              "    }\n",
              "\n",
              "    .colab-df-convert {\n",
              "      background-color: #E8F0FE;\n",
              "      border: none;\n",
              "      border-radius: 50%;\n",
              "      cursor: pointer;\n",
              "      display: none;\n",
              "      fill: #1967D2;\n",
              "      height: 32px;\n",
              "      padding: 0 0 0 0;\n",
              "      width: 32px;\n",
              "    }\n",
              "\n",
              "    .colab-df-convert:hover {\n",
              "      background-color: #E2EBFA;\n",
              "      box-shadow: 0px 1px 2px rgba(60, 64, 67, 0.3), 0px 1px 3px 1px rgba(60, 64, 67, 0.15);\n",
              "      fill: #174EA6;\n",
              "    }\n",
              "\n",
              "    [theme=dark] .colab-df-convert {\n",
              "      background-color: #3B4455;\n",
              "      fill: #D2E3FC;\n",
              "    }\n",
              "\n",
              "    [theme=dark] .colab-df-convert:hover {\n",
              "      background-color: #434B5C;\n",
              "      box-shadow: 0px 1px 3px 1px rgba(0, 0, 0, 0.15);\n",
              "      filter: drop-shadow(0px 1px 2px rgba(0, 0, 0, 0.3));\n",
              "      fill: #FFFFFF;\n",
              "    }\n",
              "  </style>\n",
              "\n",
              "      <script>\n",
              "        const buttonEl =\n",
              "          document.querySelector('#df-6ce1eeed-4e94-4384-bb9b-d7ebb8c9ef5b button.colab-df-convert');\n",
              "        buttonEl.style.display =\n",
              "          google.colab.kernel.accessAllowed ? 'block' : 'none';\n",
              "\n",
              "        async function convertToInteractive(key) {\n",
              "          const element = document.querySelector('#df-6ce1eeed-4e94-4384-bb9b-d7ebb8c9ef5b');\n",
              "          const dataTable =\n",
              "            await google.colab.kernel.invokeFunction('convertToInteractive',\n",
              "                                                     [key], {});\n",
              "          if (!dataTable) return;\n",
              "\n",
              "          const docLinkHtml = 'Like what you see? Visit the ' +\n",
              "            '<a target=\"_blank\" href=https://colab.research.google.com/notebooks/data_table.ipynb>data table notebook</a>'\n",
              "            + ' to learn more about interactive tables.';\n",
              "          element.innerHTML = '';\n",
              "          dataTable['output_type'] = 'display_data';\n",
              "          await google.colab.output.renderOutput(dataTable, element);\n",
              "          const docLink = document.createElement('div');\n",
              "          docLink.innerHTML = docLinkHtml;\n",
              "          element.appendChild(docLink);\n",
              "        }\n",
              "      </script>\n",
              "    </div>\n",
              "  </div>\n",
              "  "
            ]
          },
          "metadata": {},
          "execution_count": 26
        }
      ]
    },
    {
      "cell_type": "code",
      "metadata": {
        "colab": {
          "base_uri": "https://localhost:8080/"
        },
        "id": "6QNY3WqPX-Ub",
        "outputId": "c194059c-d6ff-4ba4-b9b4-c23b337e0f7a"
      },
      "source": [
        "df.info()"
      ],
      "execution_count": 27,
      "outputs": [
        {
          "output_type": "stream",
          "name": "stdout",
          "text": [
            "<class 'pandas.core.frame.DataFrame'>\n",
            "RangeIndex: 204 entries, 0 to 203\n",
            "Data columns (total 7 columns):\n",
            " #   Column                  Non-Null Count  Dtype \n",
            "---  ------                  --------------  ----- \n",
            " 0   Age(in yrs)             204 non-null    int64 \n",
            " 1   Gender                  204 non-null    object\n",
            " 2   State                   204 non-null    object\n",
            " 3   City                    204 non-null    object\n",
            " 4   Willingness of product  204 non-null    object\n",
            " 5   Product Category        204 non-null    object\n",
            " 6   price-range             204 non-null    object\n",
            "dtypes: int64(1), object(6)\n",
            "memory usage: 11.3+ KB\n"
          ]
        }
      ]
    },
    {
      "cell_type": "code",
      "metadata": {
        "colab": {
          "base_uri": "https://localhost:8080/"
        },
        "id": "YEyVBfeRXRtF",
        "outputId": "073367b6-6927-46e4-fc1a-d8255fa3ea1c"
      },
      "source": [
        "df.isnull().sum()"
      ],
      "execution_count": null,
      "outputs": [
        {
          "output_type": "execute_result",
          "data": {
            "text/plain": [
              "Age(in yrs)               0\n",
              "Gender                    0\n",
              "State                     0\n",
              "City                      0\n",
              "Willingness of product    0\n",
              "Product Category          0\n",
              "price-range               0\n",
              "dtype: int64"
            ]
          },
          "metadata": {
            "tags": []
          },
          "execution_count": 106
        }
      ]
    },
    {
      "cell_type": "code",
      "metadata": {
        "id": "JRqTAF0Ezwgs",
        "colab": {
          "base_uri": "https://localhost:8080/"
        },
        "outputId": "8f65a150-f443-4ba2-9342-3b054c797442"
      },
      "source": [
        "df['Product Category'].value_counts()"
      ],
      "execution_count": 29,
      "outputs": [
        {
          "output_type": "execute_result",
          "data": {
            "text/plain": [
              "Entertainment/ Favourite Recreation    113\n",
              "My personal fondness                    73\n",
              "Daily requirement                       18\n",
              "Name: Product Category, dtype: int64"
            ]
          },
          "metadata": {},
          "execution_count": 29
        }
      ]
    },
    {
      "cell_type": "code",
      "source": [
        "#data visualisation\n"
      ],
      "metadata": {
        "id": "hXkZeW-g4mks"
      },
      "execution_count": null,
      "outputs": []
    },
    {
      "cell_type": "code",
      "source": [
        ""
      ],
      "metadata": {
        "id": "3S15DCqb4pgQ"
      },
      "execution_count": null,
      "outputs": []
    },
    {
      "cell_type": "code",
      "metadata": {
        "id": "UG0GCK7Ezx0m"
      },
      "source": [
        "X = df.drop(['Product Category'], axis=1)\n",
        "y = df['Product Category']"
      ],
      "execution_count": 30,
      "outputs": []
    },
    {
      "cell_type": "code",
      "metadata": {
        "id": "Mbho0qpqzxxg"
      },
      "source": [
        "# split X and y into training and testing sets\n",
        "X_train, X_test, y_train, y_test = train_test_split(X, y, test_size = 0.33, random_state = 42)"
      ],
      "execution_count": 31,
      "outputs": []
    },
    {
      "cell_type": "code",
      "metadata": {
        "id": "7V1C4kmizxu1",
        "colab": {
          "base_uri": "https://localhost:8080/"
        },
        "outputId": "0555bbe4-e45c-4b85-a53e-a28a642084a3"
      },
      "source": [
        "#check the shape of X_train and X_test\n",
        "X_train.shape, X_test.shape"
      ],
      "execution_count": 32,
      "outputs": [
        {
          "output_type": "execute_result",
          "data": {
            "text/plain": [
              "((136, 6), (68, 6))"
            ]
          },
          "metadata": {},
          "execution_count": 32
        }
      ]
    },
    {
      "cell_type": "code",
      "metadata": {
        "id": "dKJFY5qUzxsd",
        "colab": {
          "base_uri": "https://localhost:8080/"
        },
        "outputId": "abe91963-4f0f-4866-e6a6-4acfeb0fc2bb"
      },
      "source": [
        "X_train.dtypes"
      ],
      "execution_count": 33,
      "outputs": [
        {
          "output_type": "execute_result",
          "data": {
            "text/plain": [
              "Age(in yrs)                int64\n",
              "Gender                    object\n",
              "State                     object\n",
              "City                      object\n",
              "Willingness of product    object\n",
              "price-range               object\n",
              "dtype: object"
            ]
          },
          "metadata": {},
          "execution_count": 33
        }
      ]
    },
    {
      "cell_type": "code",
      "metadata": {
        "id": "0hDXaZ48zxp5",
        "colab": {
          "base_uri": "https://localhost:8080/",
          "height": 206
        },
        "outputId": "0e9259b8-615d-48cb-f636-d6363ce5e2d9"
      },
      "source": [
        "X_train.head()"
      ],
      "execution_count": 34,
      "outputs": [
        {
          "output_type": "execute_result",
          "data": {
            "text/plain": [
              "     Age(in yrs)  Gender            State       City  \\\n",
              "75            19  Female    Uttar Pradesh  Ghaziabad   \n",
              "197           20    Male        Bengaluru  Karnataka   \n",
              "139           18  Female         Haryana     Safidon   \n",
              "51            19  Female            Delhi  New Delhi   \n",
              "122           19    Male  Madhya Pradesh       Katni   \n",
              "\n",
              "              Willingness of product price-range  \n",
              "75                        Smartwatch   2000-5000  \n",
              "197  Subscription of a streaming app   2000-5000  \n",
              "139                 Laptop/PC/Tablet  5000-10000  \n",
              "51                        Smartwatch    500-2000  \n",
              "122     Book of your favourite genre    500-2000  "
            ],
            "text/html": [
              "\n",
              "  <div id=\"df-de5469fb-2a94-4b1e-af61-45e630ef86cc\">\n",
              "    <div class=\"colab-df-container\">\n",
              "      <div>\n",
              "<style scoped>\n",
              "    .dataframe tbody tr th:only-of-type {\n",
              "        vertical-align: middle;\n",
              "    }\n",
              "\n",
              "    .dataframe tbody tr th {\n",
              "        vertical-align: top;\n",
              "    }\n",
              "\n",
              "    .dataframe thead th {\n",
              "        text-align: right;\n",
              "    }\n",
              "</style>\n",
              "<table border=\"1\" class=\"dataframe\">\n",
              "  <thead>\n",
              "    <tr style=\"text-align: right;\">\n",
              "      <th></th>\n",
              "      <th>Age(in yrs)</th>\n",
              "      <th>Gender</th>\n",
              "      <th>State</th>\n",
              "      <th>City</th>\n",
              "      <th>Willingness of product</th>\n",
              "      <th>price-range</th>\n",
              "    </tr>\n",
              "  </thead>\n",
              "  <tbody>\n",
              "    <tr>\n",
              "      <th>75</th>\n",
              "      <td>19</td>\n",
              "      <td>Female</td>\n",
              "      <td>Uttar Pradesh</td>\n",
              "      <td>Ghaziabad</td>\n",
              "      <td>Smartwatch</td>\n",
              "      <td>2000-5000</td>\n",
              "    </tr>\n",
              "    <tr>\n",
              "      <th>197</th>\n",
              "      <td>20</td>\n",
              "      <td>Male</td>\n",
              "      <td>Bengaluru</td>\n",
              "      <td>Karnataka</td>\n",
              "      <td>Subscription of a streaming app</td>\n",
              "      <td>2000-5000</td>\n",
              "    </tr>\n",
              "    <tr>\n",
              "      <th>139</th>\n",
              "      <td>18</td>\n",
              "      <td>Female</td>\n",
              "      <td>Haryana</td>\n",
              "      <td>Safidon</td>\n",
              "      <td>Laptop/PC/Tablet</td>\n",
              "      <td>5000-10000</td>\n",
              "    </tr>\n",
              "    <tr>\n",
              "      <th>51</th>\n",
              "      <td>19</td>\n",
              "      <td>Female</td>\n",
              "      <td>Delhi</td>\n",
              "      <td>New Delhi</td>\n",
              "      <td>Smartwatch</td>\n",
              "      <td>500-2000</td>\n",
              "    </tr>\n",
              "    <tr>\n",
              "      <th>122</th>\n",
              "      <td>19</td>\n",
              "      <td>Male</td>\n",
              "      <td>Madhya Pradesh</td>\n",
              "      <td>Katni</td>\n",
              "      <td>Book of your favourite genre</td>\n",
              "      <td>500-2000</td>\n",
              "    </tr>\n",
              "  </tbody>\n",
              "</table>\n",
              "</div>\n",
              "      <button class=\"colab-df-convert\" onclick=\"convertToInteractive('df-de5469fb-2a94-4b1e-af61-45e630ef86cc')\"\n",
              "              title=\"Convert this dataframe to an interactive table.\"\n",
              "              style=\"display:none;\">\n",
              "        \n",
              "  <svg xmlns=\"http://www.w3.org/2000/svg\" height=\"24px\"viewBox=\"0 0 24 24\"\n",
              "       width=\"24px\">\n",
              "    <path d=\"M0 0h24v24H0V0z\" fill=\"none\"/>\n",
              "    <path d=\"M18.56 5.44l.94 2.06.94-2.06 2.06-.94-2.06-.94-.94-2.06-.94 2.06-2.06.94zm-11 1L8.5 8.5l.94-2.06 2.06-.94-2.06-.94L8.5 2.5l-.94 2.06-2.06.94zm10 10l.94 2.06.94-2.06 2.06-.94-2.06-.94-.94-2.06-.94 2.06-2.06.94z\"/><path d=\"M17.41 7.96l-1.37-1.37c-.4-.4-.92-.59-1.43-.59-.52 0-1.04.2-1.43.59L10.3 9.45l-7.72 7.72c-.78.78-.78 2.05 0 2.83L4 21.41c.39.39.9.59 1.41.59.51 0 1.02-.2 1.41-.59l7.78-7.78 2.81-2.81c.8-.78.8-2.07 0-2.86zM5.41 20L4 18.59l7.72-7.72 1.47 1.35L5.41 20z\"/>\n",
              "  </svg>\n",
              "      </button>\n",
              "      \n",
              "  <style>\n",
              "    .colab-df-container {\n",
              "      display:flex;\n",
              "      flex-wrap:wrap;\n",
              "      gap: 12px;\n",
              "    }\n",
              "\n",
              "    .colab-df-convert {\n",
              "      background-color: #E8F0FE;\n",
              "      border: none;\n",
              "      border-radius: 50%;\n",
              "      cursor: pointer;\n",
              "      display: none;\n",
              "      fill: #1967D2;\n",
              "      height: 32px;\n",
              "      padding: 0 0 0 0;\n",
              "      width: 32px;\n",
              "    }\n",
              "\n",
              "    .colab-df-convert:hover {\n",
              "      background-color: #E2EBFA;\n",
              "      box-shadow: 0px 1px 2px rgba(60, 64, 67, 0.3), 0px 1px 3px 1px rgba(60, 64, 67, 0.15);\n",
              "      fill: #174EA6;\n",
              "    }\n",
              "\n",
              "    [theme=dark] .colab-df-convert {\n",
              "      background-color: #3B4455;\n",
              "      fill: #D2E3FC;\n",
              "    }\n",
              "\n",
              "    [theme=dark] .colab-df-convert:hover {\n",
              "      background-color: #434B5C;\n",
              "      box-shadow: 0px 1px 3px 1px rgba(0, 0, 0, 0.15);\n",
              "      filter: drop-shadow(0px 1px 2px rgba(0, 0, 0, 0.3));\n",
              "      fill: #FFFFFF;\n",
              "    }\n",
              "  </style>\n",
              "\n",
              "      <script>\n",
              "        const buttonEl =\n",
              "          document.querySelector('#df-de5469fb-2a94-4b1e-af61-45e630ef86cc button.colab-df-convert');\n",
              "        buttonEl.style.display =\n",
              "          google.colab.kernel.accessAllowed ? 'block' : 'none';\n",
              "\n",
              "        async function convertToInteractive(key) {\n",
              "          const element = document.querySelector('#df-de5469fb-2a94-4b1e-af61-45e630ef86cc');\n",
              "          const dataTable =\n",
              "            await google.colab.kernel.invokeFunction('convertToInteractive',\n",
              "                                                     [key], {});\n",
              "          if (!dataTable) return;\n",
              "\n",
              "          const docLinkHtml = 'Like what you see? Visit the ' +\n",
              "            '<a target=\"_blank\" href=https://colab.research.google.com/notebooks/data_table.ipynb>data table notebook</a>'\n",
              "            + ' to learn more about interactive tables.';\n",
              "          element.innerHTML = '';\n",
              "          dataTable['output_type'] = 'display_data';\n",
              "          await google.colab.output.renderOutput(dataTable, element);\n",
              "          const docLink = document.createElement('div');\n",
              "          docLink.innerHTML = docLinkHtml;\n",
              "          element.appendChild(docLink);\n",
              "        }\n",
              "      </script>\n",
              "    </div>\n",
              "  </div>\n",
              "  "
            ]
          },
          "metadata": {},
          "execution_count": 34
        }
      ]
    },
    {
      "cell_type": "code",
      "metadata": {
        "colab": {
          "base_uri": "https://localhost:8080/"
        },
        "id": "dsL8pclE6M7z",
        "outputId": "58ce66b9-c182-4367-b82f-1c203478cf7c"
      },
      "source": [
        "pip install category_encoders"
      ],
      "execution_count": 35,
      "outputs": [
        {
          "output_type": "stream",
          "name": "stdout",
          "text": [
            "Looking in indexes: https://pypi.org/simple, https://us-python.pkg.dev/colab-wheels/public/simple/\n",
            "Collecting category_encoders\n",
            "  Downloading category_encoders-2.5.0-py2.py3-none-any.whl (69 kB)\n",
            "\u001b[K     |████████████████████████████████| 69 kB 4.4 MB/s \n",
            "\u001b[?25hRequirement already satisfied: patsy>=0.5.1 in /usr/local/lib/python3.7/dist-packages (from category_encoders) (0.5.2)\n",
            "Requirement already satisfied: pandas>=1.0.5 in /usr/local/lib/python3.7/dist-packages (from category_encoders) (1.3.5)\n",
            "Requirement already satisfied: scipy>=1.0.0 in /usr/local/lib/python3.7/dist-packages (from category_encoders) (1.5.4)\n",
            "Requirement already satisfied: statsmodels>=0.9.0 in /usr/local/lib/python3.7/dist-packages (from category_encoders) (0.10.2)\n",
            "Requirement already satisfied: numpy>=1.14.0 in /usr/local/lib/python3.7/dist-packages (from category_encoders) (1.21.6)\n",
            "Requirement already satisfied: scikit-learn>=0.20.0 in /usr/local/lib/python3.7/dist-packages (from category_encoders) (1.0.2)\n",
            "Requirement already satisfied: python-dateutil>=2.7.3 in /usr/local/lib/python3.7/dist-packages (from pandas>=1.0.5->category_encoders) (2.8.2)\n",
            "Requirement already satisfied: pytz>=2017.3 in /usr/local/lib/python3.7/dist-packages (from pandas>=1.0.5->category_encoders) (2022.1)\n",
            "Requirement already satisfied: six in /usr/local/lib/python3.7/dist-packages (from patsy>=0.5.1->category_encoders) (1.15.0)\n",
            "Requirement already satisfied: threadpoolctl>=2.0.0 in /usr/local/lib/python3.7/dist-packages (from scikit-learn>=0.20.0->category_encoders) (3.1.0)\n",
            "Requirement already satisfied: joblib>=0.11 in /usr/local/lib/python3.7/dist-packages (from scikit-learn>=0.20.0->category_encoders) (1.1.0)\n",
            "Installing collected packages: category-encoders\n",
            "Successfully installed category-encoders-2.5.0\n"
          ]
        }
      ]
    },
    {
      "cell_type": "code",
      "metadata": {
        "id": "d-NsmVw1zxnM",
        "colab": {
          "base_uri": "https://localhost:8080/"
        },
        "outputId": "0ba77f58-597b-46fb-b4bd-eb9d6abb0545"
      },
      "source": [
        "# import category encoders\n",
        "import category_encoders as ce"
      ],
      "execution_count": 36,
      "outputs": [
        {
          "output_type": "stream",
          "name": "stderr",
          "text": [
            "/usr/local/lib/python3.7/dist-packages/statsmodels/tools/_testing.py:19: FutureWarning: pandas.util.testing is deprecated. Use the functions in the public API at pandas.testing instead.\n",
            "  import pandas.util.testing as tm\n"
          ]
        }
      ]
    },
    {
      "cell_type": "code",
      "metadata": {
        "id": "arusH1gpzxlF"
      },
      "source": [
        "encoder = ce.OrdinalEncoder(cols = ['Age(in yrs)', 'Gender', 'State','City', 'Willingness of product', 'price-range'])\n",
        "X_train = encoder.fit_transform(X_train)\n",
        "X_test = encoder.transform(X_test)"
      ],
      "execution_count": 37,
      "outputs": []
    },
    {
      "cell_type": "code",
      "metadata": {
        "id": "EOTy1qpBzxhy",
        "colab": {
          "base_uri": "https://localhost:8080/",
          "height": 206
        },
        "outputId": "3099c55e-8fd5-4d24-d668-536505941c4b"
      },
      "source": [
        "X_train.head()"
      ],
      "execution_count": 38,
      "outputs": [
        {
          "output_type": "execute_result",
          "data": {
            "text/plain": [
              "     Age(in yrs)  Gender  State  City  Willingness of product  price-range\n",
              "75             1       1      1     1                       1            1\n",
              "197            2       2      2     2                       2            1\n",
              "139            3       1      3     3                       3            2\n",
              "51             1       1      4     4                       1            3\n",
              "122            1       2      5     5                       4            3"
            ],
            "text/html": [
              "\n",
              "  <div id=\"df-80ecf64b-fe3b-4e13-a8ab-2d689b331c4e\">\n",
              "    <div class=\"colab-df-container\">\n",
              "      <div>\n",
              "<style scoped>\n",
              "    .dataframe tbody tr th:only-of-type {\n",
              "        vertical-align: middle;\n",
              "    }\n",
              "\n",
              "    .dataframe tbody tr th {\n",
              "        vertical-align: top;\n",
              "    }\n",
              "\n",
              "    .dataframe thead th {\n",
              "        text-align: right;\n",
              "    }\n",
              "</style>\n",
              "<table border=\"1\" class=\"dataframe\">\n",
              "  <thead>\n",
              "    <tr style=\"text-align: right;\">\n",
              "      <th></th>\n",
              "      <th>Age(in yrs)</th>\n",
              "      <th>Gender</th>\n",
              "      <th>State</th>\n",
              "      <th>City</th>\n",
              "      <th>Willingness of product</th>\n",
              "      <th>price-range</th>\n",
              "    </tr>\n",
              "  </thead>\n",
              "  <tbody>\n",
              "    <tr>\n",
              "      <th>75</th>\n",
              "      <td>1</td>\n",
              "      <td>1</td>\n",
              "      <td>1</td>\n",
              "      <td>1</td>\n",
              "      <td>1</td>\n",
              "      <td>1</td>\n",
              "    </tr>\n",
              "    <tr>\n",
              "      <th>197</th>\n",
              "      <td>2</td>\n",
              "      <td>2</td>\n",
              "      <td>2</td>\n",
              "      <td>2</td>\n",
              "      <td>2</td>\n",
              "      <td>1</td>\n",
              "    </tr>\n",
              "    <tr>\n",
              "      <th>139</th>\n",
              "      <td>3</td>\n",
              "      <td>1</td>\n",
              "      <td>3</td>\n",
              "      <td>3</td>\n",
              "      <td>3</td>\n",
              "      <td>2</td>\n",
              "    </tr>\n",
              "    <tr>\n",
              "      <th>51</th>\n",
              "      <td>1</td>\n",
              "      <td>1</td>\n",
              "      <td>4</td>\n",
              "      <td>4</td>\n",
              "      <td>1</td>\n",
              "      <td>3</td>\n",
              "    </tr>\n",
              "    <tr>\n",
              "      <th>122</th>\n",
              "      <td>1</td>\n",
              "      <td>2</td>\n",
              "      <td>5</td>\n",
              "      <td>5</td>\n",
              "      <td>4</td>\n",
              "      <td>3</td>\n",
              "    </tr>\n",
              "  </tbody>\n",
              "</table>\n",
              "</div>\n",
              "      <button class=\"colab-df-convert\" onclick=\"convertToInteractive('df-80ecf64b-fe3b-4e13-a8ab-2d689b331c4e')\"\n",
              "              title=\"Convert this dataframe to an interactive table.\"\n",
              "              style=\"display:none;\">\n",
              "        \n",
              "  <svg xmlns=\"http://www.w3.org/2000/svg\" height=\"24px\"viewBox=\"0 0 24 24\"\n",
              "       width=\"24px\">\n",
              "    <path d=\"M0 0h24v24H0V0z\" fill=\"none\"/>\n",
              "    <path d=\"M18.56 5.44l.94 2.06.94-2.06 2.06-.94-2.06-.94-.94-2.06-.94 2.06-2.06.94zm-11 1L8.5 8.5l.94-2.06 2.06-.94-2.06-.94L8.5 2.5l-.94 2.06-2.06.94zm10 10l.94 2.06.94-2.06 2.06-.94-2.06-.94-.94-2.06-.94 2.06-2.06.94z\"/><path d=\"M17.41 7.96l-1.37-1.37c-.4-.4-.92-.59-1.43-.59-.52 0-1.04.2-1.43.59L10.3 9.45l-7.72 7.72c-.78.78-.78 2.05 0 2.83L4 21.41c.39.39.9.59 1.41.59.51 0 1.02-.2 1.41-.59l7.78-7.78 2.81-2.81c.8-.78.8-2.07 0-2.86zM5.41 20L4 18.59l7.72-7.72 1.47 1.35L5.41 20z\"/>\n",
              "  </svg>\n",
              "      </button>\n",
              "      \n",
              "  <style>\n",
              "    .colab-df-container {\n",
              "      display:flex;\n",
              "      flex-wrap:wrap;\n",
              "      gap: 12px;\n",
              "    }\n",
              "\n",
              "    .colab-df-convert {\n",
              "      background-color: #E8F0FE;\n",
              "      border: none;\n",
              "      border-radius: 50%;\n",
              "      cursor: pointer;\n",
              "      display: none;\n",
              "      fill: #1967D2;\n",
              "      height: 32px;\n",
              "      padding: 0 0 0 0;\n",
              "      width: 32px;\n",
              "    }\n",
              "\n",
              "    .colab-df-convert:hover {\n",
              "      background-color: #E2EBFA;\n",
              "      box-shadow: 0px 1px 2px rgba(60, 64, 67, 0.3), 0px 1px 3px 1px rgba(60, 64, 67, 0.15);\n",
              "      fill: #174EA6;\n",
              "    }\n",
              "\n",
              "    [theme=dark] .colab-df-convert {\n",
              "      background-color: #3B4455;\n",
              "      fill: #D2E3FC;\n",
              "    }\n",
              "\n",
              "    [theme=dark] .colab-df-convert:hover {\n",
              "      background-color: #434B5C;\n",
              "      box-shadow: 0px 1px 3px 1px rgba(0, 0, 0, 0.15);\n",
              "      filter: drop-shadow(0px 1px 2px rgba(0, 0, 0, 0.3));\n",
              "      fill: #FFFFFF;\n",
              "    }\n",
              "  </style>\n",
              "\n",
              "      <script>\n",
              "        const buttonEl =\n",
              "          document.querySelector('#df-80ecf64b-fe3b-4e13-a8ab-2d689b331c4e button.colab-df-convert');\n",
              "        buttonEl.style.display =\n",
              "          google.colab.kernel.accessAllowed ? 'block' : 'none';\n",
              "\n",
              "        async function convertToInteractive(key) {\n",
              "          const element = document.querySelector('#df-80ecf64b-fe3b-4e13-a8ab-2d689b331c4e');\n",
              "          const dataTable =\n",
              "            await google.colab.kernel.invokeFunction('convertToInteractive',\n",
              "                                                     [key], {});\n",
              "          if (!dataTable) return;\n",
              "\n",
              "          const docLinkHtml = 'Like what you see? Visit the ' +\n",
              "            '<a target=\"_blank\" href=https://colab.research.google.com/notebooks/data_table.ipynb>data table notebook</a>'\n",
              "            + ' to learn more about interactive tables.';\n",
              "          element.innerHTML = '';\n",
              "          dataTable['output_type'] = 'display_data';\n",
              "          await google.colab.output.renderOutput(dataTable, element);\n",
              "          const docLink = document.createElement('div');\n",
              "          docLink.innerHTML = docLinkHtml;\n",
              "          element.appendChild(docLink);\n",
              "        }\n",
              "      </script>\n",
              "    </div>\n",
              "  </div>\n",
              "  "
            ]
          },
          "metadata": {},
          "execution_count": 38
        }
      ]
    },
    {
      "cell_type": "code",
      "metadata": {
        "id": "DOsO2c3fzxe4",
        "colab": {
          "base_uri": "https://localhost:8080/",
          "height": 206
        },
        "outputId": "329958b9-7f63-4d83-9802-049895604cc6"
      },
      "source": [
        "X_test.head()"
      ],
      "execution_count": 39,
      "outputs": [
        {
          "output_type": "execute_result",
          "data": {
            "text/plain": [
              "     Age(in yrs)  Gender  State  City  Willingness of product  price-range\n",
              "15           3.0       2   10.0  -1.0                     1.0            3\n",
              "9            3.0       1   -1.0  -1.0                     4.0            3\n",
              "115         -1.0       2    4.0   9.0                    -1.0            4\n",
              "78           2.0       1    1.0  -1.0                     3.0            4\n",
              "66           1.0       2   12.0  28.0                     7.0            3"
            ],
            "text/html": [
              "\n",
              "  <div id=\"df-9fec40fd-cb4e-4df6-93d4-ecba2ef5e363\">\n",
              "    <div class=\"colab-df-container\">\n",
              "      <div>\n",
              "<style scoped>\n",
              "    .dataframe tbody tr th:only-of-type {\n",
              "        vertical-align: middle;\n",
              "    }\n",
              "\n",
              "    .dataframe tbody tr th {\n",
              "        vertical-align: top;\n",
              "    }\n",
              "\n",
              "    .dataframe thead th {\n",
              "        text-align: right;\n",
              "    }\n",
              "</style>\n",
              "<table border=\"1\" class=\"dataframe\">\n",
              "  <thead>\n",
              "    <tr style=\"text-align: right;\">\n",
              "      <th></th>\n",
              "      <th>Age(in yrs)</th>\n",
              "      <th>Gender</th>\n",
              "      <th>State</th>\n",
              "      <th>City</th>\n",
              "      <th>Willingness of product</th>\n",
              "      <th>price-range</th>\n",
              "    </tr>\n",
              "  </thead>\n",
              "  <tbody>\n",
              "    <tr>\n",
              "      <th>15</th>\n",
              "      <td>3.0</td>\n",
              "      <td>2</td>\n",
              "      <td>10.0</td>\n",
              "      <td>-1.0</td>\n",
              "      <td>1.0</td>\n",
              "      <td>3</td>\n",
              "    </tr>\n",
              "    <tr>\n",
              "      <th>9</th>\n",
              "      <td>3.0</td>\n",
              "      <td>1</td>\n",
              "      <td>-1.0</td>\n",
              "      <td>-1.0</td>\n",
              "      <td>4.0</td>\n",
              "      <td>3</td>\n",
              "    </tr>\n",
              "    <tr>\n",
              "      <th>115</th>\n",
              "      <td>-1.0</td>\n",
              "      <td>2</td>\n",
              "      <td>4.0</td>\n",
              "      <td>9.0</td>\n",
              "      <td>-1.0</td>\n",
              "      <td>4</td>\n",
              "    </tr>\n",
              "    <tr>\n",
              "      <th>78</th>\n",
              "      <td>2.0</td>\n",
              "      <td>1</td>\n",
              "      <td>1.0</td>\n",
              "      <td>-1.0</td>\n",
              "      <td>3.0</td>\n",
              "      <td>4</td>\n",
              "    </tr>\n",
              "    <tr>\n",
              "      <th>66</th>\n",
              "      <td>1.0</td>\n",
              "      <td>2</td>\n",
              "      <td>12.0</td>\n",
              "      <td>28.0</td>\n",
              "      <td>7.0</td>\n",
              "      <td>3</td>\n",
              "    </tr>\n",
              "  </tbody>\n",
              "</table>\n",
              "</div>\n",
              "      <button class=\"colab-df-convert\" onclick=\"convertToInteractive('df-9fec40fd-cb4e-4df6-93d4-ecba2ef5e363')\"\n",
              "              title=\"Convert this dataframe to an interactive table.\"\n",
              "              style=\"display:none;\">\n",
              "        \n",
              "  <svg xmlns=\"http://www.w3.org/2000/svg\" height=\"24px\"viewBox=\"0 0 24 24\"\n",
              "       width=\"24px\">\n",
              "    <path d=\"M0 0h24v24H0V0z\" fill=\"none\"/>\n",
              "    <path d=\"M18.56 5.44l.94 2.06.94-2.06 2.06-.94-2.06-.94-.94-2.06-.94 2.06-2.06.94zm-11 1L8.5 8.5l.94-2.06 2.06-.94-2.06-.94L8.5 2.5l-.94 2.06-2.06.94zm10 10l.94 2.06.94-2.06 2.06-.94-2.06-.94-.94-2.06-.94 2.06-2.06.94z\"/><path d=\"M17.41 7.96l-1.37-1.37c-.4-.4-.92-.59-1.43-.59-.52 0-1.04.2-1.43.59L10.3 9.45l-7.72 7.72c-.78.78-.78 2.05 0 2.83L4 21.41c.39.39.9.59 1.41.59.51 0 1.02-.2 1.41-.59l7.78-7.78 2.81-2.81c.8-.78.8-2.07 0-2.86zM5.41 20L4 18.59l7.72-7.72 1.47 1.35L5.41 20z\"/>\n",
              "  </svg>\n",
              "      </button>\n",
              "      \n",
              "  <style>\n",
              "    .colab-df-container {\n",
              "      display:flex;\n",
              "      flex-wrap:wrap;\n",
              "      gap: 12px;\n",
              "    }\n",
              "\n",
              "    .colab-df-convert {\n",
              "      background-color: #E8F0FE;\n",
              "      border: none;\n",
              "      border-radius: 50%;\n",
              "      cursor: pointer;\n",
              "      display: none;\n",
              "      fill: #1967D2;\n",
              "      height: 32px;\n",
              "      padding: 0 0 0 0;\n",
              "      width: 32px;\n",
              "    }\n",
              "\n",
              "    .colab-df-convert:hover {\n",
              "      background-color: #E2EBFA;\n",
              "      box-shadow: 0px 1px 2px rgba(60, 64, 67, 0.3), 0px 1px 3px 1px rgba(60, 64, 67, 0.15);\n",
              "      fill: #174EA6;\n",
              "    }\n",
              "\n",
              "    [theme=dark] .colab-df-convert {\n",
              "      background-color: #3B4455;\n",
              "      fill: #D2E3FC;\n",
              "    }\n",
              "\n",
              "    [theme=dark] .colab-df-convert:hover {\n",
              "      background-color: #434B5C;\n",
              "      box-shadow: 0px 1px 3px 1px rgba(0, 0, 0, 0.15);\n",
              "      filter: drop-shadow(0px 1px 2px rgba(0, 0, 0, 0.3));\n",
              "      fill: #FFFFFF;\n",
              "    }\n",
              "  </style>\n",
              "\n",
              "      <script>\n",
              "        const buttonEl =\n",
              "          document.querySelector('#df-9fec40fd-cb4e-4df6-93d4-ecba2ef5e363 button.colab-df-convert');\n",
              "        buttonEl.style.display =\n",
              "          google.colab.kernel.accessAllowed ? 'block' : 'none';\n",
              "\n",
              "        async function convertToInteractive(key) {\n",
              "          const element = document.querySelector('#df-9fec40fd-cb4e-4df6-93d4-ecba2ef5e363');\n",
              "          const dataTable =\n",
              "            await google.colab.kernel.invokeFunction('convertToInteractive',\n",
              "                                                     [key], {});\n",
              "          if (!dataTable) return;\n",
              "\n",
              "          const docLinkHtml = 'Like what you see? Visit the ' +\n",
              "            '<a target=\"_blank\" href=https://colab.research.google.com/notebooks/data_table.ipynb>data table notebook</a>'\n",
              "            + ' to learn more about interactive tables.';\n",
              "          element.innerHTML = '';\n",
              "          dataTable['output_type'] = 'display_data';\n",
              "          await google.colab.output.renderOutput(dataTable, element);\n",
              "          const docLink = document.createElement('div');\n",
              "          docLink.innerHTML = docLinkHtml;\n",
              "          element.appendChild(docLink);\n",
              "        }\n",
              "      </script>\n",
              "    </div>\n",
              "  </div>\n",
              "  "
            ]
          },
          "metadata": {},
          "execution_count": 39
        }
      ]
    },
    {
      "cell_type": "code",
      "metadata": {
        "id": "5Lu3cgE0zxXS",
        "colab": {
          "base_uri": "https://localhost:8080/"
        },
        "outputId": "e3ffdaf4-e580-460e-c193-b70bc14e18f7"
      },
      "source": [
        "# instantiate the DecisionTreeClassifier model with criterion gini index\n",
        "clf_gini = DecisionTreeClassifier(criterion='gini', max_depth=3, random_state=0)\n",
        "\n",
        "# fit the model\n",
        "clf_gini.fit(X_train, y_train)"
      ],
      "execution_count": 40,
      "outputs": [
        {
          "output_type": "execute_result",
          "data": {
            "text/plain": [
              "DecisionTreeClassifier(max_depth=3, random_state=0)"
            ]
          },
          "metadata": {},
          "execution_count": 40
        }
      ]
    },
    {
      "cell_type": "code",
      "metadata": {
        "id": "1X-z1ijzzxOA"
      },
      "source": [
        "y_pred_gini = clf_gini.predict(X_test)"
      ],
      "execution_count": 41,
      "outputs": []
    },
    {
      "cell_type": "code",
      "metadata": {
        "id": "Gg7YDY1SzxCh",
        "colab": {
          "base_uri": "https://localhost:8080/"
        },
        "outputId": "f219e9e1-7c36-4ea6-8e92-6f8c223b89d3"
      },
      "source": [
        "print('\\nModel accuracy score with criterion gini index: {0:0.4f}'. format(accuracy_score(y_test, y_pred_gini)))"
      ],
      "execution_count": 42,
      "outputs": [
        {
          "output_type": "stream",
          "name": "stdout",
          "text": [
            "\n",
            "Model accuracy score with criterion gini index: 0.7500\n"
          ]
        }
      ]
    },
    {
      "cell_type": "code",
      "metadata": {
        "id": "LpiFMRhzzwVx"
      },
      "source": [
        "y_pred_train_gini = clf_gini.predict(X_train)\n"
      ],
      "execution_count": 43,
      "outputs": []
    },
    {
      "cell_type": "code",
      "metadata": {
        "id": "Z9vfDw5q3DCw",
        "colab": {
          "base_uri": "https://localhost:8080/"
        },
        "outputId": "39469dcc-65bb-4a0b-c311-7dd5fde0f1a4"
      },
      "source": [
        "print('Training-set accuracy score: {0:0.4f}'. format(accuracy_score(y_train, y_pred_train_gini)))"
      ],
      "execution_count": 44,
      "outputs": [
        {
          "output_type": "stream",
          "name": "stdout",
          "text": [
            "Training-set accuracy score: 0.7353\n"
          ]
        }
      ]
    },
    {
      "cell_type": "code",
      "metadata": {
        "id": "Tc_htUKn3C-r",
        "colab": {
          "base_uri": "https://localhost:8080/"
        },
        "outputId": "c394d1f6-df1d-47d2-d878-2cfe64b0355e"
      },
      "source": [
        "# print the scores on training and test set\n",
        "print('Training set score: {:.4f}'.format(clf_gini.score(X_train, y_train)))\n",
        "print('Test set score: {:.4f}'.format(clf_gini.score(X_test, y_test)))"
      ],
      "execution_count": 45,
      "outputs": [
        {
          "output_type": "stream",
          "name": "stdout",
          "text": [
            "Training set score: 0.7353\n",
            "Test set score: 0.7500\n"
          ]
        }
      ]
    },
    {
      "cell_type": "code",
      "metadata": {
        "id": "GAcft0j63L8E",
        "colab": {
          "base_uri": "https://localhost:8080/",
          "height": 726
        },
        "outputId": "1601fe04-78b8-4980-e3f7-83d9e547afba"
      },
      "source": [
        "plt.figure(figsize=(12,8))\n",
        "tree.plot_tree(clf_gini.fit(X_train, y_train)) "
      ],
      "execution_count": 46,
      "outputs": [
        {
          "output_type": "execute_result",
          "data": {
            "text/plain": [
              "[Text(0.5, 0.875, 'X[4] <= 4.5\\ngini = 0.561\\nsamples = 136\\nvalue = [12, 74, 50]'),\n",
              " Text(0.25, 0.625, 'X[4] <= 1.5\\ngini = 0.462\\nsamples = 83\\nvalue = [2, 55, 26]'),\n",
              " Text(0.125, 0.375, 'X[3] <= 2.5\\ngini = 0.391\\nsamples = 15\\nvalue = [0, 4, 11]'),\n",
              " Text(0.0625, 0.125, 'gini = 0.444\\nsamples = 3\\nvalue = [0, 2, 1]'),\n",
              " Text(0.1875, 0.125, 'gini = 0.278\\nsamples = 12\\nvalue = [0, 2, 10]'),\n",
              " Text(0.375, 0.375, 'X[3] <= 4.5\\ngini = 0.388\\nsamples = 68\\nvalue = [2, 51, 15]'),\n",
              " Text(0.3125, 0.125, 'gini = 0.466\\nsamples = 27\\nvalue = [0, 17, 10]'),\n",
              " Text(0.4375, 0.125, 'gini = 0.295\\nsamples = 41\\nvalue = [2, 34, 5]'),\n",
              " Text(0.75, 0.625, 'X[4] <= 5.5\\ngini = 0.631\\nsamples = 53\\nvalue = [10, 19, 24]'),\n",
              " Text(0.625, 0.375, 'X[2] <= 13.5\\ngini = 0.198\\nsamples = 18\\nvalue = [0, 2, 16]'),\n",
              " Text(0.5625, 0.125, 'gini = 0.0\\nsamples = 14\\nvalue = [0, 0, 14]'),\n",
              " Text(0.6875, 0.125, 'gini = 0.5\\nsamples = 4\\nvalue = [0, 2, 2]'),\n",
              " Text(0.875, 0.375, 'X[4] <= 6.5\\ngini = 0.63\\nsamples = 35\\nvalue = [10, 17, 8]'),\n",
              " Text(0.8125, 0.125, 'gini = 0.375\\nsamples = 8\\nvalue = [6, 2, 0]'),\n",
              " Text(0.9375, 0.125, 'gini = 0.582\\nsamples = 27\\nvalue = [4, 15, 8]')]"
            ]
          },
          "metadata": {},
          "execution_count": 46
        },
        {
          "output_type": "display_data",
          "data": {
            "text/plain": [
              "<Figure size 864x576 with 1 Axes>"
            ],
            "image/png": "[encoded data removed]"
          },
          "metadata": {
            "needs_background": "light"
          }
        }
      ]
    },
    {
      "cell_type": "code",
      "metadata": {
        "id": "tOJ1ou_T3C8V",
        "colab": {
          "base_uri": "https://localhost:8080/",
          "height": 619
        },
        "outputId": "0fe90e77-f22e-418a-90ed-88709e7bee6c"
      },
      "source": [
        "import graphviz \n",
        "dot_data = tree.export_graphviz(clf_gini, out_file=None, \n",
        "                              feature_names=X_train.columns,  \n",
        "                              class_names=y_train,  \n",
        "                              filled=True, rounded=True,  \n",
        "                              special_characters=True)\n",
        "graph = graphviz.Source(dot_data) \n",
        "graph "
      ],
      "execution_count": 47,
      "outputs": [
        {
          "output_type": "execute_result",
          "data": {
            "text/plain": [
              "<graphviz.files.Source at 0x7ff3aa4fcf10>"
            ],
            "image/svg+xml": "<?xml version=\"1.0\" encoding=\"UTF-8\" standalone=\"no\"?>\n<!DOCTYPE svg PUBLIC \"-//W3C//DTD SVG 1.1//EN\"\n \"http://www.w3.org/Graphics/SVG/1.1/DTD/svg11.dtd\">\n<!-- Generated by graphviz version 2.40.1 (20161225.0304)\n -->\n<!-- Title: Tree Pages: 1 -->\n<svg width=\"1836pt\" height=\"433pt\"\n viewBox=\"0.00 0.00 1836.00 433.00\" xmlns=\"http://www.w3.org/2000/svg\" xmlns:xlink=\"http://www.w3.org/1999/xlink\">\n<g id=\"graph0\" class=\"graph\" transform=\"scale(1 1) rotate(0) translate(4 429)\">\n<title>Tree</title>\n<polygon fill=\"#ffffff\" stroke=\"transparent\" points=\"-4,4 -4,-429 1832,-429 1832,4 -4,4\"/>\n<!-- 0 -->\n<g id=\"node1\" class=\"node\">\n<title>0</title>\n<path fill=\"#c8f8dc\" stroke=\"#000000\" d=\"M1009.5,-425C1009.5,-425 839.5,-425 839.5,-425 833.5,-425 827.5,-419 827.5,-413 827.5,-413 827.5,-354 827.5,-354 827.5,-348 833.5,-342 839.5,-342 839.5,-342 1009.5,-342 1009.5,-342 1015.5,-342 1021.5,-348 1021.5,-354 1021.5,-354 1021.5,-413 1021.5,-413 1021.5,-419 1015.5,-425 1009.5,-425\"/>\n<text text-anchor=\"start\" x=\"835.5\" y=\"-409.8\" font-family=\"Helvetica,sans-Serif\" font-size=\"14.00\" fill=\"#000000\">Willingness of product ≤ 4.5</text>\n<text text-anchor=\"start\" x=\"886.5\" y=\"-394.8\" font-family=\"Helvetica,sans-Serif\" font-size=\"14.00\" fill=\"#000000\">gini = 0.561</text>\n<text text-anchor=\"start\" x=\"876.5\" y=\"-379.8\" font-family=\"Helvetica,sans-Serif\" font-size=\"14.00\" fill=\"#000000\">samples = 136</text>\n<text text-anchor=\"start\" x=\"862.5\" y=\"-364.8\" font-family=\"Helvetica,sans-Serif\" font-size=\"14.00\" fill=\"#000000\">value = [12, 74, 50]</text>\n<text text-anchor=\"start\" x=\"843\" y=\"-349.8\" font-family=\"Helvetica,sans-Serif\" font-size=\"14.00\" fill=\"#000000\">class = Daily requirement</text>\n</g>\n<!-- 1 -->\n<g id=\"node2\" class=\"node\">\n<title>1</title>\n<path fill=\"#9af2bf\" stroke=\"#000000\" d=\"M782.5,-306C782.5,-306 612.5,-306 612.5,-306 606.5,-306 600.5,-300 600.5,-294 600.5,-294 600.5,-235 600.5,-235 600.5,-229 606.5,-223 612.5,-223 612.5,-223 782.5,-223 782.5,-223 788.5,-223 794.5,-229 794.5,-235 794.5,-235 794.5,-294 794.5,-294 794.5,-300 788.5,-306 782.5,-306\"/>\n<text text-anchor=\"start\" x=\"608.5\" y=\"-290.8\" font-family=\"Helvetica,sans-Serif\" font-size=\"14.00\" fill=\"#000000\">Willingness of product ≤ 1.5</text>\n<text text-anchor=\"start\" x=\"659.5\" y=\"-275.8\" font-family=\"Helvetica,sans-Serif\" font-size=\"14.00\" fill=\"#000000\">gini = 0.462</text>\n<text text-anchor=\"start\" x=\"653.5\" y=\"-260.8\" font-family=\"Helvetica,sans-Serif\" font-size=\"14.00\" fill=\"#000000\">samples = 83</text>\n<text text-anchor=\"start\" x=\"640\" y=\"-245.8\" font-family=\"Helvetica,sans-Serif\" font-size=\"14.00\" fill=\"#000000\">value = [2, 55, 26]</text>\n<text text-anchor=\"start\" x=\"616\" y=\"-230.8\" font-family=\"Helvetica,sans-Serif\" font-size=\"14.00\" fill=\"#000000\">class = Daily requirement</text>\n</g>\n<!-- 0&#45;&gt;1 -->\n<g id=\"edge1\" class=\"edge\">\n<title>0&#45;&gt;1</title>\n<path fill=\"none\" stroke=\"#000000\" d=\"M845.1064,-341.8796C825.9256,-331.8244 805.3122,-321.0183 785.7525,-310.7645\"/>\n<polygon fill=\"#000000\" stroke=\"#000000\" points=\"787.3306,-307.6401 776.8488,-306.0969 784.0805,-313.8398 787.3306,-307.6401\"/>\n<text text-anchor=\"middle\" x=\"784.2978\" y=\"-326.2614\" font-family=\"Helvetica,sans-Serif\" font-size=\"14.00\" fill=\"#000000\">True</text>\n</g>\n<!-- 8 -->\n<g id=\"node9\" class=\"node\">\n<title>8</title>\n<path fill=\"#ece2fb\" stroke=\"#000000\" d=\"M1297,-306C1297,-306 1022,-306 1022,-306 1016,-306 1010,-300 1010,-294 1010,-294 1010,-235 1010,-235 1010,-229 1016,-223 1022,-223 1022,-223 1297,-223 1297,-223 1303,-223 1309,-229 1309,-235 1309,-235 1309,-294 1309,-294 1309,-300 1303,-306 1297,-306\"/>\n<text text-anchor=\"start\" x=\"1070.5\" y=\"-290.8\" font-family=\"Helvetica,sans-Serif\" font-size=\"14.00\" fill=\"#000000\">Willingness of product ≤ 5.5</text>\n<text text-anchor=\"start\" x=\"1121.5\" y=\"-275.8\" font-family=\"Helvetica,sans-Serif\" font-size=\"14.00\" fill=\"#000000\">gini = 0.631</text>\n<text text-anchor=\"start\" x=\"1115.5\" y=\"-260.8\" font-family=\"Helvetica,sans-Serif\" font-size=\"14.00\" fill=\"#000000\">samples = 53</text>\n<text text-anchor=\"start\" x=\"1097.5\" y=\"-245.8\" font-family=\"Helvetica,sans-Serif\" font-size=\"14.00\" fill=\"#000000\">value = [10, 19, 24]</text>\n<text text-anchor=\"start\" x=\"1018\" y=\"-230.8\" font-family=\"Helvetica,sans-Serif\" font-size=\"14.00\" fill=\"#000000\">class = Entertainment/ Favourite Recreation</text>\n</g>\n<!-- 0&#45;&gt;8 -->\n<g id=\"edge8\" class=\"edge\">\n<title>0&#45;&gt;8</title>\n<path fill=\"none\" stroke=\"#000000\" d=\"M1006.6916,-341.8796C1026.6378,-331.7791 1048.0805,-320.9209 1068.4108,-310.626\"/>\n<polygon fill=\"#000000\" stroke=\"#000000\" points=\"1070.0146,-313.7371 1077.3548,-306.0969 1066.8522,-307.4921 1070.0146,-313.7371\"/>\n<text text-anchor=\"middle\" x=\"1069.57\" y=\"-326.154\" font-family=\"Helvetica,sans-Serif\" font-size=\"14.00\" fill=\"#000000\">False</text>\n</g>\n<!-- 2 -->\n<g id=\"node3\" class=\"node\">\n<title>2</title>\n<path fill=\"#af81ee\" stroke=\"#000000\" d=\"M484,-187C484,-187 209,-187 209,-187 203,-187 197,-181 197,-175 197,-175 197,-116 197,-116 197,-110 203,-104 209,-104 209,-104 484,-104 484,-104 490,-104 496,-110 496,-116 496,-116 496,-175 496,-175 496,-181 490,-187 484,-187\"/>\n<text text-anchor=\"start\" x=\"316\" y=\"-171.8\" font-family=\"Helvetica,sans-Serif\" font-size=\"14.00\" fill=\"#000000\">City ≤ 2.5</text>\n<text text-anchor=\"start\" x=\"308.5\" y=\"-156.8\" font-family=\"Helvetica,sans-Serif\" font-size=\"14.00\" fill=\"#000000\">gini = 0.391</text>\n<text text-anchor=\"start\" x=\"302.5\" y=\"-141.8\" font-family=\"Helvetica,sans-Serif\" font-size=\"14.00\" fill=\"#000000\">samples = 15</text>\n<text text-anchor=\"start\" x=\"293\" y=\"-126.8\" font-family=\"Helvetica,sans-Serif\" font-size=\"14.00\" fill=\"#000000\">value = [0, 4, 11]</text>\n<text text-anchor=\"start\" x=\"205\" y=\"-111.8\" font-family=\"Helvetica,sans-Serif\" font-size=\"14.00\" fill=\"#000000\">class = Entertainment/ Favourite Recreation</text>\n</g>\n<!-- 1&#45;&gt;2 -->\n<g id=\"edge2\" class=\"edge\">\n<title>1&#45;&gt;2</title>\n<path fill=\"none\" stroke=\"#000000\" d=\"M600.1931,-231.5099C562.6278,-218.7741 519.0546,-204.0014 478.7316,-190.3306\"/>\n<polygon fill=\"#000000\" stroke=\"#000000\" points=\"479.6954,-186.9618 469.101,-187.0656 477.4478,-193.5911 479.6954,-186.9618\"/>\n</g>\n<!-- 5 -->\n<g id=\"node6\" class=\"node\">\n<title>5</title>\n<path fill=\"#79eda9\" stroke=\"#000000\" d=\"M775,-187C775,-187 620,-187 620,-187 614,-187 608,-181 608,-175 608,-175 608,-116 608,-116 608,-110 614,-104 620,-104 620,-104 775,-104 775,-104 781,-104 787,-110 787,-116 787,-116 787,-175 787,-175 787,-181 781,-187 775,-187\"/>\n<text text-anchor=\"start\" x=\"667\" y=\"-171.8\" font-family=\"Helvetica,sans-Serif\" font-size=\"14.00\" fill=\"#000000\">City ≤ 4.5</text>\n<text text-anchor=\"start\" x=\"659.5\" y=\"-156.8\" font-family=\"Helvetica,sans-Serif\" font-size=\"14.00\" fill=\"#000000\">gini = 0.388</text>\n<text text-anchor=\"start\" x=\"653.5\" y=\"-141.8\" font-family=\"Helvetica,sans-Serif\" font-size=\"14.00\" fill=\"#000000\">samples = 68</text>\n<text text-anchor=\"start\" x=\"640\" y=\"-126.8\" font-family=\"Helvetica,sans-Serif\" font-size=\"14.00\" fill=\"#000000\">value = [2, 51, 15]</text>\n<text text-anchor=\"start\" x=\"616\" y=\"-111.8\" font-family=\"Helvetica,sans-Serif\" font-size=\"14.00\" fill=\"#000000\">class = Daily requirement</text>\n</g>\n<!-- 1&#45;&gt;5 -->\n<g id=\"edge5\" class=\"edge\">\n<title>1&#45;&gt;5</title>\n<path fill=\"none\" stroke=\"#000000\" d=\"M697.5,-222.8796C697.5,-214.6838 697.5,-205.9891 697.5,-197.5013\"/>\n<polygon fill=\"#000000\" stroke=\"#000000\" points=\"701.0001,-197.298 697.5,-187.2981 694.0001,-197.2981 701.0001,-197.298\"/>\n</g>\n<!-- 3 -->\n<g id=\"node4\" class=\"node\">\n<title>3</title>\n<path fill=\"#9cf2c0\" stroke=\"#000000\" d=\"M167,-68C167,-68 12,-68 12,-68 6,-68 0,-62 0,-56 0,-56 0,-12 0,-12 0,-6 6,0 12,0 12,0 167,0 167,0 173,0 179,-6 179,-12 179,-12 179,-56 179,-56 179,-62 173,-68 167,-68\"/>\n<text text-anchor=\"start\" x=\"51.5\" y=\"-52.8\" font-family=\"Helvetica,sans-Serif\" font-size=\"14.00\" fill=\"#000000\">gini = 0.444</text>\n<text text-anchor=\"start\" x=\"50\" y=\"-37.8\" font-family=\"Helvetica,sans-Serif\" font-size=\"14.00\" fill=\"#000000\">samples = 3</text>\n<text text-anchor=\"start\" x=\"40\" y=\"-22.8\" font-family=\"Helvetica,sans-Serif\" font-size=\"14.00\" fill=\"#000000\">value = [0, 2, 1]</text>\n<text text-anchor=\"start\" x=\"8\" y=\"-7.8\" font-family=\"Helvetica,sans-Serif\" font-size=\"14.00\" fill=\"#000000\">class = Daily requirement</text>\n</g>\n<!-- 2&#45;&gt;3 -->\n<g id=\"edge3\" class=\"edge\">\n<title>2&#45;&gt;3</title>\n<path fill=\"none\" stroke=\"#000000\" d=\"M250.8027,-103.9815C226.7389,-93.5414 201.0304,-82.3877 177.3703,-72.1227\"/>\n<polygon fill=\"#000000\" stroke=\"#000000\" points=\"178.632,-68.8549 168.0651,-68.0856 175.8459,-75.2766 178.632,-68.8549\"/>\n</g>\n<!-- 4 -->\n<g id=\"node5\" class=\"node\">\n<title>4</title>\n<path fill=\"#9a61ea\" stroke=\"#000000\" d=\"M484,-68C484,-68 209,-68 209,-68 203,-68 197,-62 197,-56 197,-56 197,-12 197,-12 197,-6 203,0 209,0 209,0 484,0 484,0 490,0 496,-6 496,-12 496,-12 496,-56 496,-56 496,-62 490,-68 484,-68\"/>\n<text text-anchor=\"start\" x=\"308.5\" y=\"-52.8\" font-family=\"Helvetica,sans-Serif\" font-size=\"14.00\" fill=\"#000000\">gini = 0.278</text>\n<text text-anchor=\"start\" x=\"302.5\" y=\"-37.8\" font-family=\"Helvetica,sans-Serif\" font-size=\"14.00\" fill=\"#000000\">samples = 12</text>\n<text text-anchor=\"start\" x=\"293\" y=\"-22.8\" font-family=\"Helvetica,sans-Serif\" font-size=\"14.00\" fill=\"#000000\">value = [0, 2, 10]</text>\n<text text-anchor=\"start\" x=\"205\" y=\"-7.8\" font-family=\"Helvetica,sans-Serif\" font-size=\"14.00\" fill=\"#000000\">class = Entertainment/ Favourite Recreation</text>\n</g>\n<!-- 2&#45;&gt;4 -->\n<g id=\"edge4\" class=\"edge\">\n<title>2&#45;&gt;4</title>\n<path fill=\"none\" stroke=\"#000000\" d=\"M346.5,-103.9815C346.5,-95.618 346.5,-86.7965 346.5,-78.3409\"/>\n<polygon fill=\"#000000\" stroke=\"#000000\" points=\"350.0001,-78.2636 346.5,-68.2637 343.0001,-78.2637 350.0001,-78.2636\"/>\n</g>\n<!-- 6 -->\n<g id=\"node7\" class=\"node\">\n<title>6</title>\n<path fill=\"#adf4cb\" stroke=\"#000000\" d=\"M681,-68C681,-68 526,-68 526,-68 520,-68 514,-62 514,-56 514,-56 514,-12 514,-12 514,-6 520,0 526,0 526,0 681,0 681,0 687,0 693,-6 693,-12 693,-12 693,-56 693,-56 693,-62 687,-68 681,-68\"/>\n<text text-anchor=\"start\" x=\"565.5\" y=\"-52.8\" font-family=\"Helvetica,sans-Serif\" font-size=\"14.00\" fill=\"#000000\">gini = 0.466</text>\n<text text-anchor=\"start\" x=\"559.5\" y=\"-37.8\" font-family=\"Helvetica,sans-Serif\" font-size=\"14.00\" fill=\"#000000\">samples = 27</text>\n<text text-anchor=\"start\" x=\"546\" y=\"-22.8\" font-family=\"Helvetica,sans-Serif\" font-size=\"14.00\" fill=\"#000000\">value = [0, 17, 10]</text>\n<text text-anchor=\"start\" x=\"522\" y=\"-7.8\" font-family=\"Helvetica,sans-Serif\" font-size=\"14.00\" fill=\"#000000\">class = Daily requirement</text>\n</g>\n<!-- 5&#45;&gt;6 -->\n<g id=\"edge6\" class=\"edge\">\n<title>5&#45;&gt;6</title>\n<path fill=\"none\" stroke=\"#000000\" d=\"M662.4979,-103.9815C654.8272,-94.8828 646.6995,-85.242 639.0091,-76.1199\"/>\n<polygon fill=\"#000000\" stroke=\"#000000\" points=\"641.5075,-73.6533 632.386,-68.2637 636.1556,-78.1652 641.5075,-73.6533\"/>\n</g>\n<!-- 7 -->\n<g id=\"node8\" class=\"node\">\n<title>7</title>\n<path fill=\"#60ea9a\" stroke=\"#000000\" d=\"M878,-68C878,-68 723,-68 723,-68 717,-68 711,-62 711,-56 711,-56 711,-12 711,-12 711,-6 717,0 723,0 723,0 878,0 878,0 884,0 890,-6 890,-12 890,-12 890,-56 890,-56 890,-62 884,-68 878,-68\"/>\n<text text-anchor=\"start\" x=\"762.5\" y=\"-52.8\" font-family=\"Helvetica,sans-Serif\" font-size=\"14.00\" fill=\"#000000\">gini = 0.295</text>\n<text text-anchor=\"start\" x=\"756.5\" y=\"-37.8\" font-family=\"Helvetica,sans-Serif\" font-size=\"14.00\" fill=\"#000000\">samples = 41</text>\n<text text-anchor=\"start\" x=\"747\" y=\"-22.8\" font-family=\"Helvetica,sans-Serif\" font-size=\"14.00\" fill=\"#000000\">value = [2, 34, 5]</text>\n<text text-anchor=\"start\" x=\"719\" y=\"-7.8\" font-family=\"Helvetica,sans-Serif\" font-size=\"14.00\" fill=\"#000000\">class = Daily requirement</text>\n</g>\n<!-- 5&#45;&gt;7 -->\n<g id=\"edge7\" class=\"edge\">\n<title>5&#45;&gt;7</title>\n<path fill=\"none\" stroke=\"#000000\" d=\"M735.8534,-103.9815C744.3434,-94.7908 753.3443,-85.0472 761.8463,-75.8436\"/>\n<polygon fill=\"#000000\" stroke=\"#000000\" points=\"764.6337,-77.9842 768.8484,-68.2637 759.4919,-73.2343 764.6337,-77.9842\"/>\n</g>\n<!-- 9 -->\n<g id=\"node10\" class=\"node\">\n<title>9</title>\n<path fill=\"#9152e8\" stroke=\"#000000\" d=\"M1297,-187C1297,-187 1022,-187 1022,-187 1016,-187 1010,-181 1010,-175 1010,-175 1010,-116 1010,-116 1010,-110 1016,-104 1022,-104 1022,-104 1297,-104 1297,-104 1303,-104 1309,-110 1309,-116 1309,-116 1309,-175 1309,-175 1309,-181 1303,-187 1297,-187\"/>\n<text text-anchor=\"start\" x=\"1120.5\" y=\"-171.8\" font-family=\"Helvetica,sans-Serif\" font-size=\"14.00\" fill=\"#000000\">State ≤ 13.5</text>\n<text text-anchor=\"start\" x=\"1121.5\" y=\"-156.8\" font-family=\"Helvetica,sans-Serif\" font-size=\"14.00\" fill=\"#000000\">gini = 0.198</text>\n<text text-anchor=\"start\" x=\"1115.5\" y=\"-141.8\" font-family=\"Helvetica,sans-Serif\" font-size=\"14.00\" fill=\"#000000\">samples = 18</text>\n<text text-anchor=\"start\" x=\"1106\" y=\"-126.8\" font-family=\"Helvetica,sans-Serif\" font-size=\"14.00\" fill=\"#000000\">value = [0, 2, 16]</text>\n<text text-anchor=\"start\" x=\"1018\" y=\"-111.8\" font-family=\"Helvetica,sans-Serif\" font-size=\"14.00\" fill=\"#000000\">class = Entertainment/ Favourite Recreation</text>\n</g>\n<!-- 8&#45;&gt;9 -->\n<g id=\"edge9\" class=\"edge\">\n<title>8&#45;&gt;9</title>\n<path fill=\"none\" stroke=\"#000000\" d=\"M1159.5,-222.8796C1159.5,-214.6838 1159.5,-205.9891 1159.5,-197.5013\"/>\n<polygon fill=\"#000000\" stroke=\"#000000\" points=\"1163.0001,-197.298 1159.5,-187.2981 1156.0001,-197.2981 1163.0001,-197.298\"/>\n</g>\n<!-- 12 -->\n<g id=\"node13\" class=\"node\">\n<title>12</title>\n<path fill=\"#c8f8dc\" stroke=\"#000000\" d=\"M1611.5,-187C1611.5,-187 1441.5,-187 1441.5,-187 1435.5,-187 1429.5,-181 1429.5,-175 1429.5,-175 1429.5,-116 1429.5,-116 1429.5,-110 1435.5,-104 1441.5,-104 1441.5,-104 1611.5,-104 1611.5,-104 1617.5,-104 1623.5,-110 1623.5,-116 1623.5,-116 1623.5,-175 1623.5,-175 1623.5,-181 1617.5,-187 1611.5,-187\"/>\n<text text-anchor=\"start\" x=\"1437.5\" y=\"-171.8\" font-family=\"Helvetica,sans-Serif\" font-size=\"14.00\" fill=\"#000000\">Willingness of product ≤ 6.5</text>\n<text text-anchor=\"start\" x=\"1493\" y=\"-156.8\" font-family=\"Helvetica,sans-Serif\" font-size=\"14.00\" fill=\"#000000\">gini = 0.63</text>\n<text text-anchor=\"start\" x=\"1482.5\" y=\"-141.8\" font-family=\"Helvetica,sans-Serif\" font-size=\"14.00\" fill=\"#000000\">samples = 35</text>\n<text text-anchor=\"start\" x=\"1469\" y=\"-126.8\" font-family=\"Helvetica,sans-Serif\" font-size=\"14.00\" fill=\"#000000\">value = [10, 17, 8]</text>\n<text text-anchor=\"start\" x=\"1445\" y=\"-111.8\" font-family=\"Helvetica,sans-Serif\" font-size=\"14.00\" fill=\"#000000\">class = Daily requirement</text>\n</g>\n<!-- 8&#45;&gt;12 -->\n<g id=\"edge12\" class=\"edge\">\n<title>8&#45;&gt;12</title>\n<path fill=\"none\" stroke=\"#000000\" d=\"M1287.6011,-222.9631C1330.7656,-208.967 1378.4429,-193.5076 1419.7787,-180.1045\"/>\n<polygon fill=\"#000000\" stroke=\"#000000\" points=\"1420.8848,-183.4253 1429.3176,-177.0114 1418.7256,-176.7666 1420.8848,-183.4253\"/>\n</g>\n<!-- 10 -->\n<g id=\"node11\" class=\"node\">\n<title>10</title>\n<path fill=\"#8139e5\" stroke=\"#000000\" d=\"M1195,-68C1195,-68 920,-68 920,-68 914,-68 908,-62 908,-56 908,-56 908,-12 908,-12 908,-6 914,0 920,0 920,0 1195,0 1195,0 1201,0 1207,-6 1207,-12 1207,-12 1207,-56 1207,-56 1207,-62 1201,-68 1195,-68\"/>\n<text text-anchor=\"start\" x=\"1028\" y=\"-52.8\" font-family=\"Helvetica,sans-Serif\" font-size=\"14.00\" fill=\"#000000\">gini = 0.0</text>\n<text text-anchor=\"start\" x=\"1013.5\" y=\"-37.8\" font-family=\"Helvetica,sans-Serif\" font-size=\"14.00\" fill=\"#000000\">samples = 14</text>\n<text text-anchor=\"start\" x=\"1004\" y=\"-22.8\" font-family=\"Helvetica,sans-Serif\" font-size=\"14.00\" fill=\"#000000\">value = [0, 0, 14]</text>\n<text text-anchor=\"start\" x=\"916\" y=\"-7.8\" font-family=\"Helvetica,sans-Serif\" font-size=\"14.00\" fill=\"#000000\">class = Entertainment/ Favourite Recreation</text>\n</g>\n<!-- 9&#45;&gt;10 -->\n<g id=\"edge10\" class=\"edge\">\n<title>9&#45;&gt;10</title>\n<path fill=\"none\" stroke=\"#000000\" d=\"M1121.519,-103.9815C1113.1114,-94.7908 1104.1979,-85.0472 1095.7785,-75.8436\"/>\n<polygon fill=\"#000000\" stroke=\"#000000\" points=\"1098.1766,-73.2797 1088.8443,-68.2637 1093.0117,-78.0045 1098.1766,-73.2797\"/>\n</g>\n<!-- 11 -->\n<g id=\"node12\" class=\"node\">\n<title>11</title>\n<path fill=\"#ffffff\" stroke=\"#000000\" d=\"M1392,-68C1392,-68 1237,-68 1237,-68 1231,-68 1225,-62 1225,-56 1225,-56 1225,-12 1225,-12 1225,-6 1231,0 1237,0 1237,0 1392,0 1392,0 1398,0 1404,-6 1404,-12 1404,-12 1404,-56 1404,-56 1404,-62 1398,-68 1392,-68\"/>\n<text text-anchor=\"start\" x=\"1285\" y=\"-52.8\" font-family=\"Helvetica,sans-Serif\" font-size=\"14.00\" fill=\"#000000\">gini = 0.5</text>\n<text text-anchor=\"start\" x=\"1275\" y=\"-37.8\" font-family=\"Helvetica,sans-Serif\" font-size=\"14.00\" fill=\"#000000\">samples = 4</text>\n<text text-anchor=\"start\" x=\"1265\" y=\"-22.8\" font-family=\"Helvetica,sans-Serif\" font-size=\"14.00\" fill=\"#000000\">value = [0, 2, 2]</text>\n<text text-anchor=\"start\" x=\"1233\" y=\"-7.8\" font-family=\"Helvetica,sans-Serif\" font-size=\"14.00\" fill=\"#000000\">class = Daily requirement</text>\n</g>\n<!-- 9&#45;&gt;11 -->\n<g id=\"edge11\" class=\"edge\">\n<title>9&#45;&gt;11</title>\n<path fill=\"none\" stroke=\"#000000\" d=\"M1217.2163,-103.9815C1230.7591,-94.2394 1245.1657,-83.8759 1258.6263,-74.193\"/>\n<polygon fill=\"#000000\" stroke=\"#000000\" points=\"1260.7949,-76.9446 1266.8689,-68.2637 1256.7072,-71.2621 1260.7949,-76.9446\"/>\n</g>\n<!-- 13 -->\n<g id=\"node14\" class=\"node\">\n<title>13</title>\n<path fill=\"#eeab7b\" stroke=\"#000000\" d=\"M1619,-68C1619,-68 1434,-68 1434,-68 1428,-68 1422,-62 1422,-56 1422,-56 1422,-12 1422,-12 1422,-6 1428,0 1434,0 1434,0 1619,0 1619,0 1625,0 1631,-6 1631,-12 1631,-12 1631,-56 1631,-56 1631,-62 1625,-68 1619,-68\"/>\n<text text-anchor=\"start\" x=\"1488.5\" y=\"-52.8\" font-family=\"Helvetica,sans-Serif\" font-size=\"14.00\" fill=\"#000000\">gini = 0.375</text>\n<text text-anchor=\"start\" x=\"1487\" y=\"-37.8\" font-family=\"Helvetica,sans-Serif\" font-size=\"14.00\" fill=\"#000000\">samples = 8</text>\n<text text-anchor=\"start\" x=\"1477\" y=\"-22.8\" font-family=\"Helvetica,sans-Serif\" font-size=\"14.00\" fill=\"#000000\">value = [6, 2, 0]</text>\n<text text-anchor=\"start\" x=\"1430\" y=\"-7.8\" font-family=\"Helvetica,sans-Serif\" font-size=\"14.00\" fill=\"#000000\">class = My personal fondness</text>\n</g>\n<!-- 12&#45;&gt;13 -->\n<g id=\"edge13\" class=\"edge\">\n<title>12&#45;&gt;13</title>\n<path fill=\"none\" stroke=\"#000000\" d=\"M1526.5,-103.9815C1526.5,-95.618 1526.5,-86.7965 1526.5,-78.3409\"/>\n<polygon fill=\"#000000\" stroke=\"#000000\" points=\"1530.0001,-78.2636 1526.5,-68.2637 1523.0001,-78.2637 1530.0001,-78.2636\"/>\n</g>\n<!-- 14 -->\n<g id=\"node15\" class=\"node\">\n<title>14</title>\n<path fill=\"#b6f5d1\" stroke=\"#000000\" d=\"M1816,-68C1816,-68 1661,-68 1661,-68 1655,-68 1649,-62 1649,-56 1649,-56 1649,-12 1649,-12 1649,-6 1655,0 1661,0 1661,0 1816,0 1816,0 1822,0 1828,-6 1828,-12 1828,-12 1828,-56 1828,-56 1828,-62 1822,-68 1816,-68\"/>\n<text text-anchor=\"start\" x=\"1700.5\" y=\"-52.8\" font-family=\"Helvetica,sans-Serif\" font-size=\"14.00\" fill=\"#000000\">gini = 0.582</text>\n<text text-anchor=\"start\" x=\"1694.5\" y=\"-37.8\" font-family=\"Helvetica,sans-Serif\" font-size=\"14.00\" fill=\"#000000\">samples = 27</text>\n<text text-anchor=\"start\" x=\"1685\" y=\"-22.8\" font-family=\"Helvetica,sans-Serif\" font-size=\"14.00\" fill=\"#000000\">value = [4, 15, 8]</text>\n<text text-anchor=\"start\" x=\"1657\" y=\"-7.8\" font-family=\"Helvetica,sans-Serif\" font-size=\"14.00\" fill=\"#000000\">class = Daily requirement</text>\n</g>\n<!-- 12&#45;&gt;14 -->\n<g id=\"edge14\" class=\"edge\">\n<title>12&#45;&gt;14</title>\n<path fill=\"none\" stroke=\"#000000\" d=\"M1605.441,-103.9815C1624.8521,-93.7724 1645.5606,-82.8809 1664.7177,-72.8053\"/>\n<polygon fill=\"#000000\" stroke=\"#000000\" points=\"1666.4701,-75.8383 1673.6915,-68.0856 1663.2117,-69.6429 1666.4701,-75.8383\"/>\n</g>\n</g>\n</svg>\n"
          },
          "metadata": {},
          "execution_count": 47
        }
      ]
    },
    {
      "cell_type": "code",
      "metadata": {
        "id": "DTINs5WF3C5r",
        "colab": {
          "base_uri": "https://localhost:8080/"
        },
        "outputId": "bd31e8d1-88c4-45ed-b97e-70ad8693b39e"
      },
      "source": [
        "# instantiate the DecisionTreeClassifier model with criterion entropy\n",
        "clf_en = DecisionTreeClassifier(criterion='entropy', max_depth=3, random_state=0)\n",
        "# fit the model\n",
        "clf_en.fit(X_train, y_train)"
      ],
      "execution_count": 48,
      "outputs": [
        {
          "output_type": "execute_result",
          "data": {
            "text/plain": [
              "DecisionTreeClassifier(criterion='entropy', max_depth=3, random_state=0)"
            ]
          },
          "metadata": {},
          "execution_count": 48
        }
      ]
    },
    {
      "cell_type": "code",
      "metadata": {
        "id": "Cq48sFMW3C0v"
      },
      "source": [
        "y_pred_en = clf_en.predict(X_test)"
      ],
      "execution_count": 49,
      "outputs": []
    },
    {
      "cell_type": "code",
      "metadata": {
        "id": "1s67nYyl3Cyi",
        "colab": {
          "base_uri": "https://localhost:8080/"
        },
        "outputId": "23eea573-9615-4eb0-933c-790670fa83a1"
      },
      "source": [
        "#printing accuracy score\n",
        "print('Model accuracy score with criterion entropy: {0:0.4f}'. format(accuracy_score(y_test, y_pred_en)))"
      ],
      "execution_count": 50,
      "outputs": [
        {
          "output_type": "stream",
          "name": "stdout",
          "text": [
            "Model accuracy score with criterion entropy: 0.7941\n"
          ]
        }
      ]
    },
    {
      "cell_type": "code",
      "metadata": {
        "id": "YDbSTeRc3Cwl"
      },
      "source": [
        "y_pred_train_en = clf_en.predict(X_train)\n",
        "#y_pred_train_en"
      ],
      "execution_count": 53,
      "outputs": []
    },
    {
      "cell_type": "code",
      "metadata": {
        "id": "BVCVHQSk3Csr",
        "colab": {
          "base_uri": "https://localhost:8080/"
        },
        "outputId": "8bee4c0e-82a0-4e6d-997e-3f0b4de9743b"
      },
      "source": [
        "print('Training-set accuracy score: {0:0.4f}'. format(accuracy_score(y_train, y_pred_train_en)))"
      ],
      "execution_count": 54,
      "outputs": [
        {
          "output_type": "stream",
          "name": "stdout",
          "text": [
            "Training-set accuracy score: 0.7500\n"
          ]
        }
      ]
    },
    {
      "cell_type": "code",
      "metadata": {
        "id": "d7jHYQOt3Cp9",
        "colab": {
          "base_uri": "https://localhost:8080/"
        },
        "outputId": "1bd30743-1fec-4432-94e7-d3838fd649dc"
      },
      "source": [
        "# print the scores on training and test set\n",
        "print('\\nTraining set score: {:.4f}'.format(clf_en.score(X_train, y_train)))\n",
        "print('\\nTest set score: {:.4f}'.format(clf_en.score(X_test, y_test)))"
      ],
      "execution_count": 55,
      "outputs": [
        {
          "output_type": "stream",
          "name": "stdout",
          "text": [
            "\n",
            "Training set score: 0.7500\n",
            "\n",
            "Test set score: 0.7941\n"
          ]
        }
      ]
    },
    {
      "cell_type": "code",
      "metadata": {
        "id": "GA1xInvX3o-2",
        "colab": {
          "base_uri": "https://localhost:8080/"
        },
        "outputId": "efc3769f-13c5-4df5-b084-7114d93e515b"
      },
      "source": [
        "# Print the Confusion Matrix and slice it into four pieces\n",
        "generated_matrix = confusion_matrix(y_test, y_pred_en)\n",
        "print('Confusion matrix\\n\\n', generated_matrix)"
      ],
      "execution_count": 58,
      "outputs": [
        {
          "output_type": "stream",
          "name": "stdout",
          "text": [
            "Confusion matrix\n",
            "\n",
            " [[ 3  3  0]\n",
            " [ 0 37  2]\n",
            " [ 0  9 14]]\n"
          ]
        }
      ]
    },
    {
      "cell_type": "code",
      "metadata": {
        "id": "-SFnNJ4j3pyB",
        "colab": {
          "base_uri": "https://localhost:8080/"
        },
        "outputId": "e4b45d2c-da86-46ee-ef1c-b3adb573de12"
      },
      "source": [
        "print(classification_report(y_test, y_pred_en))"
      ],
      "execution_count": 59,
      "outputs": [
        {
          "output_type": "stream",
          "name": "stdout",
          "text": [
            "                                     precision    recall  f1-score   support\n",
            "\n",
            "                  Daily requirement       1.00      0.50      0.67         6\n",
            "Entertainment/ Favourite Recreation       0.76      0.95      0.84        39\n",
            "               My personal fondness       0.88      0.61      0.72        23\n",
            "\n",
            "                           accuracy                           0.79        68\n",
            "                          macro avg       0.88      0.69      0.74        68\n",
            "                       weighted avg       0.82      0.79      0.78        68\n",
            "\n"
          ]
        }
      ]
    }
  ]
}